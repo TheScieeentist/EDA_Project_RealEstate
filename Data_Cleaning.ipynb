{
 "cells": [
  {
   "cell_type": "code",
   "execution_count": null,
   "id": "527cc252",
   "metadata": {},
   "outputs": [],
   "source": [
    "import warnings\n",
    "\n",
    "warnings.filterwarnings(\"ignore\")\n",
    "\n",
    "import pandas as pd\n",
    "import numpy as np\n",
    "import matplotlib.pyplot as plt\n",
    "import seaborn as sns\n",
    "import missingno as msno\n",
    "\n",
    "\n",
    "from matplotlib.ticker import PercentFormatter\n",
    "plt.rcParams.update({ \"figure.figsize\" : (8, 5),\"axes.facecolor\" : \"white\", \"axes.edgecolor\":  \"black\"})\n",
    "plt.rcParams[\"figure.facecolor\"]= \"w\"\n",
    "pd.plotting.register_matplotlib_converters()\n",
    "pd.set_option('display.float_format', lambda x: '%.3f' % x)"
   ]
  },
  {
   "cell_type": "code",
   "execution_count": null,
   "id": "35160830",
   "metadata": {},
   "outputs": [],
   "source": [
    "import psycopg2\n",
    "import os\n",
    "from dotenv import load_dotenv\n",
    "from sqlalchemy import create_engine\n",
    "\n",
    "#read the database string from the .env\n",
    "load_dotenv() # aufrufen der .env datei\n",
    "\n",
    "DB_STRING = os.getenv('DB_STRING') #abfragen der .env informationen \n",
    "stri_db = create_engine(DB_STRING) # Aufbau einer verbindung zur DB\n",
    "\n",
    "# Hier Fetche ich die ge-jointe Tabelle \n",
    "query_string = \"SET SCHEMA 'eda'; SELECT * FROM eda.king_county_house_details d LEFT JOIN king_county_house_sales s ON d.id = s.house_id;\" # SQL befehl zum joinen der Tabellen\n",
    "db_request = pd.read_sql(query_string, stri_db) # Die Daten Fetchen \n",
    "#db_request.to_csv('eda_project_MergedData.csv',index=False) # Speichern der gefetchten und ge-jointen Tabelle"
   ]
  },
  {
   "cell_type": "code",
   "execution_count": null,
   "id": "dc71f24c",
   "metadata": {},
   "outputs": [],
   "source": [
    "db_request.head(), db_request.describe(), db_request.columns"
   ]
  },
  {
   "cell_type": "code",
   "execution_count": null,
   "id": "3859eb6c",
   "metadata": {},
   "outputs": [],
   "source": [
    "#droping unnecessary or doubled columns\n",
    "db_request.drop('id', axis=1, inplace=True)\n",
    "db_request.columns"
   ]
  },
  {
   "cell_type": "code",
   "execution_count": null,
   "id": "eee93402",
   "metadata": {},
   "outputs": [],
   "source": [
    "# headers are ok"
   ]
  },
  {
   "cell_type": "code",
   "execution_count": null,
   "id": "ef73ed49",
   "metadata": {},
   "outputs": [],
   "source": [
    "# check how many duplicated rows exist in the data set - in particular for the \n",
    "# house_ids as one house might be sold multiple times\n",
    "\n",
    "db_request[['house_id', 'price']].duplicated().value_counts()\n",
    "\n",
    "grouped_df = db_request.groupby(['house_id', 'price'])['date'].count().reset_index(name='anzahl_verkäufe')\n",
    "doppelte_verkäufe = grouped_df[grouped_df['anzahl_verkäufe'] > 1]\n",
    "doppelte_verkäufe\n",
    "# no real duplicates as the duplicated house_ids do not have the same date of sale or price, \n",
    "# which means: they just have ben sold multiple times"
   ]
  },
  {
   "cell_type": "code",
   "execution_count": null,
   "id": "3ae2c13a",
   "metadata": {},
   "outputs": [],
   "source": [
    "# checking for missing data using missingno-libary\n",
    "\n",
    "msno.bar(db_request)"
   ]
  },
  {
   "cell_type": "code",
   "execution_count": null,
   "id": "ed6b9300",
   "metadata": {},
   "outputs": [],
   "source": [
    "# fill na in view\n",
    "view_imput = int(db_request['view'].mean())"
   ]
  },
  {
   "cell_type": "code",
   "execution_count": null,
   "id": "c723910a",
   "metadata": {},
   "outputs": [],
   "source": [
    "db_request.fillna({'view': view_imput}, inplace=True)\n",
    "db_request['view'].isna().sum()"
   ]
  },
  {
   "cell_type": "code",
   "execution_count": null,
   "id": "4d733189",
   "metadata": {},
   "outputs": [],
   "source": [
    "# dealing with 0 in in renovation year, making them to NaN as easier to plot AND making the years to clear integers\n",
    "db_request[\"yr_renovated\"] = (db_request[\"yr_renovated\"]) / 10.0\n",
    "db_request.loc[(db_request.yr_renovated == 0), 'yr_renovated'] = np.nan\n",
    "db_request['yr_renovated'] = db_request['yr_renovated'].astype(pd.Int64Dtype())\n",
    "db_request['yr_renovated'].unique()"
   ]
  },
  {
   "cell_type": "code",
   "execution_count": null,
   "id": "7ad0c9f5",
   "metadata": {},
   "outputs": [],
   "source": [
    "# checing for data types\n",
    "db_request.dtypes"
   ]
  },
  {
   "cell_type": "code",
   "execution_count": null,
   "id": "6459ddce",
   "metadata": {},
   "outputs": [],
   "source": [
    "# change date to timestamp\n",
    "db_request['date'] = pd.to_datetime(db_request['date'], format='%Y/%m/%d')\n",
    "type(db_request['date'][0])"
   ]
  },
  {
   "cell_type": "code",
   "execution_count": null,
   "id": "799d735d",
   "metadata": {},
   "outputs": [],
   "source": [
    "# bedrooms zu int\n",
    "db_request = db_request.astype({'bedrooms': int})\n",
    "\n",
    "# view zu int\n",
    "db_request = db_request.astype({'view': int})\n",
    "\n",
    "# prices integer\n",
    "db_request = db_request.astype({'price': int})"
   ]
  },
  {
   "cell_type": "code",
   "execution_count": null,
   "id": "99f7d1bd",
   "metadata": {},
   "outputs": [],
   "source": [
    "# waterfront 1 zu true und 0 zu false\n",
    "db_request['waterfront'].fillna(0, inplace=True)\n",
    "db_request['waterfront'] = db_request['waterfront'].map({1: True, 0: False})\n",
    "db_request['waterfront'].head()"
   ]
  },
  {
   "cell_type": "code",
   "execution_count": null,
   "id": "6290d6d6",
   "metadata": {},
   "outputs": [],
   "source": [
    "# zum speichern der gereinigten daten \n",
    "db_request.to_csv('./data/clean_eda_project_MergedData.csv',index=False)"
   ]
  }
 ],
 "metadata": {
  "language_info": {
   "name": "python"
  }
 },
 "nbformat": 4,
 "nbformat_minor": 5
}
