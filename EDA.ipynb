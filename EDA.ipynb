{
 "cells": [
  {
   "cell_type": "markdown",
   "metadata": {},
   "source": [
    "# EDA\n",
    "\n",
    "![](data:image/jpeg;base64,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)"
   ]
  },
  {
   "cell_type": "markdown",
   "metadata": {},
   "source": [
    "### My client is *Erin Robinson*! <br>\n",
    "Miss Robinson is a buyer with a vision to improve the conditions of the socioeconomic disadvantaged in Kings County. <br>\n",
    "Her aim is to:<br>\n",
    "* <span style=\"color:black\"> buy in a poorer district \n",
    "* <span style=\"color:black\"> probably want to renovate\n",
    "* <span style=\"color:black\"> re-sell with a minimal profit!\n",
    "\n",
    "\n",
    "Therefore, I will analyse my DB for:\n",
    "* <span style=\"color:black\"> zip codes, where houses are significantly cheaper compared to the average in the distance to the city center?\n",
    "* <span style=\"color:black\"> houses, which weren't renovated for a very long time and/or are in a bad (not worst) overall condition and/or have a low (not worst) overall grade? <br><span style=\"color:grey\"> *(Because: Miss Robinson aims to renovate houses to improve the living conditions of the people in that district. <br> \n",
    "If a house in very bad conditions it is cheaper to be wrecked and rebuilt. <br>\n",
    "A newly built house is to expensive for the people Miss Robinson is doing her buisness for and would either end up in loss for Miss Robinson <br>\n",
    "**or** with the inlfux of socioeconomic more advantaged people displacing the more disadvantaged ones!)*\n",
    "* <span style=\"color:black\"> investigate the relative profit per region a renovation does to estimate the \"minimal profit\"?"
   ]
  },
  {
   "cell_type": "markdown",
   "metadata": {},
   "source": [
    "## Hypotheses:\t<b>\n",
    "1. There are zipcodes, where the house-prices are significantly cheaper than the average house-price in Kings county. <b>\n",
    "2. The cheaper the houses are in relation to the average prices in that zipcode-region, the longer they have not been renovated. <b>\n",
    "3. Renovating a house increases its worth, independent of the region it is located in."
   ]
  },
  {
   "cell_type": "markdown",
   "metadata": {},
   "source": [
    "### Starting with importing needed libraries and fetching the data:"
   ]
  },
  {
   "cell_type": "code",
   "execution_count": 21,
   "metadata": {},
   "outputs": [],
   "source": [
    "# importing the necessary libaries:\n",
    "import warnings\n",
    "\n",
    "warnings.filterwarnings(\"ignore\")\n",
    "\n",
    "import pandas as pd\n",
    "import numpy as np\n",
    "import matplotlib.pyplot as plt\n",
    "import seaborn as sn \n",
    "import psycopg2\n",
    "import os\n",
    "from dotenv import load_dotenv\n",
    "from sqlalchemy import create_engine\n",
    "import missingno as msno\n",
    "import plotly.express as px\n",
    "\n",
    "# predefined code from neue fische to alter the float format and predefine figures?\n",
    "from matplotlib.ticker import PercentFormatter\n",
    "plt.rcParams.update({ \"figure.figsize\" : (8, 5),\"axes.facecolor\" : \"white\", \"axes.edgecolor\":  \"black\"})\n",
    "plt.rcParams[\"figure.facecolor\"]= \"w\"\n",
    "pd.plotting.register_matplotlib_converters()\n",
    "pd.set_option('display.float_format', lambda x: '%.3f' % x)"
   ]
  },
  {
   "cell_type": "code",
   "execution_count": 22,
   "metadata": {},
   "outputs": [],
   "source": [
    "#read the database string from the .env:\n",
    "load_dotenv() # loading of the .env file\n",
    "\n",
    "DB_STRING = os.getenv('DB_STRING') # calling the informations from .env\n",
    "stri_db = create_engine(DB_STRING) # connecting to the DB\n",
    "\n",
    "\n",
    "# fetching and joining the tables:\n",
    "query_string = \"SET SCHEMA 'eda'; SELECT * FROM eda.king_county_house_details d LEFT JOIN king_county_house_sales s ON d.id = s.house_id;\" # SQL query for join and to specify the data from the tables\n",
    "db_request = pd.read_sql(query_string, stri_db) # fetching the data and assigning a variable for the fetched dataframe \n",
    "#db_request.to_csv('eda_project_MergedData.csv',index=False) # possibility to save the cleaned dataframe for easier access in the future"
   ]
  },
  {
   "cell_type": "markdown",
   "metadata": {},
   "source": [
    "### Exploring the data:"
   ]
  },
  {
   "cell_type": "code",
   "execution_count": 23,
   "metadata": {},
   "outputs": [
    {
     "data": {
      "text/html": [
       "<div>\n",
       "<style scoped>\n",
       "    .dataframe tbody tr th:only-of-type {\n",
       "        vertical-align: middle;\n",
       "    }\n",
       "\n",
       "    .dataframe tbody tr th {\n",
       "        vertical-align: top;\n",
       "    }\n",
       "\n",
       "    .dataframe thead th {\n",
       "        text-align: right;\n",
       "    }\n",
       "</style>\n",
       "<table border=\"1\" class=\"dataframe\">\n",
       "  <thead>\n",
       "    <tr style=\"text-align: right;\">\n",
       "      <th></th>\n",
       "      <th>id</th>\n",
       "      <th>bedrooms</th>\n",
       "      <th>bathrooms</th>\n",
       "      <th>sqft_living</th>\n",
       "      <th>sqft_lot</th>\n",
       "      <th>floors</th>\n",
       "      <th>waterfront</th>\n",
       "      <th>view</th>\n",
       "      <th>condition</th>\n",
       "      <th>grade</th>\n",
       "      <th>...</th>\n",
       "      <th>yr_renovated</th>\n",
       "      <th>zipcode</th>\n",
       "      <th>lat</th>\n",
       "      <th>long</th>\n",
       "      <th>sqft_living15</th>\n",
       "      <th>sqft_lot15</th>\n",
       "      <th>date</th>\n",
       "      <th>price</th>\n",
       "      <th>house_id</th>\n",
       "      <th>id</th>\n",
       "    </tr>\n",
       "  </thead>\n",
       "  <tbody>\n",
       "    <tr>\n",
       "      <th>0</th>\n",
       "      <td>7129300520</td>\n",
       "      <td>3.000</td>\n",
       "      <td>1.000</td>\n",
       "      <td>1180.000</td>\n",
       "      <td>5650.000</td>\n",
       "      <td>1.000</td>\n",
       "      <td>NaN</td>\n",
       "      <td>0.000</td>\n",
       "      <td>3</td>\n",
       "      <td>7</td>\n",
       "      <td>...</td>\n",
       "      <td>0.000</td>\n",
       "      <td>98178</td>\n",
       "      <td>47.511</td>\n",
       "      <td>-122.257</td>\n",
       "      <td>1340.000</td>\n",
       "      <td>5650.000</td>\n",
       "      <td>2014-10-13</td>\n",
       "      <td>221900.000</td>\n",
       "      <td>7129300520</td>\n",
       "      <td>1</td>\n",
       "    </tr>\n",
       "    <tr>\n",
       "      <th>1</th>\n",
       "      <td>6414100192</td>\n",
       "      <td>3.000</td>\n",
       "      <td>2.250</td>\n",
       "      <td>2570.000</td>\n",
       "      <td>7242.000</td>\n",
       "      <td>2.000</td>\n",
       "      <td>0.000</td>\n",
       "      <td>0.000</td>\n",
       "      <td>3</td>\n",
       "      <td>7</td>\n",
       "      <td>...</td>\n",
       "      <td>19910.000</td>\n",
       "      <td>98125</td>\n",
       "      <td>47.721</td>\n",
       "      <td>-122.319</td>\n",
       "      <td>1690.000</td>\n",
       "      <td>7639.000</td>\n",
       "      <td>2014-12-09</td>\n",
       "      <td>538000.000</td>\n",
       "      <td>6414100192</td>\n",
       "      <td>2</td>\n",
       "    </tr>\n",
       "    <tr>\n",
       "      <th>2</th>\n",
       "      <td>5631500400</td>\n",
       "      <td>2.000</td>\n",
       "      <td>1.000</td>\n",
       "      <td>770.000</td>\n",
       "      <td>10000.000</td>\n",
       "      <td>1.000</td>\n",
       "      <td>0.000</td>\n",
       "      <td>0.000</td>\n",
       "      <td>3</td>\n",
       "      <td>6</td>\n",
       "      <td>...</td>\n",
       "      <td>NaN</td>\n",
       "      <td>98028</td>\n",
       "      <td>47.738</td>\n",
       "      <td>-122.233</td>\n",
       "      <td>2720.000</td>\n",
       "      <td>8062.000</td>\n",
       "      <td>2015-02-25</td>\n",
       "      <td>180000.000</td>\n",
       "      <td>5631500400</td>\n",
       "      <td>3</td>\n",
       "    </tr>\n",
       "    <tr>\n",
       "      <th>3</th>\n",
       "      <td>2487200875</td>\n",
       "      <td>4.000</td>\n",
       "      <td>3.000</td>\n",
       "      <td>1960.000</td>\n",
       "      <td>5000.000</td>\n",
       "      <td>1.000</td>\n",
       "      <td>0.000</td>\n",
       "      <td>0.000</td>\n",
       "      <td>5</td>\n",
       "      <td>7</td>\n",
       "      <td>...</td>\n",
       "      <td>0.000</td>\n",
       "      <td>98136</td>\n",
       "      <td>47.521</td>\n",
       "      <td>-122.393</td>\n",
       "      <td>1360.000</td>\n",
       "      <td>5000.000</td>\n",
       "      <td>2014-12-09</td>\n",
       "      <td>604000.000</td>\n",
       "      <td>2487200875</td>\n",
       "      <td>4</td>\n",
       "    </tr>\n",
       "    <tr>\n",
       "      <th>4</th>\n",
       "      <td>1954400510</td>\n",
       "      <td>3.000</td>\n",
       "      <td>2.000</td>\n",
       "      <td>1680.000</td>\n",
       "      <td>8080.000</td>\n",
       "      <td>1.000</td>\n",
       "      <td>0.000</td>\n",
       "      <td>0.000</td>\n",
       "      <td>3</td>\n",
       "      <td>8</td>\n",
       "      <td>...</td>\n",
       "      <td>0.000</td>\n",
       "      <td>98074</td>\n",
       "      <td>47.617</td>\n",
       "      <td>-122.045</td>\n",
       "      <td>1800.000</td>\n",
       "      <td>7503.000</td>\n",
       "      <td>2015-02-18</td>\n",
       "      <td>510000.000</td>\n",
       "      <td>1954400510</td>\n",
       "      <td>5</td>\n",
       "    </tr>\n",
       "  </tbody>\n",
       "</table>\n",
       "<p>5 rows × 23 columns</p>\n",
       "</div>"
      ],
      "text/plain": [
       "           id  bedrooms  bathrooms  sqft_living  sqft_lot  floors  waterfront  \\\n",
       "0  7129300520     3.000      1.000     1180.000  5650.000   1.000         NaN   \n",
       "1  6414100192     3.000      2.250     2570.000  7242.000   2.000       0.000   \n",
       "2  5631500400     2.000      1.000      770.000 10000.000   1.000       0.000   \n",
       "3  2487200875     4.000      3.000     1960.000  5000.000   1.000       0.000   \n",
       "4  1954400510     3.000      2.000     1680.000  8080.000   1.000       0.000   \n",
       "\n",
       "   view  condition  grade  ...  yr_renovated  zipcode    lat     long  \\\n",
       "0 0.000          3      7  ...         0.000    98178 47.511 -122.257   \n",
       "1 0.000          3      7  ...     19910.000    98125 47.721 -122.319   \n",
       "2 0.000          3      6  ...           NaN    98028 47.738 -122.233   \n",
       "3 0.000          5      7  ...         0.000    98136 47.521 -122.393   \n",
       "4 0.000          3      8  ...         0.000    98074 47.617 -122.045   \n",
       "\n",
       "   sqft_living15  sqft_lot15        date      price    house_id id  \n",
       "0       1340.000    5650.000  2014-10-13 221900.000  7129300520  1  \n",
       "1       1690.000    7639.000  2014-12-09 538000.000  6414100192  2  \n",
       "2       2720.000    8062.000  2015-02-25 180000.000  5631500400  3  \n",
       "3       1360.000    5000.000  2014-12-09 604000.000  2487200875  4  \n",
       "4       1800.000    7503.000  2015-02-18 510000.000  1954400510  5  \n",
       "\n",
       "[5 rows x 23 columns]"
      ]
     },
     "execution_count": 23,
     "metadata": {},
     "output_type": "execute_result"
    }
   ],
   "source": [
    "db_request.head()"
   ]
  },
  {
   "cell_type": "code",
   "execution_count": 24,
   "metadata": {},
   "outputs": [
    {
     "data": {
      "text/html": [
       "<div>\n",
       "<style scoped>\n",
       "    .dataframe tbody tr th:only-of-type {\n",
       "        vertical-align: middle;\n",
       "    }\n",
       "\n",
       "    .dataframe tbody tr th {\n",
       "        vertical-align: top;\n",
       "    }\n",
       "\n",
       "    .dataframe thead th {\n",
       "        text-align: right;\n",
       "    }\n",
       "</style>\n",
       "<table border=\"1\" class=\"dataframe\">\n",
       "  <thead>\n",
       "    <tr style=\"text-align: right;\">\n",
       "      <th></th>\n",
       "      <th>id</th>\n",
       "      <th>bedrooms</th>\n",
       "      <th>bathrooms</th>\n",
       "      <th>sqft_living</th>\n",
       "      <th>sqft_lot</th>\n",
       "      <th>floors</th>\n",
       "      <th>waterfront</th>\n",
       "      <th>view</th>\n",
       "      <th>condition</th>\n",
       "      <th>grade</th>\n",
       "      <th>...</th>\n",
       "      <th>yr_built</th>\n",
       "      <th>yr_renovated</th>\n",
       "      <th>zipcode</th>\n",
       "      <th>lat</th>\n",
       "      <th>long</th>\n",
       "      <th>sqft_living15</th>\n",
       "      <th>sqft_lot15</th>\n",
       "      <th>price</th>\n",
       "      <th>house_id</th>\n",
       "      <th>id</th>\n",
       "    </tr>\n",
       "  </thead>\n",
       "  <tbody>\n",
       "    <tr>\n",
       "      <th>count</th>\n",
       "      <td>21597.000</td>\n",
       "      <td>21597.000</td>\n",
       "      <td>21597.000</td>\n",
       "      <td>21597.000</td>\n",
       "      <td>21597.000</td>\n",
       "      <td>21597.000</td>\n",
       "      <td>19206.000</td>\n",
       "      <td>21534.000</td>\n",
       "      <td>21597.000</td>\n",
       "      <td>21597.000</td>\n",
       "      <td>...</td>\n",
       "      <td>21597.000</td>\n",
       "      <td>17749.000</td>\n",
       "      <td>21597.000</td>\n",
       "      <td>21597.000</td>\n",
       "      <td>21597.000</td>\n",
       "      <td>21597.000</td>\n",
       "      <td>21597.000</td>\n",
       "      <td>21597.000</td>\n",
       "      <td>21597.000</td>\n",
       "      <td>21597.000</td>\n",
       "    </tr>\n",
       "    <tr>\n",
       "      <th>mean</th>\n",
       "      <td>4580474287.771</td>\n",
       "      <td>3.373</td>\n",
       "      <td>2.116</td>\n",
       "      <td>2080.322</td>\n",
       "      <td>15099.409</td>\n",
       "      <td>1.494</td>\n",
       "      <td>0.008</td>\n",
       "      <td>0.234</td>\n",
       "      <td>3.410</td>\n",
       "      <td>7.658</td>\n",
       "      <td>...</td>\n",
       "      <td>1971.000</td>\n",
       "      <td>836.651</td>\n",
       "      <td>98077.952</td>\n",
       "      <td>47.560</td>\n",
       "      <td>-122.214</td>\n",
       "      <td>1986.620</td>\n",
       "      <td>12758.284</td>\n",
       "      <td>540296.574</td>\n",
       "      <td>4580474287.771</td>\n",
       "      <td>10799.000</td>\n",
       "    </tr>\n",
       "    <tr>\n",
       "      <th>std</th>\n",
       "      <td>2876735715.748</td>\n",
       "      <td>0.926</td>\n",
       "      <td>0.769</td>\n",
       "      <td>918.106</td>\n",
       "      <td>41412.637</td>\n",
       "      <td>0.540</td>\n",
       "      <td>0.087</td>\n",
       "      <td>0.766</td>\n",
       "      <td>0.651</td>\n",
       "      <td>1.173</td>\n",
       "      <td>...</td>\n",
       "      <td>29.375</td>\n",
       "      <td>4000.111</td>\n",
       "      <td>53.513</td>\n",
       "      <td>0.139</td>\n",
       "      <td>0.141</td>\n",
       "      <td>685.230</td>\n",
       "      <td>27274.442</td>\n",
       "      <td>367368.140</td>\n",
       "      <td>2876735715.748</td>\n",
       "      <td>6234.661</td>\n",
       "    </tr>\n",
       "    <tr>\n",
       "      <th>min</th>\n",
       "      <td>1000102.000</td>\n",
       "      <td>1.000</td>\n",
       "      <td>0.500</td>\n",
       "      <td>370.000</td>\n",
       "      <td>520.000</td>\n",
       "      <td>1.000</td>\n",
       "      <td>0.000</td>\n",
       "      <td>0.000</td>\n",
       "      <td>1.000</td>\n",
       "      <td>3.000</td>\n",
       "      <td>...</td>\n",
       "      <td>1900.000</td>\n",
       "      <td>0.000</td>\n",
       "      <td>98001.000</td>\n",
       "      <td>47.156</td>\n",
       "      <td>-122.519</td>\n",
       "      <td>399.000</td>\n",
       "      <td>651.000</td>\n",
       "      <td>78000.000</td>\n",
       "      <td>1000102.000</td>\n",
       "      <td>1.000</td>\n",
       "    </tr>\n",
       "    <tr>\n",
       "      <th>25%</th>\n",
       "      <td>2123049175.000</td>\n",
       "      <td>3.000</td>\n",
       "      <td>1.750</td>\n",
       "      <td>1430.000</td>\n",
       "      <td>5040.000</td>\n",
       "      <td>1.000</td>\n",
       "      <td>0.000</td>\n",
       "      <td>0.000</td>\n",
       "      <td>3.000</td>\n",
       "      <td>7.000</td>\n",
       "      <td>...</td>\n",
       "      <td>1951.000</td>\n",
       "      <td>0.000</td>\n",
       "      <td>98033.000</td>\n",
       "      <td>47.471</td>\n",
       "      <td>-122.328</td>\n",
       "      <td>1490.000</td>\n",
       "      <td>5100.000</td>\n",
       "      <td>322000.000</td>\n",
       "      <td>2123049175.000</td>\n",
       "      <td>5400.000</td>\n",
       "    </tr>\n",
       "    <tr>\n",
       "      <th>50%</th>\n",
       "      <td>3904930410.000</td>\n",
       "      <td>3.000</td>\n",
       "      <td>2.250</td>\n",
       "      <td>1910.000</td>\n",
       "      <td>7618.000</td>\n",
       "      <td>1.500</td>\n",
       "      <td>0.000</td>\n",
       "      <td>0.000</td>\n",
       "      <td>3.000</td>\n",
       "      <td>7.000</td>\n",
       "      <td>...</td>\n",
       "      <td>1975.000</td>\n",
       "      <td>0.000</td>\n",
       "      <td>98065.000</td>\n",
       "      <td>47.572</td>\n",
       "      <td>-122.231</td>\n",
       "      <td>1840.000</td>\n",
       "      <td>7620.000</td>\n",
       "      <td>450000.000</td>\n",
       "      <td>3904930410.000</td>\n",
       "      <td>10799.000</td>\n",
       "    </tr>\n",
       "    <tr>\n",
       "      <th>75%</th>\n",
       "      <td>7308900490.000</td>\n",
       "      <td>4.000</td>\n",
       "      <td>2.500</td>\n",
       "      <td>2550.000</td>\n",
       "      <td>10685.000</td>\n",
       "      <td>2.000</td>\n",
       "      <td>0.000</td>\n",
       "      <td>0.000</td>\n",
       "      <td>4.000</td>\n",
       "      <td>8.000</td>\n",
       "      <td>...</td>\n",
       "      <td>1997.000</td>\n",
       "      <td>0.000</td>\n",
       "      <td>98118.000</td>\n",
       "      <td>47.678</td>\n",
       "      <td>-122.125</td>\n",
       "      <td>2360.000</td>\n",
       "      <td>10083.000</td>\n",
       "      <td>645000.000</td>\n",
       "      <td>7308900490.000</td>\n",
       "      <td>16198.000</td>\n",
       "    </tr>\n",
       "    <tr>\n",
       "      <th>max</th>\n",
       "      <td>9900000190.000</td>\n",
       "      <td>33.000</td>\n",
       "      <td>8.000</td>\n",
       "      <td>13540.000</td>\n",
       "      <td>1651359.000</td>\n",
       "      <td>3.500</td>\n",
       "      <td>1.000</td>\n",
       "      <td>4.000</td>\n",
       "      <td>5.000</td>\n",
       "      <td>13.000</td>\n",
       "      <td>...</td>\n",
       "      <td>2015.000</td>\n",
       "      <td>20150.000</td>\n",
       "      <td>98199.000</td>\n",
       "      <td>47.778</td>\n",
       "      <td>-121.315</td>\n",
       "      <td>6210.000</td>\n",
       "      <td>871200.000</td>\n",
       "      <td>7700000.000</td>\n",
       "      <td>9900000190.000</td>\n",
       "      <td>21597.000</td>\n",
       "    </tr>\n",
       "  </tbody>\n",
       "</table>\n",
       "<p>8 rows × 22 columns</p>\n",
       "</div>"
      ],
      "text/plain": [
       "                  id  bedrooms  bathrooms  sqft_living    sqft_lot    floors  \\\n",
       "count      21597.000 21597.000  21597.000    21597.000   21597.000 21597.000   \n",
       "mean  4580474287.771     3.373      2.116     2080.322   15099.409     1.494   \n",
       "std   2876735715.748     0.926      0.769      918.106   41412.637     0.540   \n",
       "min      1000102.000     1.000      0.500      370.000     520.000     1.000   \n",
       "25%   2123049175.000     3.000      1.750     1430.000    5040.000     1.000   \n",
       "50%   3904930410.000     3.000      2.250     1910.000    7618.000     1.500   \n",
       "75%   7308900490.000     4.000      2.500     2550.000   10685.000     2.000   \n",
       "max   9900000190.000    33.000      8.000    13540.000 1651359.000     3.500   \n",
       "\n",
       "       waterfront      view  condition     grade  ...  yr_built  yr_renovated  \\\n",
       "count   19206.000 21534.000  21597.000 21597.000  ... 21597.000     17749.000   \n",
       "mean        0.008     0.234      3.410     7.658  ...  1971.000       836.651   \n",
       "std         0.087     0.766      0.651     1.173  ...    29.375      4000.111   \n",
       "min         0.000     0.000      1.000     3.000  ...  1900.000         0.000   \n",
       "25%         0.000     0.000      3.000     7.000  ...  1951.000         0.000   \n",
       "50%         0.000     0.000      3.000     7.000  ...  1975.000         0.000   \n",
       "75%         0.000     0.000      4.000     8.000  ...  1997.000         0.000   \n",
       "max         1.000     4.000      5.000    13.000  ...  2015.000     20150.000   \n",
       "\n",
       "        zipcode       lat      long  sqft_living15  sqft_lot15       price  \\\n",
       "count 21597.000 21597.000 21597.000      21597.000   21597.000   21597.000   \n",
       "mean  98077.952    47.560  -122.214       1986.620   12758.284  540296.574   \n",
       "std      53.513     0.139     0.141        685.230   27274.442  367368.140   \n",
       "min   98001.000    47.156  -122.519        399.000     651.000   78000.000   \n",
       "25%   98033.000    47.471  -122.328       1490.000    5100.000  322000.000   \n",
       "50%   98065.000    47.572  -122.231       1840.000    7620.000  450000.000   \n",
       "75%   98118.000    47.678  -122.125       2360.000   10083.000  645000.000   \n",
       "max   98199.000    47.778  -121.315       6210.000  871200.000 7700000.000   \n",
       "\n",
       "            house_id        id  \n",
       "count      21597.000 21597.000  \n",
       "mean  4580474287.771 10799.000  \n",
       "std   2876735715.748  6234.661  \n",
       "min      1000102.000     1.000  \n",
       "25%   2123049175.000  5400.000  \n",
       "50%   3904930410.000 10799.000  \n",
       "75%   7308900490.000 16198.000  \n",
       "max   9900000190.000 21597.000  \n",
       "\n",
       "[8 rows x 22 columns]"
      ]
     },
     "execution_count": 24,
     "metadata": {},
     "output_type": "execute_result"
    }
   ],
   "source": [
    "db_request.describe()"
   ]
  },
  {
   "cell_type": "code",
   "execution_count": 25,
   "metadata": {},
   "outputs": [
    {
     "data": {
      "text/plain": [
       "Index(['id', 'bedrooms', 'bathrooms', 'sqft_living', 'sqft_lot', 'floors',\n",
       "       'waterfront', 'view', 'condition', 'grade', 'sqft_above',\n",
       "       'sqft_basement', 'yr_built', 'yr_renovated', 'zipcode', 'lat', 'long',\n",
       "       'sqft_living15', 'sqft_lot15', 'date', 'price', 'house_id', 'id'],\n",
       "      dtype='object')"
      ]
     },
     "execution_count": 25,
     "metadata": {},
     "output_type": "execute_result"
    }
   ],
   "source": [
    "db_request.columns"
   ]
  },
  {
   "cell_type": "code",
   "execution_count": 26,
   "metadata": {},
   "outputs": [
    {
     "data": {
      "text/plain": [
       "id                 int64\n",
       "bedrooms         float64\n",
       "bathrooms        float64\n",
       "sqft_living      float64\n",
       "sqft_lot         float64\n",
       "floors           float64\n",
       "waterfront       float64\n",
       "view             float64\n",
       "condition          int64\n",
       "grade              int64\n",
       "sqft_above       float64\n",
       "sqft_basement    float64\n",
       "yr_built           int64\n",
       "yr_renovated     float64\n",
       "zipcode            int64\n",
       "lat              float64\n",
       "long             float64\n",
       "sqft_living15    float64\n",
       "sqft_lot15       float64\n",
       "date              object\n",
       "price            float64\n",
       "house_id           int64\n",
       "id                 int64\n",
       "dtype: object"
      ]
     },
     "execution_count": 26,
     "metadata": {},
     "output_type": "execute_result"
    }
   ],
   "source": [
    "# checking data types\n",
    "db_request.dtypes"
   ]
  },
  {
   "cell_type": "code",
   "execution_count": 27,
   "metadata": {},
   "outputs": [
    {
     "data": {
      "text/plain": [
       "<Axes: >"
      ]
     },
     "execution_count": 27,
     "metadata": {},
     "output_type": "execute_result"
    },
    {
     "data": {
      "image/png": "[encoded data removed]",
      "text/plain": [
       "<Figure size 2500x1000 with 3 Axes>"
      ]
     },
     "metadata": {},
     "output_type": "display_data"
    }
   ],
   "source": [
    "# checking for missing data using missingno:\n",
    "msno.bar(db_request)"
   ]
  },
  {
   "cell_type": "code",
   "execution_count": 28,
   "metadata": {},
   "outputs": [
    {
     "data": {
      "text/html": [
       "<div>\n",
       "<style scoped>\n",
       "    .dataframe tbody tr th:only-of-type {\n",
       "        vertical-align: middle;\n",
       "    }\n",
       "\n",
       "    .dataframe tbody tr th {\n",
       "        vertical-align: top;\n",
       "    }\n",
       "\n",
       "    .dataframe thead th {\n",
       "        text-align: right;\n",
       "    }\n",
       "</style>\n",
       "<table border=\"1\" class=\"dataframe\">\n",
       "  <thead>\n",
       "    <tr style=\"text-align: right;\">\n",
       "      <th></th>\n",
       "      <th>house_id</th>\n",
       "      <th>price</th>\n",
       "      <th>trades_count</th>\n",
       "    </tr>\n",
       "  </thead>\n",
       "  <tbody>\n",
       "    <tr>\n",
       "      <th>4580</th>\n",
       "      <td>1825069031</td>\n",
       "      <td>550000.000</td>\n",
       "      <td>2</td>\n",
       "    </tr>\n",
       "    <tr>\n",
       "      <th>14389</th>\n",
       "      <td>6308000010</td>\n",
       "      <td>585000.000</td>\n",
       "      <td>2</td>\n",
       "    </tr>\n",
       "    <tr>\n",
       "      <th>18940</th>\n",
       "      <td>8648900110</td>\n",
       "      <td>555000.000</td>\n",
       "      <td>2</td>\n",
       "    </tr>\n",
       "  </tbody>\n",
       "</table>\n",
       "</div>"
      ],
      "text/plain": [
       "         house_id      price  trades_count\n",
       "4580   1825069031 550000.000             2\n",
       "14389  6308000010 585000.000             2\n",
       "18940  8648900110 555000.000             2"
      ]
     },
     "execution_count": 28,
     "metadata": {},
     "output_type": "execute_result"
    }
   ],
   "source": [
    "# check how many duplicated rows exist in the data set - in particular for the \n",
    "# house_ids as one house might be sold multiple times\n",
    "\n",
    "db_request[['house_id', 'price']].duplicated().value_counts()\n",
    "\n",
    "grp_trades_df = db_request.groupby(['house_id','price'])['date'].count().reset_index(name='trades_count')\n",
    "multi_trades = grp_trades_df[grp_trades_df['trades_count'] > 1]\n",
    "multi_trades\n",
    "# no real duplicates as the duplicated house_ids do not have the same date of sale or price, \n",
    "# which means: they just have been sold multiple times\n"
   ]
  },
  {
   "cell_type": "markdown",
   "metadata": {},
   "source": [
    "### Start of data cleaning"
   ]
  },
  {
   "cell_type": "code",
   "execution_count": 29,
   "metadata": {},
   "outputs": [],
   "source": [
    "#droping unnecessary or doubled columns, column \"id\" is in multiple times and identical with \"house_id\"\n",
    "db_request.drop('id', axis=1, inplace=True)"
   ]
  },
  {
   "cell_type": "code",
   "execution_count": 30,
   "metadata": {},
   "outputs": [],
   "source": [
    "# headers are formated as needed\n"
   ]
  },
  {
   "cell_type": "code",
   "execution_count": 31,
   "metadata": {},
   "outputs": [
    {
     "data": {
      "text/plain": [
       "0   2014-10-13\n",
       "1   2014-12-09\n",
       "2   2015-02-25\n",
       "3   2014-12-09\n",
       "4   2015-02-18\n",
       "Name: date, dtype: datetime64[ns]"
      ]
     },
     "execution_count": 31,
     "metadata": {},
     "output_type": "execute_result"
    }
   ],
   "source": [
    "# change date to timestamp\n",
    "db_request['date'] = pd.to_datetime(db_request['date'], format='%Y/%m/%d')\n",
    "type(db_request['date'][0])\n",
    "db_request['date'].head()"
   ]
  },
  {
   "cell_type": "code",
   "execution_count": 32,
   "metadata": {},
   "outputs": [],
   "source": [
    "# fill na in view\n",
    "view_imput = int(db_request['view'].mean())"
   ]
  },
  {
   "cell_type": "code",
   "execution_count": 33,
   "metadata": {},
   "outputs": [],
   "source": [
    "db_request.fillna({'view': view_imput}, inplace=True)"
   ]
  },
  {
   "cell_type": "code",
   "execution_count": 34,
   "metadata": {},
   "outputs": [
    {
     "data": {
      "text/plain": [
       "np.int64(0)"
      ]
     },
     "execution_count": 34,
     "metadata": {},
     "output_type": "execute_result"
    }
   ],
   "source": [
    "db_request['view'].isna().sum()"
   ]
  },
  {
   "cell_type": "code",
   "execution_count": 35,
   "metadata": {},
   "outputs": [],
   "source": [
    "# bedrooms zu int\n",
    "db_request = db_request.astype({'bedrooms': int})\n",
    "\n",
    "# view  zu int\n",
    "db_request = db_request.astype({'view': int})\n",
    "\n",
    "# prices to integer, as decimal digits are bad for the plots\n",
    "db_request = db_request.astype({'price': int})"
   ]
  },
  {
   "cell_type": "code",
   "execution_count": 36,
   "metadata": {},
   "outputs": [
    {
     "data": {
      "text/plain": [
       "np.int64(20853)"
      ]
     },
     "execution_count": 36,
     "metadata": {},
     "output_type": "execute_result"
    }
   ],
   "source": [
    "# dealing with na in renovation year\n",
    "db_request[\"yr_renovated\"] = (db_request[\"yr_renovated\"]) / 10.0\n",
    "db_request.loc[(db_request.yr_renovated == 0), 'yr_renovated'] = np.nan\n",
    "db_request['yr_renovated'] = db_request['yr_renovated'].astype(pd.Int64Dtype())\n",
    "\n",
    "db_request['yr_renovated'].isna().sum()"
   ]
  },
  {
   "cell_type": "code",
   "execution_count": 37,
   "metadata": {},
   "outputs": [
    {
     "data": {
      "text/plain": [
       "0    False\n",
       "1    False\n",
       "2    False\n",
       "3    False\n",
       "4    False\n",
       "Name: waterfront, dtype: bool"
      ]
     },
     "execution_count": 37,
     "metadata": {},
     "output_type": "execute_result"
    }
   ],
   "source": [
    "# waterfront 1 zu true und 0 zu false, also I wont need this column\n",
    "db_request['waterfront'].fillna(0, inplace=True)\n",
    "db_request['waterfront'] = db_request['waterfront'].map({1: True, 0: False})\n",
    "db_request['waterfront'].head()\n"
   ]
  },
  {
   "cell_type": "code",
   "execution_count": 38,
   "metadata": {},
   "outputs": [
    {
     "data": {
      "text/plain": [
       "<seaborn.axisgrid.FacetGrid at 0x78766c1c57d0>"
      ]
     },
     "execution_count": 38,
     "metadata": {},
     "output_type": "execute_result"
    },
    {
     "data": {
      "image/png": "[encoded data removed]",
      "text/plain": [
       "<Figure size 500x500 with 1 Axes>"
      ]
     },
     "metadata": {},
     "output_type": "display_data"
    }
   ],
   "source": [
    "# creating boxplots and scatterplotts to identify outliners in some columns\n",
    "\n",
    "sns.set_style(\"whitegrid\")\n",
    "\n",
    "sns.catplot(\n",
    "    data=db_request,y='bedrooms',\n",
    "    kind='box', \n",
    "    palette=\"colorblind\")"
   ]
  },
  {
   "cell_type": "code",
   "execution_count": 39,
   "metadata": {},
   "outputs": [
    {
     "data": {
      "text/plain": [
       "<seaborn.axisgrid.FacetGrid at 0x78766c38c850>"
      ]
     },
     "execution_count": 39,
     "metadata": {},
     "output_type": "execute_result"
    },
    {
     "data": {
      "image/png": "[encoded data removed]",
      "text/plain": [
       "<Figure size 500x500 with 1 Axes>"
      ]
     },
     "metadata": {},
     "output_type": "display_data"
    }
   ],
   "source": [
    "sns.catplot(\n",
    "    data=db_request,y='bathrooms',\n",
    "    kind='box', \n",
    "    palette=\"colorblind\")"
   ]
  },
  {
   "cell_type": "code",
   "execution_count": 40,
   "metadata": {},
   "outputs": [
    {
     "data": {
      "text/plain": [
       "<seaborn.axisgrid.FacetGrid at 0x78766c3ebc90>"
      ]
     },
     "execution_count": 40,
     "metadata": {},
     "output_type": "execute_result"
    },
    {
     "data": {
      "image/png": "[encoded data removed]",
      "text/plain": [
       "<Figure size 500x500 with 1 Axes>"
      ]
     },
     "metadata": {},
     "output_type": "display_data"
    }
   ],
   "source": [
    "sns.catplot(\n",
    "    data=db_request,y='floors',\n",
    "    kind='box', \n",
    "    palette=\"colorblind\")"
   ]
  },
  {
   "cell_type": "code",
   "execution_count": 41,
   "metadata": {},
   "outputs": [
    {
     "data": {
      "text/plain": [
       "<Axes: xlabel='bedrooms', ylabel='price'>"
      ]
     },
     "execution_count": 41,
     "metadata": {},
     "output_type": "execute_result"
    },
    {
     "data": {
      "image/png": "[encoded data removed]",
      "text/plain": [
       "<Figure size 800x500 with 1 Axes>"
      ]
     },
     "metadata": {},
     "output_type": "display_data"
    }
   ],
   "source": [
    "sns.scatterplot(data=db_request, x='bedrooms', y='price')"
   ]
  },
  {
   "cell_type": "code",
   "execution_count": 42,
   "metadata": {},
   "outputs": [
    {
     "data": {
      "application/vnd.plotly.v1+json": {
       "config": {
        "plotlyServerURL": "https://plot.ly"
       },
       "data": [
        {
         "hovertemplate": "lat=%{lat}<br>long=%{lon}<br>condition=%{marker.color}<extra></extra>",
         "lat": {
          "bdata": "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",
          "dtype": "f8"
         },
         "legendgroup": "",
         "lon": {
          "bdata": "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",
          "dtype": "f8"
         },
         "marker": {
          "color": {
           "bdata": "AwMDBQMDAwMDAwMEBAQDAwMEBAQEAwMDBAUDBQMDAwMEBAMDAQQCAwMDAwMEAwMEBAUDBAQDAwMDAwQDBAMFAwMFAwMEAwQEBQMFBAMDBAMDAwMDAwMFAwQDAwQDAwMDAwQFAwUEBAMDBAQEBAQDBQQDAwMDBAMEAwMDBQMDAwMFAwQDAwMDBAMEAwMDBAQEBAQDAwQDAwMEAwMEAwMDBAMDAwMEAwUDBAUDBAMDBAMDAwQDAwQFAwMEBAMEAwMDBAQDAwUDAwQEAwMEBAQDAwMDAwMDAwMDAwMDBAMDAwQDBQMEBAMDBQMDBQMFAwMEBAMCBAQDAwMEBAQDAwMDBQQEAwMDBAMDBQQDAwMDBAQEAwMDBQMDAwQDBQMEAwMDAwQEBAMDBQMDAwMDAwMEAwQEBAMEBQUDBQMDAwUEBAMDAwMDAwMDBAIEAwQDAwUDAwUDAwQDAwQDAwMEBAMDAwQFBAUDBAMDAwQDAwQDAwMEAwMFBQMDAwMDAwMBAwMDAwQEAwMDAwQDAwQFBAEDBAMEBAMDAwMDAwQDAwQDAwQDBQMDAwUDBAMFBAQDAwMDBQMDAwMDAwMFAwMEBAMDAwMFAwMEBAQDAwQFBQMEAwMDAgMDBAMDAwMDAwMDAwMDAwQEAwMEAwMDBAQEBQQDAwMEBAMDAwQDBAMEBAQDBAMEAwUEAwMFAwUDAwQDBAMDAwMDAwMEBAQDBAMDBAMEAwQDBAMEBAQFAwQFAwMDBAMDBAMDAwMEBQMEAwMEBQMEAwMDBAMEBAMEAwMEBAUDBAMDAwMDAwMEAwMDAwMFAwMDAwMEBAMEAwMDAwMDAwQEBAQDBAMEBQQFAwMDBAUDBQMDBAMDAwMDAwMDBAMEAwMEAwMEAwMDAwMDAwMEBQQEBQQDAwQDAwMEAwMEAwMDAwMDAwUDAwMDBQMDAwMDAgMDBAQDBQQDBAMEAwUFAwMDAwUEAwMFBAMDAwUDAwQDBAQEBAMDAwQDAwMEAwQDAwUFAwUDBAMEBAMDAwMFAwQFBQMDBAMDBAQDAwMFBQUDBAQEAwQEBAQDAwMDAwMFAwQDBQMDAwMDBQMDBAMDAwMDAwQDAwQDBQQEAwUDAwMDBAQDBAQDAwQDAwMEAwMEBAMDBAMEAwMDAwMEBQQDAwMDAwQDAwQEAwMFAwMDAwMDAwIDBQUDBAMDBAMDAwMDAwQDBAQDAwMDBAUDBQUEBAMDBAMEAwMDBQMDBAQDAwQDAwMDAwQDBQQDBAMDAwQFAwUEAwMDAwMDAwMDAwMEBQMFAwMFAwMDAwMEBAQEAwMDBAQEBAQEAwMDAwMDBAMEBAMDAwQDAwMDAwMDAwMEAwMDBAUEBAQDAwMDBQMEBAMEBQQCBAQDAwQDBQQDAwMDAwQEAwMDAwQEAwMDAwMDBAMEAwMEBAMEAwMDBAMDAwMDBAQDBAUEAwMDBAMEAwUFAwQEAwMEAwQDBAQDBAMDAwQEBAQDAwMDBAMFBAMEAwQDBAMDAwMEAwQEBAMEAwQDAwMFAwMFAwQDBQUDAwUDBAQDBAQDAwMDBQMDBAMEAwQEBQUDAwMDAwMEAwMDBAQDBQMEBAMDAwMDAwMDAwMDBAMDAwMEAwMFBAMEAwMDBAMDAwMDAwMEAwMDBAMDAwMDAwUEBAMEAwQDAwMCAwMDAwMEBQQDBAQEAwQEAwMDBAUDAwMDAwUDBAMDAwMEAwQDAwQDAwMEBAMDAwMDBAMDBAUDAwMDBAQDBAMDBAMDAwMEBAMEAwQDAwQDAwQDAgQDAwQDAwUDAwMFBAMEBQMFBAQDAwMDAwQDAwQDAwMDAwQEBQQDAwUEAwQDAwQEAwMEBQUDAwQEAwQEAwQEAwUDAwQDAwMDBAQDAwMFAwQDAwQDAwMDAwMDAwMDBAMDAwQEBQMDAwMDBAUEBQMEAwUFBAMDAQQDBAMEAwMEBAMEAwMDAwQDAwQDAwMDBAMDBAMDAwQDBAMDAwMDAwMDBQMDAwMEAwUDAwMDAwMDBQMEBAMDBAMEAwMDAwMDAwMDAwUFBAMDBAQDBAQDAwQFAwUEAwMEAwMFAwQFBAMEBQQEAwQEAwQEAwMEAwUEBAMDAwMDAwMDBAMDAwMDAwMEAwMEBAQEAwUEAwMDAwMFBAMDBAMDBAIDBAQEAwUDBAMDAwQDAwMEAwMEBQMDAwMDBAMDAwMDBAUDAwQDBAQDAwMEBAMDBAUDBQMDAwMEAwMDBAMEBAUEAwMEAwMEBAMEBQMEAwMDAwMEAwMEBQMDAwMDAwQDAwMDAwQDAwMDBQMDAwQEBQQDAwQEAwQFAwUEBQMEAwMFAwQEBQEDAwQFBQMEAwQDAwMFAwMFAwMDAwQDAwMDAwQEAwMEAwQDAwQDBAMDAwMDAwQEAwMDAwQDAwMEAwQEAwMDAwUDAwMDBQMDAwQDAwMFAwMDAwMDAwMDBAQDAwMEAwMFBAMDBAQDBAMDBAQEAwUEAwMEBAMDAwQEAwMDAwQDBQQDAwMDAwQDBQMDBAMDBAMFAwQDAwMDAwQDAwMDAwQDAwMDAwQDAwMFBQQDAwMEBAMDAwMDBAMDBQMDBQMDAwUEAwMDAwMEAwMEBAQEAwMDAwQDAwQEAwUDBAQEBAQDAwUDAwMEAwQEAwMFAwMDBQMDBAQDBAMDAwQDAwQDAwMEAwMEAwMDBAUDBAMDAwMEBAMEAwMEAwMDBQQDBQMDBAMFAwMDAwMFAwMDAwUDAwQEAwMDAwMDBQQFAwQDBAMDAwQDAwMEAwUDAwQDAwMDAwMEAwQDBAMDBAMDBAMDAwMDAwQDAwMDAwQDBAQFAwMFAwMFAgQDBAQDAwMEBQMDBQMDBAMDBAMEAwMEAwMEBAQEAwQDAwQDAwMFAgMDBAMEAwMEBAMEAwMDAwQDBAMDAwMEAwMEAwQDAwMEBAQEBAMEBAQDAwMEAwMDAwQDAwMDBAMEAwMDAwMDAwMEAwUFAwMDBQQDBQMFAwMEBQEEAwQDBQMEBAQDAwQEBAMEAwMDAwMEAwMDAwQDAwMEAwMEAwUEBAMDBAMDAwUEBAMEAwMDAwMDAwMDBAMFBAUDBQMDAwMDAwMFAwMEAwQFBAMDAwQDBQQEAwQDBQUFAgMDAwMDBAMEAwMEBQMDAwMDAwMDAwQDAwQDAwMDAwUDBQIFAwMDBAMDBQMDAwUFBAMDAwUEBAQDAwUDBAQDAwMDBAMDBAMDAwMDAwMEAwQDBAQDAwUDBQMDAwMDBAMEAwMDBAMDAwMDAwMEAwMEBAQEAwMDAwQDBQMDAwMEAwQEBAMEAwMFAwMDBAUDBAQDAwQDAwMDBAMDBAQEAwMDBAMDBQMEAwMEAwMDBAMDAwICAwMDBAMFBAUFAwMDAwQDBQMDBAMDBQMDAwMDAwQEBAMDAwMDAwMDAwUDBAMDAwMEAwMDAwMDAwQEAwMDAwMEBAUDAwMDBQUDBQMEBAMDBAMDBAQEBAMDAwQDAwMDAwMFAwMDBAMDAwMDBAUEBQUFAwMDAwMEBAMDBAQDAwQDAwMDAwQDBAQEBAMDBQUDAwMEAwQDBAMEAwMDAwMDAwQEAwQEAwMDAwMDAwQFAwMDBQMEBQMDAwQEBAMDAwUDBAMDAwQEAwMDAwMEAwMDAwMFBAMDBAQEBQMFAwMDBAMFAwMDBAMDBAMDAwMDAwUDAwMDAwMEAwMEAwMDAwQDAwQFAwQDBAMDAwQDBAQDBQUDAwUDBQMEBQMEAwMEAwMEAwMDAwMEBAMFAwMDBAQDAwMFAwMDBAMDAwMDAwQDBAMEAwMDBAMFAwQEAwMDAwUDAwMFBAQDAgUDAwMDBAQDBAUDAwMEBAMDAwMDAwMDAwMDAwMEAwQDBAQDBAUDAwMDBAMDAwMEAwQEBAMDBQMFAwQDAwIFBAMDBQQEBAQFBAUDBAQDAwMFBAUEAgMEAwMDAwMEAwMEAwMFBAMDAwQEAwMEAwMDBAMDAwMDAwQDBAQDAwMDBQMEBQQFAwQDAwQDAwMDAwMDAwMDBAMDBAQEAwMCBAQEAwMEBAQDBAMEBAMBAwMEBQUDAwMDAwQFAwMDBAMDBAMDAwMDAwMFAwMDAwMEAwMDAwMDBAMDBAMDAwQDBAQEAwQEAwMDAwUDAwMDAwQDAwUDAwMEBQUDAwMFAwQDAwMDAwMEBQMEAwMDAwMDAwQEBAQEAwMDAwMFAwMDAwMFAwMEAwUDAwQEBQMFBAUEAwMEBAQDAwQFAwMDBAMDAwMEAwMFAwMDBAMEAwMDBAMDAwUEAwQDBAMEAwMDAwMEAwUEAwQDAwMEBAQDBAMDAwQDBAEDAwMDAwUDBAMFAgQEAwMDAwQEAwUDBAQFAwMDBQMFBAUDBAUDAwQEBAMEAwMDAwQDBQMEAwQFAwMFBAMDBAQFAwQEAwMEAwUDAwMDAwMEBAMDAwMDBAMDBAQEAwQDAwMDBQMFAwUDAwQDBAMDAwQDBQQEBAQDAwQEBAQFBQMEAwQEAwMDBQMFAwMDAwMDAgMDAwMEAwUDAwQEAwMEAwIDBAMDAwMDAgMEBAMDAwQDAwMEAwMDBAMDAwMDBQMDBQMDBAMDBAMDAwQEBAMFBAQEAwUDBAIFBAMEAwMDBAMDBQMDAwMEBAQDBAMDAwUDAwMDAwMDAwUDAwUDAwMDAwMDBAQEAwMEAwMEBAQDBAMDBAMDBQMEBQMFAwMEAwMEAwMEAwMDBQQFAwQEAwMEBAQEAwMDAwQDAwQDAwUEAwMDBAMDBAUDBAUDAwQEAwMDBAQDAwMDAwMFAwMEBAMDAwMDBAMEAwQDBAMDAwQDAwQDAwMDAwMDAwMEBAMEBAMDBAQFAwUDBAMDBAMEAwMDAwMDAwMEAwMEAwQEAwMEAwMDAwMDBAMDAwMDBAMEAwMDAwUEAwQDAwMDBAQDBAUDBQMDAwQDAwMDBAMDBAMDBAQDAwMEBAMDAwMDBAQEBQQDAwQDAwUDBAMDAwQEAwMDBQUEBAQEAwQDAwQDAwMDAwQDAwQCBQMFAwMDAwMDBAQDAwMEAwMFAwUDAwMDBQQDBAUDAwMDAwQFBAMDAwMDAwMDAwMEAwMEAwMDAwMFAwQDBQQDAwMDAwMDAwMEBQQDAwMEBAQEBQMDAwMDBAUEBAMFAwMDAwQEAwMDAwUDBAMEAwMDBQQEBQQEBAUDAwQEAwQDAwMEBAMDAwQEBAQDAwQDAwMDBAQDBQMDBQQDAwMDBAUEBAMDAgQDAwMEAwMEAwMEBAMEBAQFAwQEBAMDAwMDBQQDAwMFAwMDBAQDBAMDAwMFAwQDAwQDAwMDAwMEAwMEBAMEAwQEBAQDAwQEAwMDAwMDAwQDBQMDAwUCAwMEAwQEBAMBAwUDBAMEBAMDAwQEAwMDAwMDBAMEBQQDBAMEAwQEAwQDAwQEBAMEBAUDBAQDAwQDAwMDBQMEAwQEAwMDAwMDAwMDAwMFBQMDAwUDAwQCAwMDAwQDAwMEAwMDBQMDAwQEAwMDAwMEBAMDAwMEAwIDAwMDAwMDAwMEAwMEBAQDAgQEAwMFAwMDAwMEAwUEAwQDBAMDAwQEAwMDAwQDAwQFAwMDAwUFAwQDAwQDAwMDAwQFAwMDAwMEBAMEBAQDAwMEAwQEBAMDBAQEAwMDAwMFBAMDBAMDAwQEBQMEBAQDBAMDAwMEAwQDAwMDAwMEAwMFBAMDAwMDAwQDBAMDAwMDAwMEBAMEBAMDAwQEAwQDAwMDAwMDAgMEBAMDAwMEAwMDBAQEAwMDAwMDBAUFBAMEBAMDAwQEAwMDBAMEAwQDBQQEBQQDBAQDAwMDAwQDAwMDAwMDBAUDAwMDBAMDBAMDAwQDAwQDBAMFAwMEBAQDBAQEAwMDAwUDAwMDAwMDAwQEAwMEAwMEAwQEAwMEAwMDAwMDBAMFAwQCBQQDAwQDAwMDAwUDBAUDAwMEAwMDAwUDAwUDAwQEAwMDAwMDBAQDAwMDAwMEBAMEAwQDBQMEAwMDAwMDAwMDAwQFAwMEBAMDAwMDBAQEAwMEAwMDAwMFBAMFBQMDAwMCBQQEAwMDAwMEBAIDAwQDAwMDAwMFAwQDBQMDAwQFBAUDBQMDAwMEAwQDAwQEBAQEAwMDAwMDAwQEAwMDBAUDBQMEAwQDBQMEBAMEAwMDAwMDBAMCAwQEAwMEAwQFAwQDBAQFAwMDAwMEAwQDAwQDAwMDBQQEAwMEBAMDAwMDAwMDAwMCBAQDAwMDAwMEAwUDAwQDAwUEBAMDAwQFBAMDAwQDAwMDBAUDAwMEAQMDAwMDBQQCBQUDAwMDAwMDAwMDBAQDBAMDBAQFBAUDBQMDAwMDAwMDAwMDAwMDAwMDBAMEAwMEBAMDBAUDBQMEBAMDBAMDBAQFAwMFBAMDAwMEAwQDAwMDAwQDAwMDAwQDAgMEAwQDBAMEBAQFAwMEBQQDAwQDAwMDAwQDAwMEBQMDBAQDAwMFAwQEBQUDBAQDAwQDAwUDAwQDBAMDAwMDAwMEBAQDAwMDBAQDBQQEAwQDAwQDBAMEAwQEAwUDBAMFAwMDAwMDBAMEAwMFBAMFBAMDAwQDAwMDBAMDBAQDAwQDAwQDAwMEAwMEAwMEAwUEBAMDAwQDBAMEAwQDAwMEAwMFAwMEAwMDAwMDBAQEBQMDAwMDAwMDAwQDAwMEBAMDAwMEAwMDBAMDAwMEAwMDAwQEAwMDAwMDAwMEAwQDAwQDAwMDAwMEBAQDBAMEAwQEBAMFAwMEBAMFAwQEBAQDAwUFAwMFAwMFBAMDBQQDAwMDAwMEAwMDBAQDAwMDAwMEBAQDBAMEAwMDAwQDAwQDBAQDAwMDBAUDAwMFAwMDAwMDAwQEAwMEAwMDAwMEBAMDAwMDAwQEBAMDAwMEAwMDBAUEBQMDAwMDAwMFAwMDAwIDAwQDAwQDAwMEAwMDAwMEBAMDAwMEAwQEBAMDBQMDAwMDAwQDBQMDAwUDBAMDBAMDBAQDAwMDAwQDBQMDBQMDAwQDAwUDBAMEAwUDAwMCAwMDBAQDBAMEAwQDAwUDAwMDAwQDAgMDAwMDAwQEAwQEAwUEAwQFAwMEBAMEAwMDBAMDAwMEBAMDBAQDAwMDAwMDAwQDAwQDAwMDAwMDBAMEAwMDBQQDAwMEAwQEAwMDAwQDBAQDBQMDAgMDBAMEAwQEBAMEAwQFAwMDAwQDBAQEBAQDAwMCBQUDAwQDAwMDAwQDAwUDBAMDAwMDAwQDAwMDAwQDBAMDBQMDBAMFBAMEAwMDAwQDAwQDAwMEBAQDAwQEBAQEBAMEAwQDAwMEAwMDBAMEAwMEAwMDAwMDBAMEBAMDBQMDAwQDAwMFAwMDBAQDBAQEAwMFBAMFBQMFBAQEBQMEBAMDAwMDAwQEAwMDBAMDAwMEBAMEBAUDAwMEBAQEAwMCAwQDAwQDBAQDAwUEAwUDAwMDAwMEBAMDAwQDAwMDAwQEAwMCBAMEBQMDBAMDAwMDBAMDAwMDBAMEBQUEAwMDAwIDAwMEAwMDAwMDAwMEBAMDAwQEAwQFBAMDAwQDAwMEAwQDBAMDAwMDAwQDAwMFBAMDAwMDBQMFAwQEAwMDAwUEAwMFAwUDAwMEBAMDBQMDAwMEAwMEBQMFAwMDAwQDAwQEAwMEBAQEAwMEAwMEAwMEAwQDBAQDAwMEAwQDBAMEAwMEAwMEAwQEAwQEAwMDBAQDAwMEAwMDAwQEBAQDBAMEAwMEAwMDAwMDAwMEBAMDAwMEAwMEBAUDAwMDAwMDBAMDAwMEAwMDAwMDAwMDAwMDAwQEAwMDAwMDBAMEBAQEAwUDBAQDAwMEAwMDBQMDAwQDBAMDBAMFAwMDAwMFAwQFAwQDAwMDAwQDBAQDBAMDAwMDAwQEAwMDAwMDAwQDBAMDAwMDBQMDBQMFBQQCAwQDAwQDAwQEBAMEAwQFAwMFBAMDAwMDBQMEAwQEBQMDBAMDAwMDAwMDAwMDBAMEBAMDAwMDAwUDAwUEAwIEAwMFAwMDBAMDAwMEAwQDAwMDAwMDBQMDAwMFBAQFAwMDAwMDBAMDAwMDBAMEBAMDAwMDAwMEAwMDBAMDAwMDAwIEBAQEBAMFBAMEAwQDAwMEAwMDAwQDBAQDAwMEAwQDAwUDAwMEAwMEAwQDBAMDAwMDAwMEBAQDAwMDBQMDAwQDAgMDAwMEAwQEBQMDAwMDBAMDBAMDBAMDAwMDAwMDAwMDAwMDAwMDAwQEAwQDAwQDAwMDBQQDAwUDBAMEAwMEBAMDBAUDBAMCAwMFBQMEAwMDBQMDAwMDAwQDBAQDAwMDBAMEBAMDAwMDAwMEAwMDBAMEAwQCAwMDAwQEAwMDAwMDAwQEBQMDAwQDAwMFBAMEBQMDBAMDAwUDBAQDAwMDBAMDBAMEBQMDBAMEAwQEAwMEAwMEAwMDAwMEAwMEAwMDAwMEBAMDBAMDAwQEBQQDAwMDAwQEAwMDAwQDAwMEAwMEAwMDAwMEAwQEAwMDAwQDBQQDBAQDBQMEBQQDBAMDBQMDAwQDAwMDBAMFAwUDBAQDAwQDBAMDBQMDAwQDAwQDAwMDAwMEAwMEBAMFBAMFAwMEBAQEAwMDBAUDAwQDAwMDAwMDAwMDBAMDAwMEAwQEAwMDBAMDBQMDBQMEAwQDAwUEAwMDBAQEAwMDAwMDAwQDAwMDAwMDAwMDAwMEBAQDAwMEAwQEAwMDAwMFBAMEAwMDAwQEBAQEAwQDBAIDAwMDAwMDAwMDAwMEAwQEAwMDBAQDAwQDBAMEAwUDAwQEAwMDAwMDBAMDBQUEBAQFAwQDAwMDBAMDBAQEBAQEAwQDBAMDAwQDBQQDAwUDAwMFAwMDBAUEAwMFBAUDBQMDAwMEAwMDAwUDBAUDAwMDAwQDBQQFBAMEBAMDBAMDAwUDAwMDAwMEBAQDBAMEAwMDBAMDAwMDBAMDAwMEAwQEAwMDAgIDBAQDAwMDAwMFAwQDAwMEAwQEAwMDBQMEAwQDAwQDAwMEAwMEBAMEBAMDAwUEAwQDBQMDAwQDAwUDAwMDAwMDAwIEAwMEBAMDAwMDBAQDAwMDBQMFAwQDBAMDAwQDAwMEBAMDAwQFBQQDBAMEAwMDAwMDAwQEBAQEBAMEAwUDAwMFBQUDAwQEBAQDBAMEAwMEAwQDAwQEAwQDBAMDBAMFAwMDBAMDAwQDBAMDBQMEAwQEAwQDAwQDAwMDBAMEAwQEAwMDBAUDAwMDAwUDBAMEAwMDAwMEBQMEBAMFBAUDBAMDAwMDAwMDAwMFBAQDBAQDAwMEAwMDAwMDAwMDBAUDAwQDAwMDBAUFBAMDAwMDBAUDAwMDAwMEAwMDAwMEAwMDBQMEAwUDAwMDAwMDAwMFBAMEAwMFAwMDAwMDAwQEAwMDBAMEBQMDBAQFAgQDAwMDAwMDAwMDBAMEBAMDBAQDBAQDAwMDBAQDBAMDAwQDAwMFBAQFAwQDBQMDBAMDAwMEAwMEBAQEAwQFAwMDAwMDBAMDAwQEAwMEAwMDBAMEAwMDAwQDAwQDBAMDBAMDAwQDBQMDBAMEBAMFAwQDBAMDAwUDBQQEBAMDAwQDAwMDAwMEBQMEBAQDAwMEAwMDBAMDAwMEBAMEBAQDAwMDBAQEAwUDAwQEBAUEAwQDAwQDBAMEAwMDBAUDAwMEBQMDAgQDAwMDAwQDAwMEBAQDBAMEAwQEAwMDBAMEBAQDBAMDBAMFAwMFBAMEBAMDAwUFAwMEAwMEAwMEAwMDBQMDAwMEAwMDBQMDBAMEBAMEAwMDAwQDBAMDAwUEBAMDBAMEBAMDAwQDBAMFBAQDAwMDBAQDAwMDBAMDAwMFBAQDBAMEAwQEBAMEBAMEAwQDBAUDBAMDBAQEAwMDAwMEAwQDAwMEAwMDBAMEBAMDBAMDAwMDAwQEAwMDAwUEAwMEAwQDAwMDBQMDAwMEAwMDAwMEAwMDAwQDBAUEAwMDAwEEBAMDAwMDBAMEAwMDBAUEBQQEBAMDAwQFBAUDAwMEBAMFAwQEAwMEAwQDBQUEAwQEAwQDBAMDAwMDAwQDAwMDAwMDAwMDAwMDAwMDBAMDAwQDBAMFAwUDBAMDAwQEBAQEBAMDBAQDAwQDAwMDBAMDAwMFAwMEAwQDBAQDBAMDAwQDAwMEBAMDBAQDAwMFBQMDAwQDAwMDAwQDAwMDAwMEBQMEAwQDAwMDBAMDBAMEAwQDBAMDAwMDBAMDBQMFBQQDBAUDBAMDBAMEAwMFBAQFAwMDAwMDBAQEAwMEBAMDAwQEAwMEBAMFAwUDAwQFAwMDBAMDBAMEAwMEAwMDAwQDAwQDAQUEBAMDAwMEAwQFAwMDAwUDAwMEAwQDAwQDAwQDAwQEAwMDAwMFAwMEBAQDAwMEBAMDAwQDBAMDBAMDBQQDBQMEBQMEBAMDAwMDAwMEBAMDAwMEBAMDAwQDAwQEAwQDAwMDAwMDAwQDAwMDAwMDBAMEAwMEAwUDAwQEAwUDAwQEBAMEBQMDBQMDAwQEAwQDBQMDAwMFBQMDBAQDAwMEBAQDBQUEAwMDBAMEAwMDBAQEBQMDAwQEAwMDAwMEAwMDBAMFBAMDAwQFAwMDAwMDBAMDAwMDBAQEBAQDAwQEAwMEAwMEAwMEAwMDAwMDBAQDAwMEAwQEBAMDAwUDAwMEBAMEBAQDAwMDAwQEAwQDAwMDBAMDAwMDAwMEBAQEAwMFAwQDAwMDAwQEBAUDAwUDAwQEAwQDBAUEAwMDBQMDAwMDAwMDAwMDAwMEAwQEAwQEAwIDBAMDAwQDBAMEBAUDAwQDBAQDAwMDAwMEBAQEAwMDAwMDAwMDBQUDBAQDAwMDBAMDAwQEAwQDAwMDBQMDAwUDAwMFAwQDAwMDAwMDAwMDAwQDBAQDAwMEBAQCBAMDBAMEAwMEAwMFBAMDBAQEBAMDBQMDAwMDAwUDAwQDBAMFBQQDAwMDAwUEAwMDBAMCAwMDAwMDAwQDAwMDAwMFAwMDBAMFAwMFBAMDAwUDAwMEAwQEBAQDBAMEAwQDBAQDAwMDAwQDAwMEAwMCAwQEAwMEAwMDAwUEBQQEAwMEAwMDBQQDBAMDBAMEAwUDAwMFAwMFAwMDAwMDBAMEAwMDAwQDAwQCAwQEAwMDAwMFBQMEBAMDBQQDBAQFAwMDBAQDBAMDAwMDAwQFBAMDBQMDAwQDAwQDAwUDAwUEAwMDAwMDBAQDAwMDBAQEAwMDAwMDAwMDBAUDAwQDAwQDBQMEBAMDBAQEAwQDAwQDAwQDAwMDAwMDAwQDBQMDAwMDAwMDAwMDBQMDAwQDAwQEAwMDBAQDAwMDAwQEAwMEAwMDAwUEAwMDAwUDAwQDAwMDAwMDAwQDAwMEBAMEAwMDBAMEAwQDAwQDAwMEAwMFBAQDAwMDAwMDBAMDAwMEBAMEBAMDAwMDAwQDAwQDAgUDAwMFBAUDBAMDAwMEBAQDBQMEBQUDAwUEBAMDAwUDBQMEAwMFAwMDBAQDBAQDAwMEAwUDBAQDAwMDAwMEBAMEBAUDAwMEAwMDAwQEBAMDAwMDAwMEBAMDAwMDAwMDAwMEBAMDAwMEAwMFAwUDAwQDAwMEBAMEAwMFBQMDAwQDAwMEAwMDBAUCAwMDAwMDAwQDAwQEAwMDAwUFBAMDAwIEAwMDAwQEBAUDBAQDAwMEBAQDAwMDAwMDBQQEBAMEAwMDAwMEAwMFAwQFAwMDAwMEAwQDBAQFAwMDBQMDAwMFAwMDAwMFBAMEAwMEBAUFBQMDAwMDAwQDAwMDBQMFAwQDBAUDBAIEAwQEAwMDAwMFAwQDBAQDAwQDBAQDBAMDAwQEAwMDAwMEBAQDBQMDAwMEAwQEAwQDAwMDAwUDAwQEBAMEAwMDBQUDAwMDBAMDAwQEBQQDAwMDBQQDAwQEAwMFBAMEAwIEBAMEAwMEAwMFBAMEBAMDBQMDAwMDAwQDAwMDAwMDBAMDAwMEBQMDBAMDAwQDAwQEAwQDBQQDAwQDBAQDAwMDAwMDAwMFBQQDBAUEAwQDAwQDBQUEAwMEAwMEBAMCAgMEAwMDAwQEAwMDAwQDBAMDAwMDAwMDAwQDBQMEAwMDBAQEBAQDAwQDBAQDAwMEBAMDAwMDAwUDAwMDBAMDAwMDAwMDAwMFAwMDBQMDAwQDAwQEAwMDBQMEAwMDBAMFAwMDAwQEAwMEAwMDAwMDAwQDBQMDAwMEAwIEBQQDAwMDAwMDAwMDBAMEAwMDBAMFBQMEAwMDAwMFAwMEBAQFAwMDBAMDBAMEAwMEAwMFAwMDAwMDBAQDBAQFAwQDAwMDAwMFBAMEAwMFBAMFAwMDAwQEAwQDBAMEBAMDAwMEAwMEBAQEBQMDBAMDAwMDAwMEAwQFBAMDAgMEAgMDAwMDAwMEAwQFAwQDAwMDAwQDAwMDBAQDAwMEAwQEAwQEBAMEBQUDAwMDBAQDBAMEAwQDBAQDAwMDBAUFAwQEAwMDBAQDAwMDAwMDAwQEBAMEBQIEBAMDAwMFAwMEAwMDBAUDBAMDAwMDAwMCAgMDAwMEAwQDAwQDBAMEBAMDAwMDAwMDBQMFBQQDAwIEAwQDBAQEBAMDAwQDAwMDAwUDAwMEAwQFAwMDBAMDBQUDAwMDAwUDBAMDAwUFAwMDBQUDAwMEAwQFBAMEBAMEBAMDAwMDAwMDAwMFBAUDBAMEAwMFBQMEAwMDAwMFAwMEBQMDAwMDAwMEBAMDAwQEBAMDBAMEBAMDAwQEBAUDAwMDAwMDAwMDAwQEAwMEAwMDAwMDBAMDAwUDBAMDAwMEAwQDAwMDBAMDAwMDAwMDBQMDAwMFAwMDBAMFAwMDAwQDAwMDAwMEBAUEBAMDAwMEBQUDAwQDAwMDBAQDAwQDAwQDBAQEBAMEAwQFAwMDBAUDAgMDAwMDBAMDBAMEBQUDBAMEBAMEAwMDAwMEBAMDAwQDAwMDBAUDAwMDAwMEBAMEAwMDAwQDBAMDAwQDBAQDBAQCBAMEBQMEAwMDBAMDAwUEAwQEBAQDBAMEAwMEAwMDBAUDAwQDBAQDBAMDAwMDAwMDBAMFAwMEBAMEAwMEAwMDBAUDAwMEBAMFAwMDAwMEBAQEAgMDAwQDAwQDAwQEAwMDAwQDAwQDBQMEAgIDAwMFAwMDBAMDAwQDAwMDAwMDAwUFAwMDAwMDBAQDBAQFAwMEBAIEBAMDAwMDAwMFAwMDBQQDBAMEAwQDBQMEBQMDAwQFAwMEAwQFAwMEBAMDAwUDAwQDBQMEBAQDBQMDAwMEBAMEAwMEAwMDBAMDBAUDAwMDBAMEBAQDAwQDAwQDBAMEAwQDBAQDAwQEBAMDAwUDBAQDAwMDAwQEAwQEAwMEAwQDAwMFBAMDAwMDAwMFAwQEAwMEAwUDAwMDBQMEAwMDAwMDAwMFAwMFBQQDBAMFBAMEAwUDAwQEBAMDAwMDBAQFBQMEAwMDBQMDAwMDAwQEAwMDAwQDBAQDBAMDAwUDAwMDAwQDAwQDBAMFBQQDAwMDBQQEAwMEAwMEAwUEBAQFAwQEAwMDBQQEAwUDAwMDBAMDBQMDAwUEAwMDAwMDBAMDAwQDBQMDBAUEBAQDAwMFAwMDBAMDAwQDBAMDBQMDBAQEBAMEBAMEAwMDAwMDAwMEAwQEAwMEBAQDBAMDBAMEBAQDAwQEBAMEAwMDAwMDAwMDAwMDAwMEAwQDBAMEBAMDAwMFBAUDAwUDBAMDAwMEAwMDBAMDAwQEBAMDBAMEAwMDBAQDAwMDBAMDAwMFBAMEBAMDAwQDBAMEAwMDAwQDAwMEBQQDBAQDAwMDAwUFAwMDAwMDAwMDAwMDAwMDAwMDAwMEBQMEBAMDAwUFAwMDBAQEAwMEBAMFBAMDAwMDAwMDBAQDAwMEAwMDAwMDBAMEBAMEBAQDAwQDBQQEAwMEAwMDBAMDAwMEBAQDAwMDAwMDBAUDAwQEBQMDBAMDAwQDAwQEAwQDBAMDAwQEAwMEAwQEAwMEBAQEBAMEBQQFAwQEAwQEAwMDAwUDBAQDBQQDAwMEAwMDBAMDBAMDBQMDAwUDBAMDBAMDBAMDAwMDAwMDAwQEAwQDAwUFAgQDAwMEAwMDAwMEAwMEBAQDAwMFBQQDAwUFAwMCAwMDBQMEAwMDAwMDAwUEAwMDAwMDAwMDAwQDAwUDAwMDBQQDAwQDBAMFAwQEAwQDAwMDAwUEAwMDBQQEAwMDBAUDAwMDAwMDBAMEBAMEAwMDAwMEAwMDBAQEBAQEBAMDAwQDAwQDAwQDAwQDAwMDAwQDAwMFBAMDAwMDAwQEBQIDBAMDBAQDAwMDAwQDBAMDAwMDAwMDBAMDAwMFAwQDBAMDAwMDBAMDBQMEBAQDBAMDBAMFAwMDAwQDAwMDAwQFAwMFBAMDAwQDAwMEBQMEAwQFBAQEAwMEBAQDAwMEAwQEAwMDAwMDAwMDAwMDBAUDAwUDAwQEBAMFAwQDAwMDBAMDBAQDAwMDAwQFBAQEAwUDBQMDBAQDAwQDAwMEAwMEAwMFBAMDAwMDAwUDAwMDAwMDAwQFBAMDAwQEAwMFBAQDBAUDAwMDAwUDAgQDAwQDAwQFAwMEBAMDBAMDAwMDBAQEAwQDAwQDBQQDAwQDAwMDBAMDBAQFAwQEAwMDBAQEAwUDBQMEBAMDBAMDBAMDBAQEAwQDBAQDAwMDAwMDAwQDAwMDAwMEAwMEAwMDBAIDAwMDAwMDBAQDBAQDAwMDAwQDBAMEAwQDBAMEBAMDAwQDAwQDAwUFAwMEAwQDAwMDAwMEAwMDBAQEAwQDAwMDAwQDAwMEAwQDBAMDBAMEAwUFAwQDAwMDBQMEBAMEBAMEAwMDAwQDBQMDBAMDAwMDAwMEBAMEAwMDAwMEBAMDAwQFAwMDAwMFAwMDBAMDAwUEAwMEAwQEAwMEAwMDAwUDBAMDAwMDAwMEAwUDAwMFAwQDAwMFAwUDBAMDBAMDBQQDBAMDAwQDBAMDAwQDAwMDBAQEAwMDAwMDBAQDAwQDBAMDAwMDBAQDAwMDAwMFAwMFBAMDAwMEAwMEAwQFAwQEBAMDAwMDAwMEBAMEBAQEAwUDAwQDBAQDAwMDAwMEAwMFAwMEAwMEAwUDAwMEAwMDBAMDAwMEBAUDAwMDAwQDAwQEBQQDAwQFAwMFAgMDAwICAwQCBAMDBAMDAwMDBAUDBAQDAwMDBAMFAwMFAwMEBAUDAwUFAwMFBAQEAwUDAwMDAwMDAwMDBQMDBAMDAwUFAwMEBAMDBAMDAwMEAwQDAwMDBQMDAwMDAwMDAwMDAwQDBQQDAwQCBAQEBAMDAwMDAwMDAwMEAwUDAwUEAwUDAwMEAwMDAwMEAwMDBAUEBQMEBAMEAwMDAwMDAwMEBAQEBAUFAwQDAwMEAwMDAwMFAwMDBQUEAwMDAwMDBAMDAwMDBQUDBAMDBAMDBAMEBAMEBAQDAwQEAwMDBAMEAwQEAwMDAwMEAwQEBAQEAwMEAwMDAwMDAwMFAwMDAwUDAwMDAwUFBQQDBAMEBAQDBQMDBAQDAwQDBAMDAgQEAwIDAwMDBAMEAwQEAwUEBAMDAwQDBAUDBAMDAwMEBAMDAwMDBAMEBAMDAwUDAwMFAwQDAwMDAwMEAwMDAwMEBAMEBAQFAwMEBAMDBAMDAwMDAwQDBQMDAwMEAwMDAwQDAwMEAwMEBAMEBAMCAwMDAwUEBAQEBAMDAwQDBAQDBAUEBAUEAwMFAwMDBAMDAwMDAwUEAwMDBQQDAwMFAgMEBAMEBAQDAwMDAwMDAwMEAgMDBAMDAwMFAwMDBAMEBAIDAwMEAwMDBQQDAwMEBAMEBAMDAwMFAwMFAwQEAwMFAwQDBAMEBAQDAwMEAwMDAwMDAwMEAwMDAwMDAwMFBAQFAwQDAwMDBAUEBAQDBAQDAwMDBAUDBAUDAwQFAwMDAwMEAgMDBQQDBAQDBAMDBAMDBAQDAwQEAwMFBQMDBAMDAwMEAwMDAwMDAwQDAwQEBAQDBAMEAwQEBAQDAwQFAwMEBQQDBQMEBAMEAwQDAwMDBAQDBQMDBAMEAwMFAwMDBAIDAwQFBQQDBAMDBQMDAwMFAwMEAwMDBQMDBAMDAwUDAwMFAwMDAwMDAwIDBAQDBAMDBAMDAwMDBAMDAwMDBAMDAwQDAwMDBAQDAwMFAwQEAwMDAwQEAwMDBQQEBAQDAwQEBAMEAwMDBAIDBQQDAwMDAwMFAwQDAwUDAwQEAwMDBAMDAgMEBQUDAwQDBAQFBAQDBQMDBQQDAwMEBAMDBAQFBAUDBAQDBAMFAwMDAwQFBQUFBAMEAwMDAwQDAwMEBAQFAwMDBAQEAwQDBAMFBQQDAwMDAwMDBQMDBAQDAwMDAgQEBAMDBAMDBAMDBQMDAwQDAwUCAwMFBAMEBAMEBAUEAwQDBAMFAwMEBAMEBQMEAwMDAwUFAwMEAwMDBAMDAwMDBAMEBAMEBAMEAwMDBAMFAwQDAwMEAwMEAwQEBAQEAwQDAwQEBAMDBAMDBQMDAwMDBAMFAwQDAwMDBAMDAwQEAwQDAwMDAwMDAwMEBQQDAwQDAwQEAwQDAwMDAwQFBQMDBAQEBAQEAwQDAwMEAwMDBQMDAwUEBQMDAwMDBQUDAQMDBAMEAwQDAwMDAwMEAwMDAwMDAwMEBAMDAwMEAwMDAwQFAwMDAwMDAwMFBQUEAwQDAwMDBAQCAwQDAwQDBQMDAwMFBAQDAwMDAwQDAwMDAwICBAMDAwQDBAQCAwMDBAMFAwQDAwQEAwUFAwQEAwMDAwMEAwQDAwQDAwQDBAQEBAMDBQMFAwMEAwUDAwQDBQMEAQMDAwQDAwMEBAMEAwMDAwMFAwQDAwMDBAQDAwMDAwUDAwQFAwMDAwMFBAQEAwMDAwMEAwMEAwQDBAMDBAQEAwQDBAMEAwMEBAQEBAMEBAQDAwQEAwMDAwMDAwMFAwQDAwUDBAQEAwMDAwUDBAMDAwQEBQMFBAUFBAMDAwMDAwMDBAMEAwMDAwQFBAMDAwQEAwMDAwQEBAMFBAMDAwQDBAMDAwMDBAUDAwQDAwMDBAQCBAMDAwMEAwQEBAQDBAQEAwQDBAMDAwMDBAMEAwQFAwQDAwMDAwEEAwQDAwMDBAMDAwMDBQMDAwIEBAMDBQMDAwMEAwMEAwQDBAMEBQMDBAMDAwMDAwQDBAMFBAMDBAMEAwMDAwMEAwMCAwQDAwMEAgQEAwQDAwQDAwMDAwMDAwMDAwMEBQMDBAMDAwMFBAMEAgMDAwQFAwQCAwUEAwQEBAMDBAQDBQMDAwMDAwUEBQMDBAMFAwUDAwMFAwMFBAMFAwMDAwMEAwMDAwMEAwMDAwQDAwMEAwMDAwMCBAQEAwMFBAMDAwMFBAQFAwMDAwQDBAQDAwMDBAMEAwMEBAMDBAMDAwMEAwQFBAQDAwMDBAMDBAMDBAQEAgMDAwQDAwMDBAMDBAMDAwMEAwQDAwQDBAQDAwQFBAMFAwMDAwQDAwMDAwMFAwMDAwMDBAMDBAQCAwMDBAQFBAMEBAQEAwMDBAMDAwMDBAMDBQMDBAMFAwMDBAQDAwQEBAMDAwMDAwQEAwMDBQMFAwMDAwMDAwQDBQMDAwMEAwMEAwMEAwMDAwMDBAQDBQMDBAMDAgMEAwQDBAMEBAQDBQQDAwMFBQQDAwMEAwMDAwQDAwMDAwUDBAUFBAQDAwMFBAQEAwMDBAMDBAQDBAUDAwMEAwMDAwMDBAMDBAQEBAMEAwQDBQMDAwMDBAQDBAQDAwQDAwMEAwMDAwMEAwQFAwQDBQMDAwMDAwMDAwQDBAMDAwMDAwQEAwMEBAMDAwQDBAQDAwQDAwQDBAMDBAMEBQMEAwMDBAQDBAQDBAMDAwMDAwMDAwMEBAMDAwMEBAMDAwUEBAMDBAMEAwUDAwMDAwMEBQMDAwMFAwMEBAUEAwQDAwQEAwUEBAMDAwMDAwQDAwQEBAMDAwMEBAMDAwMDAwQFBAMDAwMDBAMDAwQDAwMEAwMDAwMFAwMFAwMDAwMEAwQDAwMEBAMDBAMDBAMEAwMDBAMDAwMDBQQDAwMFAwMEBAMDAwMDBAMDAwMEAwMDBAUDAwQEBQMDBQMDAwQEBQQFBQQDAwQDAwUDAwUEBAMDAwMDBQUEAwQDAwMDAwMEBQMEBAMDBQMDBAMDAwMDAwQEAwUDAwMDAwMDBAUFAwMEAwMDAwMDAwQEBAMDAwQEAwMDAwMFAwMEAwMDBQUDBAQDBAMDAwMDBAQDBAMEBAMEAwQDBAQDBAMFAwMEAwMEBAMDAwQDAwMEBQMDBAUDBAMDAwMEAwMEAwQDAwMDAwMDAwQDAwMEBQMDAwQEAwUDAwMEAwQDBAMFAwMEAwQDAwMDBAMDBAQDBAMDBAQDAgIDBAMDAwMDAwMDAwQEAwEBBQMDBAMEAwMEAwMEAwMEAwMDBQQDAwQDBAQDBAMDAwQDAwMEAwMDBQQEAwQEBQMEBQUEAwMDAwQDBQQDAwMDAwMDAwMEAwMDAwMDAwIDAwQDBAMEAwMEAwQEBAMFBAMDBAMEAwMFAwMDAwUDAwMDBAMDBAMFAwQEAwMFAwQDAwMEBAQDAwQEAwMDAwQEAwMDBQQDBAUDBAMDAwMDAwQDBAQFBQMDBAQDAwUDAwMEBAMEAwMEAwMDAwQEAwQFAwMEAwMCAwUDAwQDBAQEBAMDAwQDAwQDAwUDAwQDAwMEAwUDAwMDAwUDBQMDBAQDBAQDBAMDBAMEAwMDAwUDBAMDBQMDAwMDBAMDAwMDAwMDBAQEAwMDBQMDAwMDAwQDAwMDAwMEAwQEBAMDAwMFAwUEBAMEAwMDAwMEBAUDBAUDBAQDAwUDAwMEAwMFAwMEBAMDAwMEAwMEAwMDAwMDAwMEBQUDAwQEAwMDBAMDBQMDBAMDAwUEAwMDAwMEAwMEAwQEBAQDAwMDAwMDAwMDAwMEBAQDAwMDAwMEBQUDAwMEAwMEBAQFAwMDBAMDAwMEBQMDAwQDAwMDAwMDAwMDAwMEAwMDAwQFBAMDAwQEBQQDBAMDAwQFBAMEBAQCAwMEAwMEBAQDBQMDAwMDBAQDAwMEBAMEAwMDAwQDBAQDBAUEAwMDBAQEBQMDAwMEBAUDAwQDAwMEBAMEBAMEAwMDAwQDAwMDAwMDBAMDBAQEBAQFAwUDAwQDBAMDAwQDAwQDBAMEBQMDAwMEAwQDAwMDAwMDAwQDAwMDAwUEBAMDAwMDAwMEBAMFAwQDAwMDBAMEBAQDAwMEBAUDBAUEBAQEAwQDAwQDAwMEAwMEBQQDAwMDBQQFBQQDAwQDAwQDAwMEBAQDBQMFBAUEBAMEAwQDAwMEAwQDAwMFBAMEAwMDBAUDAwMDBAMFAwMDAwQDBAMEBAMFBAUFBAUDAwMDBAMDAwQEBAICBQMEAwMDAwMDAwMEBAMDBAQDAwQEBAMFBAQDBAQEAwMEBAUDAwMEAwMFAwMFBAQDAwQDAwQDBAMDBAMDAwMDAwQDAwMEAwMDBAMDBQMDAwQEAwMDAwUEBAMEBQMEBQMDAwMDAwQDBAMEAwMDAwMDBQMDAwQEAwQFAwMDBAMEAwMDBAMEBAQEBAMEAwMDAwMDBAMEBQQFAwUDAwUDBAUDBAQEAwQDBAQEAwQEBQMDBAMDBAMDBAUEAwMDBAMEAwMDAwMEAwMEBQUDBQMFAwQEAwMDBQMDAwQDBQMEAwUEAwMDAwMFAwMDBAQDAwMFBAUEBAMDBAMEBAQEAwUDAwQDAwUDBQMDAwMDAwMDBAMEAwMDAwMDBAQDAwUDAwMEAwMDAwQDAwMDAwQFBAMDAwMEBAMDBQMDBAMEAwUEAwMFAwMDAwQDAwMDBAMEAwMDBAMDBAUDAwMDBQQDAwMEBQMDAwQDAwQDAwMEAwQDBAUFBAMDAwQDAwMEAwMEBAQDBAQDAwQEAwQEAwQDAwMEAwQDAwMDAwMDAwQEAwMEBQMFAwMEAwQDAwMDBAQDAwMCAwQDAwQDAwMEAwUEBAMEAwMDAwQDAwQDBAQDAwMDAwMDAwQDBAMCBAMCAwQDAwMEAwMDAwQDAwMDAwMDAwMEAwQDBAMDBQQEAwQEBAMDAwMDAwMEBAMDAwMFAwQDAwQDBAQEAwQEAwIFAwQEBQQDAwMEAwQDBAMDAwQDBAUEAwMEAwMEAwMDAwMEAwQEBAQDAwMEBAQDAwMDAwMDAwQEAwMDAwMDAwMEAwQDAwMFBQMEBQQDBAUDBAMDAwQDAQMDAwMDBAQDBQMDAwMDAwMDBAMDAwUDBAQEBAMDBQMDBAMDBAMDAwMEAwQDAwQDAwQEBAMEAwMDAwQDBAQFAwMDAwMFAwQDBAMEAwQDAwMEAwQEAwQDAwMDAwMEBAMDAwMEAwQDAwMDAwMEAwQDAwMDAwMDAwMDBAMEAwQDBAMDAwQDBAMDAwMEAwQEAwUDAwMDBAQEAwMFBAMEBAIDAwMDAwMDBAMEAwMDBAMEBAMDAwMEAwMDAwMDBQMDAwMDAwMEBAMDAwMEAwMDAwUDAwQDAwMFBQMFAwMEBAMDBAMFBAQDBAQDAwQDBAMDAwMEAwQEAwQDAwQDAwMDAwMDAwMFBAMEBQQFBAQEAwQEAwUEAwMFAwMEAwMDBAMDBAMDAwMDAwQDAwMDAwMDAwMDBQUDAQMEAwMEAwMFBQMDAwQEBAMEAwUDAwQEAwQDBAQDBAMFBAMDBAQDBAQEAwMBBAQDBAQDBAQDAwQDAwMDBAMEAwMFBAUEBAUDBAQDBAUDAQQEAwQDAwMDAwUDAwMDAwMDAwMEBQUEBAMEAwMFBAMEAwMDAwMEAwMEBAMFBQMFAwMEAwMDAwMDAwQDBAQDBAQEBAMEAwMDBAMDAwQDAwMDAwUEBAMDBAMDAwMEAwMDBQMDBAQEBQQDBAMDBAQDBAUDAwQDBQMDAwMFBAMFAwMDAwQDAwMFBAMDAwMDAwMDBAQDAwMDAwQFBAMFBAMFAwMEAwMDAwUEBAMFBQQDBAMEBAQDAwQEAwIDBAMEAwQEBQMDBAMDAwMDAwMEAwQEAwQEBAMDBQMFAwQDAwMFAwQEAwQEBAMDBAMDAwMEBAMDBAQEBAMDAwMDAwMDBAQEBAQEAwMEBAQDAwUDAwMDAwMDAwMDBQQEBAMDBAMDAwMDAwQDAwMDAwQEAwMEBAMEAwQEAwMFAwMDBQMFAwMDBAQEAwUDAwMFBQMDAwMDAwMEAwMDAwQBAwMDBAMEAwMEBQMDAwMEBAMDBAMDBQMEAwUEAwMEAwMDBAMEAwMDAwQDAwMDBAQDAwQDBQQDAwQDAwQDBAUDBAMEBAMDAwMDBAMEBQQDAwMDAwMDAwMEAwMDBAMDAwMDAwMDAwMEAwMDAwQEAwMDBAMDAwMDAwMEAwQDBAMDAwMEBAQDAwQFAwMEAwMEBAUEBAMDAwMEBAMFAwQDAwUDAwQDAwMEBAQDAwMDAwMEAwMEAwQEAwMDAwMEAwUDBAQDAwMFBQMEBAMEBQMDAwUDBAIDAwQDBAQDBAMDAwMDAwMDBAQEAwMEAwMEAwMDAwMDAwMDAwQDAwMDAwMEAwMDBAMDAwMDBAUDBAMDBAQDAwMDAwQFAwMFBAQDBQQFBAMDAwMFBAQEAwUDAwQDAwMDBAMDBAMDAwMDAwQEBQMDAwMDAwMDBQMDAwUDAwQDBQMDBQUEAwQDBAMDAwQDAwMDAwMDAwQDAwMEAwUDAwMEAwMDAwQDAwMEAwUDAwMDAwQDAwMEAwQDBAMDAwUEAwMDAgQDAwUDAwUFBAQDAwMDBAMDBAQEAwQDAwMDAwMFBAMDAwQDAwMDBAQDBQQDBAMEBAMDBQMDAwMFAwMFAwMEAwQEAwQDBAMDAwMDAwQDAwQDAwQDAwMBBAMDBAQEBAQDBAMFAwQFAwMDBAMDAwMFAwMEBAMFAwMEBAMDAwMEAwMDAwMDBAMDAwQEBQQDAwMDBQMDBAMEAwQDBAMEBAMDAwQEAwMDBAQDAwQDAwQDAwQDAwUDAwQFAwMEBQMEBQQDBAMDAwMDAwMEAwQEAwMDAwQDAwMDAwQFBAQDBAMDAwMEAwMDBAQDAwMFAwQDAwMDAwQCAwQDAwQEAwMDAwQDBAQDAwQDAwMDBAMDBQMDAwMDBAQDAwMEAwMEBAQEAwQEAwMDAgMEAwMDAwMDBAMEAwQDAwMDAwMDAwMDAwUEAwMDAwQDBAQDBQQDAwQEAwMDAwMEBAMDBAQDAwMDAgUDBQMEAwMDBAQDAwMDBAQDAwQEBQMEBAMEAwQDAwQDAwQDBAMEBAQEBQMFBAQEAwMDAwMEBAMFBAMDAwMFAwMDBAQDAwMDAwUDBAQDAwQEBAQDBAMDAwUDBAMDAwQDAwMFAwUEBAMDAwQDBAMDBQQEAwQEBAQEBAQDBAQFAwMDAwMDAwQFAwQFAwMDAwMEBAQEAwUEAwMEAwUEAwQDAgMDBAMDAwMDAwMEBAMDBAMDAwMDAwQDBAMDAwQDAwMDAwMDBAQFAwQEBAMFAwMDAwMDAwMDAwQEAwMDAwQEBAMDBAMDAwMEAwMEBAMDBAQDBAMEBQMFBAQDAwQDAwMDAgMDAwMEAwMEAwMDAwUDAwMDAwQDAwMFAwMDBAMDAwQDAwMDAwQDBAUDAwUFAwMDAwMFBAQEBAMEAwMEAwMEAwMDBAMDAwQDBAQFAwMEAwMDBAMDAwMEAwMFAwMDAwQDBAQDAwMDAwMDBAMDAwMDAwQDAwMDBAUDAwMDAwMDBQMDAwMDBAQDAwQFAwMDAwMDBAMEAwMDAwMEAwUEAwMDAwMDBAMDAwMDAwMDAwMDAwQFAwEDAwMDBAMDAwQEAwMEBAMEBAMDAwMEAwMEAwUDAwMDBAUDAwQDBAMEAwMEAwUDAwQBAwMEBAQDBQQFBAQDBAMDBAMDAwQDBQQEAwMDBAQDBAMDAwUDBAMEBAMDBAQDAwQEAwMDBAQEBAMDBAMDAwMEAwQDBQMEAwMDAwMDBAMDBAQEAwQFBAMDAwMDBAMEAwQDAwMCAwMFAwQDBQMEAwMDAwMEAwQDBAMDBAMFBQUFAwQDAwQDAwMEAwMEBQMEBAQDBAMEAwMDBAMEBAQDBQMDBAMEBAIDAwMDBQUEBAQDAwMDAwMDAwMDAwMFBAMDAwQEAwMDAwMDBAUEBAMDBQQEBAMEAwUDBAMDBAMDBAQDAwMDAwUEBAMEAwQEBQMEAwQEAwMEAwMDBAQDBQQFBQMFAwMEAwQDAwMDBAQEAwMDBAMEBAMDBAQEAwMDBAQDBAQEBQIEBQUEBAQFBAQDAwMDAwMDAwMDAwMDBQQDBAQDAwQDAwMFBAMDAwQFAwQDAwQDBAMDBQMDAwQEAwMDAwMDAwMDBQMDBQUEAgQDAwMDAwQDBQMDAwQDAwIDAwMDBAQFAwQEAwMDAwQDAwQEAwMDAwMEAwMDBQMEAwQDAwMEBAMDBQMDAwMDAwMCAwMDBAMDBAMEAwMDAwMDAwMDAwMDBAMFAwIDAwMDAwMDBAMDAwMDAwMDBQMFAwMFAwIDBQMEAwMDAwUDAwMEAwMDAwMEAwMEAwMDAwMDBAQDBAQDAwMDAwMDAwUDAwUDBAMDAwMEAwQDAwUDBAMEAwMDAwMEAwMDAwMDBAQEAwMFAwMDAwQDAwMDAwMDBAQFBAQFBAQDBAUDAwQDBAQEBQMDBAMDBAQDAwIDAwQDBAMEAwMFBAQEAwMEAwMDAwMEAwMDBQMEBAMDAwQDAwMDBQMDAwMDAwQEAwMDAwMDAwMDAwMEBQMDAwMCAgIFAwMDAwMDAwQDAwQDBAMDBAUEAwQDBQMEAwMEBAQDAwMDAwMDBAQDBAMDAwUDAwMDBAMDAwMCAwQDAwMDAwUDAwUDAwQEBAMDAwUDAwQDBQMEAwMEAwMDBAQDBAQEAwMDAwMFAwMDBQQDBQQEAwUFAwMEAwUDBAMDBAMEBAQDBAMFBAQDBAMDAwQEAwMEAwQDAwUEBAMDAwMDBAMEAwMDBAMEAwQFBAQEAwQEAwQDBAQEAwQEAwMDBQQEAwQDAwMFBQMDAwQEBQEDAwMDAwQEBAMEBAMEBQQDAwQDBAMDBAMEBAQDAwMEAwMDBQMDBAMDAwUDBAMDAwMEBAMEBQMEAwMDAwQEBQQDAwMDAwMEBAQDBAMEAwMEBAUDAwQEAwMEBQMDAwMDBQQFBAQEAwMDBQMEAwMDBAMDAwMFAwMEAwMDAwMDAwQFAgQDAwQDAwMDAwMDAwMDAwMDBQMEAwMDBQMDBAMDBAMEAwMDAwMDAwQCBAQDAwMFBAQDAwMDAwMEAwMDAwMFBAMEAwQDAwMDAwMDAwMDBQUDAwQDAwMEAwMDAwMDAwMEBAQEAwMDAwQEAwUDAwMDBAQEBAMDAwMDBAMDBAMEAwMEAwQEAwQDAwMDAwUEAwUEAwMEBAMEAwMDAwUDAwUFAwQDBQQEAwMEBAMDAwMCBAMEBAMEAwMEAwMEAwMDAwMFAwMDAwQEAwUDBAMDAwMEBAMDAwMEAwMDBAMDBAMEBAQDAwQDAwMFAwQDAwMEBAUDAwMDAwMEAwMEAwMEAwMEBAMEAwQDAwMFBAMEBAMDAwMDBQMDAwMDBAQDAwQEAwMEAwUDAwMDBAMEBAUDAwMEBAMDAwMEAgMDAwQEAwQDAwMDBAMDAwMEBAQDAwMEAwMDBAUDBAQFAwMEBAMDBQMDAwMDAwMEBAMDAwMFAwQEBAMDAwQDBAQFAwMDAwQDAwMDAwUFAwUDAwMDAwQFBQQDAQUFBAQDBAMDAwMEBAMEAwUDAwQDAwMDAwMEAwUDBAMDBAMEBAQDAwQEAwQDAwMEBAQDBAQDAwMDAwMDAwMDAwQDAwQDAwMEBAQDBAQDBQQDAwMDBAQDAwMDBAQDBAMEBAMDBAMFAwQDAwMEAwQDAwMDBAMEBAMDAwMDBQMDAwUDBAMDAwQDAwQDAwMDAwQDBQMDBAIDAwMDBAMDAwMEAwMEBAQEAwQCAwMEBAQFBQMEAwQDBQQEBQQDAwUFAwMEBAMDAwMDAwMDBAMFAwMFAwMEAwQDAwQFBAMDAwQDAwUEAwQDAwMEAwMDAwMEAwMDAwMDAwMEAwMEBAMDAwMFBQMDAwMDAwQDBAQDAwQDAwMFBAMDAwQDAwMDAwMDBAQDAwMDBQMFAwMDAwUDAwQDAwMEBQQFAwMFAQQDBAMDBQUDAwMDBQMEBQMEBAMEBAQDBQMEAwMDBQUDAwQDBAQDBAQDBAQEAwMEBQMEAwMEBAQEAwMDAwMDBAMEAwMDAwMFAwMDAwMEBAQDBAMEAwQDBAMDBAMDAwQDAwMEBAMDBAMDAwMDAwQDAwQEAwMEAwMDAwQFBQMDAwQDBAQEAwMFAwMDAwQDBAUDAwMEAwQDAwMEBAMFAgMDAwMDBAMDAwMEAwMDBAMDBQMDAwQFAwMFBAMDAwQEAwMEAwMDAwMCBAMDAwQDBAQDAwMEAwMEAwQDAwMEAwMEBAMEAwMEBAMDAQQDBQMDAwUFBQMDAwMEAwMFAwMFAwQDBAQDBQQEBQMEBQUDBAQDBAUDBAQFBAMEBAMDAwUFAwQEBAMDAwMDBAQDBAMDAwMDAwMEAwQDBAQEAwMDAwMDAwMFBQMDAwUDBQMDAwMDAwMDAwMEAwMDAwMDAwUFBAMDBQMFBAMDBAMDAwMDBAMEAwMDAwMEAwMDAwQEAwUDBAIDAwMDBAUEAwMEAwQFBAQDAwQEAwQEBQQFBAMDBQUEAwMDBAQEAwQDBAQDBAMEAwQEAwMDAwQEAwQDAwUDBAMFAwMEBAMDAwMEAwMEBAQEAwMDAwQFAwMDAwMDBAMCAwMEAwMDAwQEAwUDBAMDAwMEAwMDAwMEBAMDAwMDAwQDBAQDAwQEAwQDAwMEBAQEBAMDBAMEBAUDAwQDBAMDBAMDAwMDBQMFBQQFAwQEAwMDAwMDAwMEBAQFBAMDBAUEAwMDAwMDAwMDBQQEAwMDBAIDBAUDBAQFAwMDAwUFAwMDBAMDBAMFAwMEAwMEAwMDBAMDAwUDBQQEBAMDBAMEAwQFAwQDAwQEAwMDAwMDAwMDAgMDAwMDBAMEAwQDAwMDBAMDAwQEBAMFAwMEBAMDBAMEBAMDAwMFAwQDBQMEAwMEBAMDBAQFBAMDAwMDAwQFAwIEBAMFAwUFAwQFAwMDAwQEAwQDAwQDAwMDBAMFAwMDAwQDAwMFBAMDBAQDBAQDBAMDAwMDBAMDAwQEBQMDBAMDBAMDBAMFAwMDAwMFAwMFBAMEAwMCAwMDAwMDAwMEAwMDAwQEBQMEBAUDAwQDAwMDBQMDAwMDAwMEAwUDBQQEAwUFAwMDBAMDAwMDBQMDAwMFAwMCAwMEAwMDAwMEBQQEBAUDBAMDAwMEAwUDBAQDAwMDAwQDAwUDAwMDBAQEBAUDAwMFBAUDBAMDBQQDBAMDAwQEBAQDAwQEAwMDAwMDAwMDAwMDAwMDAwQEBQMDBAUDBAMDAwMDAwMDAwMEAwMFAgMDAwMDAwMDAwMDAwMDAwMDAwMDAwMDAwMDAwMDAwMDAwMDAwMDAwMDAwMDAwMDAwMDAwMDAwMDAwMDAwMDAwMDAwMDAwMDAwMDAwMDAwMDAwMDAwMDAwMDAwMDAwMDAwMDAwMDAwMDAwMDAwMDAwMDAwMDAwMDAwMDAwMDAwMDAwMDAwMDAwMDAwMDAwMDAwMDAwMDAwMDAwMDAwMDAwMDAwMDAwMDAwMDAwMDAwMDAwMDAwMDAwMDAwMDAwMDAwMDAwMDAwMDAwMDAwMDAwMDAwMDAwMDAwMDAwMDAwMDBAMDAwMDAwMDAwMDAwMDAwMDAwMDAwMDAwMDBQMDAwMDAwMDAwMDAwMDAwMDAwMDAwMDAwMDAwMDAwMFAwMDAwMDAwMDAwMDAwMDAwMDAwMDAwMDAwQDAwMDAwMDAwMDAwMDAwMDAwMDAwMDAwMDAwMDAwMDAwMDAwMDAwMDAwMDAwMDAwMDAwMDAwMDAwMDAwMDAwMDAwMDAwMDAwMDAwMDAwMDAwMDAwMDBAMDAwMDAwMDAwMDAwMDAwMDAwMDAwMDAwMDAwMDAwMDAwMDAwMDAwMDAwMDAwQDAwMDAwMDAwMDAwMDAwMDAwMDAwMDAwMDAwMDAwQDAwMDAwMDAwMDAwMDAwMDAwMDAwMDAwMDAwMDAwMDAwMDAwMDAwMDAwMDAwMDAwMDAwMDAwMDAwMDAwMDAwMDAwMDAwMDAwMDAwMDAwMDAwMDAwMDAwMDAwMDAwMDAwMDAwMDAwMDAwMDAwMDAwMDAwMDAwMDAwMDAwMDAwMDAwMDAwMDAwMDAwMDAwMDAwMDAwMDAwMDAwMDAwMDAwMDBAMDAwMDAwMDAwMDAwMDAwMDAwMDAwMDAwMDAwMDAwMDAwMDAwMDAwMDAwMDAwMDAwMDAwMDAwMDAwMDAwMDAwMDAwMDAwMDAwMDAwMDAwMDAwMDAwMDAwMDAwMDAwMDAwMDAwMDAwMDAwMDAwMDAwMDAwMDAwMDAwMDAwMDAwMDAwQDAwMDAwMDAwMDAwMDAwMDAwMDAwMDAwMDAwMDAwMDAwMDAwMDAwMDAwMDAwMDAwMDAwMDAwMDAwMDAwMDAwMDAwMDAwMDAwMDAwMDAwMDAwMDAwMDAwMDAwMDAwMDAwMDAwMDAwMDAwMDAwMDAwMDAwMDAwMDAwMDAwMDAwMDAwMDAwMDAwMDAwMDAwMDAwMDAwMDAwMDAwMDAwMDAwMDAwMDAwMDAwMDAwMDAwMDAwMDAwMDAwMDAwMDAwMDAwMDAwMDAwMEAwMDAwMDAwMDAwMDAwMDAwMDAwMDAwMDAwMDAwMDAwMDAwMDAwMDAwMDAwMDAwMDAwMDAwMDAwMDAwMDAwMDAwMDAwMDAwMDAwMDAwMDAwMDAwMDAwMDAwMDAwMDAwQDAwMDAwMDAwMDAwMDAwMDAwMEAwMDAwMDAwMDAwMDAwMDAwMDAwMDAwMDAwMDAwMDAwMDAwMDAwMDAwMDAwMDAwMDAwMDAwMDAwMDAwMDAwMDAwMDAwMDAwMDAwMDAwMDAwMDAwMDAwMDAwMDAwMDAwMDAwMDAwMDAwMDAwMDAwMDAwMDAwMDAwMDAwMDAwMDAwMDAwMDAwMDAwMDAwMDAwMDAwMDAwMDAwMDAwMDAwMDAwMDAwMDAwMDAwMDAwMDAwMDAwMDAwMDAwMDAwMDAwMDAwMDAwMDAwMDAwMDAwMDAwMDAwMDAwMDAwMDAwMDAwMDAwMDAwMDAwMDAwMDAwMDAwMDAwMDAwMDAwMDAwMDAwMDAwMDAwMDAwMDAwMDAwMDAwMDAwMDAwMDAwMDAwMDAwMDAwMDAwMDAwMDAwMDAwMDAwMDAwMDAwMDAwMDAwMDAwMDAwMDAwMDAwMDAwMDAwMDAwMDAwMDAwMDAwMDAwMDAwMDAwMDAwMDAwMDAwMDAwMDAwMDAwMDAwMDBAMDAwMDAwMDAwMDAwMDAwMDAwMDAwMDAwMDAwMDAwMDAwMDAwMDAwMDAwMDAwMDAwMDAwMDAwMDAwMDAwMDAwMDAwMDAwMDAwMDAwMDAwMDAwMDAwMDAwMDAwMDAwMDAwMDAwMDAwMDAwMDAwMDAwMDAwMDAwMDAwMDAwMDAwMDAwMDAwQDAwMDAwMDAwMDAwMDAwMDAwMDAwMDAwMDAwMDAwMDAwMDAwMDAwMDAwMDAwMDAwMDAwMDAwMDAwMDAwMDAwMDAwMDAwMDAwMDAwMDAwMDAwMDAwMDAwMDAwMFAwMDAwMDAwMDAwMDAwMDAwMDAwMDAwMDAwMDAwQDAwMDAwMDAwMDAwMDAwMDAwMDAwMDAwMDAwMDAwMDAwMDAwMDAwMDAwMDAwMDAwMDAwMDAwMDAwMDAwMDAwMDAwMDAwMDAwMDAwMDAwMDAwMDAwMDAwMDAwMDAwMDAwMDAwMDAwMDAwMDAwMDAwMDAwMDAwMDAwMDAwMDAwMDAwMDAwMDAwMDAwMDAwMDAwMDAwMDAwMDAwMDAwMDAwMDAwMDAwMDAwMDAwMDAwMDAwMDAwMDAwMDAwMDAwMDAwMDAwMDAwMDAwMDAwMDAwMDAwMDAwMDAwMDAwMDAwMDAwMDAwMDAwMDAwMDAwMDAwMDAwMDAwMDAwMDBAMDAwMDAwMDAwMDAwMDAwMDAwMDAwMDAwMDAwMD",
           "dtype": "i1"
          },
          "coloraxis": "coloraxis"
         },
         "mode": "markers",
         "name": "",
         "showlegend": false,
         "subplot": "mapbox",
         "type": "scattermapbox"
        }
       ],
       "layout": {
        "coloraxis": {
         "colorbar": {
          "title": {
           "text": "condition"
          }
         },
         "colorscale": [
          [
           0,
           "#0d0887"
          ],
          [
           0.1111111111111111,
           "#46039f"
          ],
          [
           0.2222222222222222,
           "#7201a8"
          ],
          [
           0.3333333333333333,
           "#9c179e"
          ],
          [
           0.4444444444444444,
           "#bd3786"
          ],
          [
           0.5555555555555556,
           "#d8576b"
          ],
          [
           0.6666666666666666,
           "#ed7953"
          ],
          [
           0.7777777777777778,
           "#fb9f3a"
          ],
          [
           0.8888888888888888,
           "#fdca26"
          ],
          [
           1,
           "#f0f921"
          ]
         ]
        },
        "legend": {
         "tracegroupgap": 0
        },
        "mapbox": {
         "center": {
          "lat": 47.56009299439737,
          "lon": -122.21398254294577
         },
         "domain": {
          "x": [
           0,
           1
          ],
          "y": [
           0,
           1
          ]
         },
         "style": "open-street-map",
         "zoom": 8
        },
        "template": {
         "data": {
          "bar": [
           {
            "error_x": {
             "color": "#2a3f5f"
            },
            "error_y": {
             "color": "#2a3f5f"
            },
            "marker": {
             "line": {
              "color": "#E5ECF6",
              "width": 0.5
             },
             "pattern": {
              "fillmode": "overlay",
              "size": 10,
              "solidity": 0.2
             }
            },
            "type": "bar"
           }
          ],
          "barpolar": [
           {
            "marker": {
             "line": {
              "color": "#E5ECF6",
              "width": 0.5
             },
             "pattern": {
              "fillmode": "overlay",
              "size": 10,
              "solidity": 0.2
             }
            },
            "type": "barpolar"
           }
          ],
          "carpet": [
           {
            "aaxis": {
             "endlinecolor": "#2a3f5f",
             "gridcolor": "white",
             "linecolor": "white",
             "minorgridcolor": "white",
             "startlinecolor": "#2a3f5f"
            },
            "baxis": {
             "endlinecolor": "#2a3f5f",
             "gridcolor": "white",
             "linecolor": "white",
             "minorgridcolor": "white",
             "startlinecolor": "#2a3f5f"
            },
            "type": "carpet"
           }
          ],
          "choropleth": [
           {
            "colorbar": {
             "outlinewidth": 0,
             "ticks": ""
            },
            "type": "choropleth"
           }
          ],
          "contour": [
           {
            "colorbar": {
             "outlinewidth": 0,
             "ticks": ""
            },
            "colorscale": [
             [
              0,
              "#0d0887"
             ],
             [
              0.1111111111111111,
              "#46039f"
             ],
             [
              0.2222222222222222,
              "#7201a8"
             ],
             [
              0.3333333333333333,
              "#9c179e"
             ],
             [
              0.4444444444444444,
              "#bd3786"
             ],
             [
              0.5555555555555556,
              "#d8576b"
             ],
             [
              0.6666666666666666,
              "#ed7953"
             ],
             [
              0.7777777777777778,
              "#fb9f3a"
             ],
             [
              0.8888888888888888,
              "#fdca26"
             ],
             [
              1,
              "#f0f921"
             ]
            ],
            "type": "contour"
           }
          ],
          "contourcarpet": [
           {
            "colorbar": {
             "outlinewidth": 0,
             "ticks": ""
            },
            "type": "contourcarpet"
           }
          ],
          "heatmap": [
           {
            "colorbar": {
             "outlinewidth": 0,
             "ticks": ""
            },
            "colorscale": [
             [
              0,
              "#0d0887"
             ],
             [
              0.1111111111111111,
              "#46039f"
             ],
             [
              0.2222222222222222,
              "#7201a8"
             ],
             [
              0.3333333333333333,
              "#9c179e"
             ],
             [
              0.4444444444444444,
              "#bd3786"
             ],
             [
              0.5555555555555556,
              "#d8576b"
             ],
             [
              0.6666666666666666,
              "#ed7953"
             ],
             [
              0.7777777777777778,
              "#fb9f3a"
             ],
             [
              0.8888888888888888,
              "#fdca26"
             ],
             [
              1,
              "#f0f921"
             ]
            ],
            "type": "heatmap"
           }
          ],
          "histogram": [
           {
            "marker": {
             "pattern": {
              "fillmode": "overlay",
              "size": 10,
              "solidity": 0.2
             }
            },
            "type": "histogram"
           }
          ],
          "histogram2d": [
           {
            "colorbar": {
             "outlinewidth": 0,
             "ticks": ""
            },
            "colorscale": [
             [
              0,
              "#0d0887"
             ],
             [
              0.1111111111111111,
              "#46039f"
             ],
             [
              0.2222222222222222,
              "#7201a8"
             ],
             [
              0.3333333333333333,
              "#9c179e"
             ],
             [
              0.4444444444444444,
              "#bd3786"
             ],
             [
              0.5555555555555556,
              "#d8576b"
             ],
             [
              0.6666666666666666,
              "#ed7953"
             ],
             [
              0.7777777777777778,
              "#fb9f3a"
             ],
             [
              0.8888888888888888,
              "#fdca26"
             ],
             [
              1,
              "#f0f921"
             ]
            ],
            "type": "histogram2d"
           }
          ],
          "histogram2dcontour": [
           {
            "colorbar": {
             "outlinewidth": 0,
             "ticks": ""
            },
            "colorscale": [
             [
              0,
              "#0d0887"
             ],
             [
              0.1111111111111111,
              "#46039f"
             ],
             [
              0.2222222222222222,
              "#7201a8"
             ],
             [
              0.3333333333333333,
              "#9c179e"
             ],
             [
              0.4444444444444444,
              "#bd3786"
             ],
             [
              0.5555555555555556,
              "#d8576b"
             ],
             [
              0.6666666666666666,
              "#ed7953"
             ],
             [
              0.7777777777777778,
              "#fb9f3a"
             ],
             [
              0.8888888888888888,
              "#fdca26"
             ],
             [
              1,
              "#f0f921"
             ]
            ],
            "type": "histogram2dcontour"
           }
          ],
          "mesh3d": [
           {
            "colorbar": {
             "outlinewidth": 0,
             "ticks": ""
            },
            "type": "mesh3d"
           }
          ],
          "parcoords": [
           {
            "line": {
             "colorbar": {
              "outlinewidth": 0,
              "ticks": ""
             }
            },
            "type": "parcoords"
           }
          ],
          "pie": [
           {
            "automargin": true,
            "type": "pie"
           }
          ],
          "scatter": [
           {
            "fillpattern": {
             "fillmode": "overlay",
             "size": 10,
             "solidity": 0.2
            },
            "type": "scatter"
           }
          ],
          "scatter3d": [
           {
            "line": {
             "colorbar": {
              "outlinewidth": 0,
              "ticks": ""
             }
            },
            "marker": {
             "colorbar": {
              "outlinewidth": 0,
              "ticks": ""
             }
            },
            "type": "scatter3d"
           }
          ],
          "scattercarpet": [
           {
            "marker": {
             "colorbar": {
              "outlinewidth": 0,
              "ticks": ""
             }
            },
            "type": "scattercarpet"
           }
          ],
          "scattergeo": [
           {
            "marker": {
             "colorbar": {
              "outlinewidth": 0,
              "ticks": ""
             }
            },
            "type": "scattergeo"
           }
          ],
          "scattergl": [
           {
            "marker": {
             "colorbar": {
              "outlinewidth": 0,
              "ticks": ""
             }
            },
            "type": "scattergl"
           }
          ],
          "scattermap": [
           {
            "marker": {
             "colorbar": {
              "outlinewidth": 0,
              "ticks": ""
             }
            },
            "type": "scattermap"
           }
          ],
          "scattermapbox": [
           {
            "marker": {
             "colorbar": {
              "outlinewidth": 0,
              "ticks": ""
             }
            },
            "type": "scattermapbox"
           }
          ],
          "scatterpolar": [
           {
            "marker": {
             "colorbar": {
              "outlinewidth": 0,
              "ticks": ""
             }
            },
            "type": "scatterpolar"
           }
          ],
          "scatterpolargl": [
           {
            "marker": {
             "colorbar": {
              "outlinewidth": 0,
              "ticks": ""
             }
            },
            "type": "scatterpolargl"
           }
          ],
          "scatterternary": [
           {
            "marker": {
             "colorbar": {
              "outlinewidth": 0,
              "ticks": ""
             }
            },
            "type": "scatterternary"
           }
          ],
          "surface": [
           {
            "colorbar": {
             "outlinewidth": 0,
             "ticks": ""
            },
            "colorscale": [
             [
              0,
              "#0d0887"
             ],
             [
              0.1111111111111111,
              "#46039f"
             ],
             [
              0.2222222222222222,
              "#7201a8"
             ],
             [
              0.3333333333333333,
              "#9c179e"
             ],
             [
              0.4444444444444444,
              "#bd3786"
             ],
             [
              0.5555555555555556,
              "#d8576b"
             ],
             [
              0.6666666666666666,
              "#ed7953"
             ],
             [
              0.7777777777777778,
              "#fb9f3a"
             ],
             [
              0.8888888888888888,
              "#fdca26"
             ],
             [
              1,
              "#f0f921"
             ]
            ],
            "type": "surface"
           }
          ],
          "table": [
           {
            "cells": {
             "fill": {
              "color": "#EBF0F8"
             },
             "line": {
              "color": "white"
             }
            },
            "header": {
             "fill": {
              "color": "#C8D4E3"
             },
             "line": {
              "color": "white"
             }
            },
            "type": "table"
           }
          ]
         },
         "layout": {
          "annotationdefaults": {
           "arrowcolor": "#2a3f5f",
           "arrowhead": 0,
           "arrowwidth": 1
          },
          "autotypenumbers": "strict",
          "coloraxis": {
           "colorbar": {
            "outlinewidth": 0,
            "ticks": ""
           }
          },
          "colorscale": {
           "diverging": [
            [
             0,
             "#8e0152"
            ],
            [
             0.1,
             "#c51b7d"
            ],
            [
             0.2,
             "#de77ae"
            ],
            [
             0.3,
             "#f1b6da"
            ],
            [
             0.4,
             "#fde0ef"
            ],
            [
             0.5,
             "#f7f7f7"
            ],
            [
             0.6,
             "#e6f5d0"
            ],
            [
             0.7,
             "#b8e186"
            ],
            [
             0.8,
             "#7fbc41"
            ],
            [
             0.9,
             "#4d9221"
            ],
            [
             1,
             "#276419"
            ]
           ],
           "sequential": [
            [
             0,
             "#0d0887"
            ],
            [
             0.1111111111111111,
             "#46039f"
            ],
            [
             0.2222222222222222,
             "#7201a8"
            ],
            [
             0.3333333333333333,
             "#9c179e"
            ],
            [
             0.4444444444444444,
             "#bd3786"
            ],
            [
             0.5555555555555556,
             "#d8576b"
            ],
            [
             0.6666666666666666,
             "#ed7953"
            ],
            [
             0.7777777777777778,
             "#fb9f3a"
            ],
            [
             0.8888888888888888,
             "#fdca26"
            ],
            [
             1,
             "#f0f921"
            ]
           ],
           "sequentialminus": [
            [
             0,
             "#0d0887"
            ],
            [
             0.1111111111111111,
             "#46039f"
            ],
            [
             0.2222222222222222,
             "#7201a8"
            ],
            [
             0.3333333333333333,
             "#9c179e"
            ],
            [
             0.4444444444444444,
             "#bd3786"
            ],
            [
             0.5555555555555556,
             "#d8576b"
            ],
            [
             0.6666666666666666,
             "#ed7953"
            ],
            [
             0.7777777777777778,
             "#fb9f3a"
            ],
            [
             0.8888888888888888,
             "#fdca26"
            ],
            [
             1,
             "#f0f921"
            ]
           ]
          },
          "colorway": [
           "#636efa",
           "#EF553B",
           "#00cc96",
           "#ab63fa",
           "#FFA15A",
           "#19d3f3",
           "#FF6692",
           "#B6E880",
           "#FF97FF",
           "#FECB52"
          ],
          "font": {
           "color": "#2a3f5f"
          },
          "geo": {
           "bgcolor": "white",
           "lakecolor": "white",
           "landcolor": "#E5ECF6",
           "showlakes": true,
           "showland": true,
           "subunitcolor": "white"
          },
          "hoverlabel": {
           "align": "left"
          },
          "hovermode": "closest",
          "mapbox": {
           "style": "light"
          },
          "paper_bgcolor": "white",
          "plot_bgcolor": "#E5ECF6",
          "polar": {
           "angularaxis": {
            "gridcolor": "white",
            "linecolor": "white",
            "ticks": ""
           },
           "bgcolor": "#E5ECF6",
           "radialaxis": {
            "gridcolor": "white",
            "linecolor": "white",
            "ticks": ""
           }
          },
          "scene": {
           "xaxis": {
            "backgroundcolor": "#E5ECF6",
            "gridcolor": "white",
            "gridwidth": 2,
            "linecolor": "white",
            "showbackground": true,
            "ticks": "",
            "zerolinecolor": "white"
           },
           "yaxis": {
            "backgroundcolor": "#E5ECF6",
            "gridcolor": "white",
            "gridwidth": 2,
            "linecolor": "white",
            "showbackground": true,
            "ticks": "",
            "zerolinecolor": "white"
           },
           "zaxis": {
            "backgroundcolor": "#E5ECF6",
            "gridcolor": "white",
            "gridwidth": 2,
            "linecolor": "white",
            "showbackground": true,
            "ticks": "",
            "zerolinecolor": "white"
           }
          },
          "shapedefaults": {
           "line": {
            "color": "#2a3f5f"
           }
          },
          "ternary": {
           "aaxis": {
            "gridcolor": "white",
            "linecolor": "white",
            "ticks": ""
           },
           "baxis": {
            "gridcolor": "white",
            "linecolor": "white",
            "ticks": ""
           },
           "bgcolor": "#E5ECF6",
           "caxis": {
            "gridcolor": "white",
            "linecolor": "white",
            "ticks": ""
           }
          },
          "title": {
           "x": 0.05
          },
          "xaxis": {
           "automargin": true,
           "gridcolor": "white",
           "linecolor": "white",
           "ticks": "",
           "title": {
            "standoff": 15
           },
           "zerolinecolor": "white",
           "zerolinewidth": 2
          },
          "yaxis": {
           "automargin": true,
           "gridcolor": "white",
           "linecolor": "white",
           "ticks": "",
           "title": {
            "standoff": 15
           },
           "zerolinecolor": "white",
           "zerolinewidth": 2
          }
         }
        },
        "title": {
         "text": "Houses by condition"
        }
       }
      }
     },
     "metadata": {},
     "output_type": "display_data"
    }
   ],
   "source": [
    "# Testing provided plots\n",
    "\n",
    "\n",
    "fig = px.scatter_mapbox(db_request,\n",
    "                           lat=db_request.lat,\n",
    "                           lon=db_request.long,\n",
    "                           color='condition',\n",
    "                           title='Houses by condition',\n",
    "                           mapbox_style='open-street-map',\n",
    "                           center={\"lat\": db_request['lat'].mean(), \"lon\": db_request['long'].mean()}\n",
    "                     )\n",
    "fig.show()\n"
   ]
  },
  {
   "cell_type": "markdown",
   "metadata": {},
   "source": [
    "### Starting with analysis:"
   ]
  },
  {
   "cell_type": "markdown",
   "metadata": {},
   "source": [
    "1. There are zipcodes, where the house-prices are significantly cheaper than the average house-price in Kings county. <b>"
   ]
  },
  {
   "cell_type": "code",
   "execution_count": null,
   "metadata": {},
   "outputs": [
    {
     "data": {
      "text/plain": [
       "70"
      ]
     },
     "execution_count": 43,
     "metadata": {},
     "output_type": "execute_result"
    }
   ],
   "source": [
    "# how many unique zipcodes to we have?\n",
    "db_request.zipcode.nunique()"
   ]
  },
  {
   "cell_type": "code",
   "execution_count": 68,
   "metadata": {},
   "outputs": [],
   "source": [
    "# what is the average house price in Kings County:\n",
    "KC_mean_price = db_request.price.mean()"
   ]
  },
  {
   "cell_type": "code",
   "execution_count": null,
   "metadata": {},
   "outputs": [
    {
     "data": {
      "text/plain": [
       "69"
      ]
     },
     "execution_count": 66,
     "metadata": {},
     "output_type": "execute_result"
    }
   ],
   "source": [
    "# How many zipcodes have houses that cost less than the average house price?\n",
    "db_request[db_request['price'] < db_request.price.mean()]['zipcode'].nunique()"
   ]
  },
  {
   "cell_type": "code",
   "execution_count": 71,
   "metadata": {},
   "outputs": [
    {
     "data": {
      "text/plain": [
       "np.int64(38)"
      ]
     },
     "execution_count": 71,
     "metadata": {},
     "output_type": "execute_result"
    }
   ],
   "source": [
    "# here I group the houses based on their zipcodes, the define the average price for a house per zipcode\n",
    "grp_zip = db_request.groupby('zipcode')\n",
    "grp_zip_mean = db_request.groupby('zipcode').mean('price').reset_index()\n",
    "\n",
    "# Now I create a DF of those zipcodes, having a lower average house price than the average of whole Kings County\n",
    "poorer_zip = grp_zip_mean[grp_zip_mean['price'] < KC_mean_price]\n",
    "\n",
    "poorer_zip['zipcode'].count() # to see how many zip codes have an average price below the overall average price"
   ]
  },
  {
   "cell_type": "code",
   "execution_count": null,
   "metadata": {},
   "outputs": [
    {
     "data": {
      "application/vnd.plotly.v1+json": {
       "config": {
        "plotlyServerURL": "https://plot.ly"
       },
       "data": [
        {
         "coloraxis": "coloraxis",
         "featureidkey": "properties.ZCTA5CE10",
         "geojson": "https://raw.githubusercontent.com/OpenDataDE/State-zip-code-GeoJSON/master/wa_washington_zip_codes_geo.min.json",
         "hovertemplate": "zipcode=%{location}<br>price=%{z}<extra></extra>",
         "locations": {
          "bdata": "0X4BANJ+AQDTfgEA2n4BANt+AQDefgEA434BAOZ+AQDnfgEA7H4BAO5+AQDvfgEA8H4BAPJ+AQD2fgEA+n4BAP1+AQAHfwEACH8BAAp/AQALfwEAEX8BABZ/AQAsfwEAOn8BADx/AQBGfwEATX8BAE5/AQBVfwEAYn8BAGR/AQBrfwEAdn8BAHh/AQCCfwEAjH8BAJZ/AQA=",
          "dtype": "i4"
         },
         "name": "",
         "subplot": "mapbox",
         "type": "choroplethmapbox",
         "z": {
          "bdata": "4nKueqspEUGdSgpIYJkMQR3UQR198xFBXI/C9cfbGUFu5EZuJO4dQTrnnHMEzxtBknasQLztGUGsa+6PGVUTQREqGj9bgBFBlcEeemM6HEEAAADs7xMSQZ3JmZzRVBJBuB6F6wGtDkE+/AcPMNgfQfjee+/NZxZB2RB0WHEEE0ET5ClBod4aQQ9Uzm4YkhJBUUDH5n2wGUFNyIRMTJUVQT3UQz3lIB5BnJWfkLspIEESGIERmN4dQZatLkAkcRRBqo98k3WBE0EIIYQQerUVQQ8GnHGNgxlBjc4mEqOuHEFNOwdreuwZQc8VblwOnxdBq6qqCiHxFUG0mM5ismMRQTHLkZ/j3BlBeTwejwlXHEEsmlb5QlYNQQ7T3AVT9RJB4uHhYdmkEUF1UAf1wnwSQQ==",
          "dtype": "f8"
         }
        }
       ],
       "layout": {
        "coloraxis": {
         "colorbar": {
          "title": {
           "text": "price"
          }
         },
         "colorscale": [
          [
           0,
           "#000000"
          ],
          [
           0.0625,
           "#001f4d"
          ],
          [
           0.125,
           "#003786"
          ],
          [
           0.1875,
           "#0e58a8"
          ],
          [
           0.25,
           "#217eb8"
          ],
          [
           0.3125,
           "#30a4ca"
          ],
          [
           0.375,
           "#54c8df"
          ],
          [
           0.4375,
           "#9be4ef"
          ],
          [
           0.5,
           "#e1e9d1"
          ],
          [
           0.5625,
           "#f3d573"
          ],
          [
           0.625,
           "#e7b000"
          ],
          [
           0.6875,
           "#da8200"
          ],
          [
           0.75,
           "#c65400"
          ],
          [
           0.8125,
           "#ac2301"
          ],
          [
           0.875,
           "#820000"
          ],
          [
           0.9375,
           "#4c0000"
          ],
          [
           1,
           "#000000"
          ]
         ]
        },
        "height": 900,
        "legend": {
         "tracegroupgap": 0
        },
        "mapbox": {
         "center": {
          "lat": 47.48799447293854,
          "lon": -122.20508564293543
         },
         "domain": {
          "x": [
           0,
           1
          ],
          "y": [
           0,
           1
          ]
         },
         "style": "open-street-map",
         "zoom": 8
        },
        "template": {
         "data": {
          "bar": [
           {
            "error_x": {
             "color": "#2a3f5f"
            },
            "error_y": {
             "color": "#2a3f5f"
            },
            "marker": {
             "line": {
              "color": "#E5ECF6",
              "width": 0.5
             },
             "pattern": {
              "fillmode": "overlay",
              "size": 10,
              "solidity": 0.2
             }
            },
            "type": "bar"
           }
          ],
          "barpolar": [
           {
            "marker": {
             "line": {
              "color": "#E5ECF6",
              "width": 0.5
             },
             "pattern": {
              "fillmode": "overlay",
              "size": 10,
              "solidity": 0.2
             }
            },
            "type": "barpolar"
           }
          ],
          "carpet": [
           {
            "aaxis": {
             "endlinecolor": "#2a3f5f",
             "gridcolor": "white",
             "linecolor": "white",
             "minorgridcolor": "white",
             "startlinecolor": "#2a3f5f"
            },
            "baxis": {
             "endlinecolor": "#2a3f5f",
             "gridcolor": "white",
             "linecolor": "white",
             "minorgridcolor": "white",
             "startlinecolor": "#2a3f5f"
            },
            "type": "carpet"
           }
          ],
          "choropleth": [
           {
            "colorbar": {
             "outlinewidth": 0,
             "ticks": ""
            },
            "type": "choropleth"
           }
          ],
          "contour": [
           {
            "colorbar": {
             "outlinewidth": 0,
             "ticks": ""
            },
            "colorscale": [
             [
              0,
              "#0d0887"
             ],
             [
              0.1111111111111111,
              "#46039f"
             ],
             [
              0.2222222222222222,
              "#7201a8"
             ],
             [
              0.3333333333333333,
              "#9c179e"
             ],
             [
              0.4444444444444444,
              "#bd3786"
             ],
             [
              0.5555555555555556,
              "#d8576b"
             ],
             [
              0.6666666666666666,
              "#ed7953"
             ],
             [
              0.7777777777777778,
              "#fb9f3a"
             ],
             [
              0.8888888888888888,
              "#fdca26"
             ],
             [
              1,
              "#f0f921"
             ]
            ],
            "type": "contour"
           }
          ],
          "contourcarpet": [
           {
            "colorbar": {
             "outlinewidth": 0,
             "ticks": ""
            },
            "type": "contourcarpet"
           }
          ],
          "heatmap": [
           {
            "colorbar": {
             "outlinewidth": 0,
             "ticks": ""
            },
            "colorscale": [
             [
              0,
              "#0d0887"
             ],
             [
              0.1111111111111111,
              "#46039f"
             ],
             [
              0.2222222222222222,
              "#7201a8"
             ],
             [
              0.3333333333333333,
              "#9c179e"
             ],
             [
              0.4444444444444444,
              "#bd3786"
             ],
             [
              0.5555555555555556,
              "#d8576b"
             ],
             [
              0.6666666666666666,
              "#ed7953"
             ],
             [
              0.7777777777777778,
              "#fb9f3a"
             ],
             [
              0.8888888888888888,
              "#fdca26"
             ],
             [
              1,
              "#f0f921"
             ]
            ],
            "type": "heatmap"
           }
          ],
          "histogram": [
           {
            "marker": {
             "pattern": {
              "fillmode": "overlay",
              "size": 10,
              "solidity": 0.2
             }
            },
            "type": "histogram"
           }
          ],
          "histogram2d": [
           {
            "colorbar": {
             "outlinewidth": 0,
             "ticks": ""
            },
            "colorscale": [
             [
              0,
              "#0d0887"
             ],
             [
              0.1111111111111111,
              "#46039f"
             ],
             [
              0.2222222222222222,
              "#7201a8"
             ],
             [
              0.3333333333333333,
              "#9c179e"
             ],
             [
              0.4444444444444444,
              "#bd3786"
             ],
             [
              0.5555555555555556,
              "#d8576b"
             ],
             [
              0.6666666666666666,
              "#ed7953"
             ],
             [
              0.7777777777777778,
              "#fb9f3a"
             ],
             [
              0.8888888888888888,
              "#fdca26"
             ],
             [
              1,
              "#f0f921"
             ]
            ],
            "type": "histogram2d"
           }
          ],
          "histogram2dcontour": [
           {
            "colorbar": {
             "outlinewidth": 0,
             "ticks": ""
            },
            "colorscale": [
             [
              0,
              "#0d0887"
             ],
             [
              0.1111111111111111,
              "#46039f"
             ],
             [
              0.2222222222222222,
              "#7201a8"
             ],
             [
              0.3333333333333333,
              "#9c179e"
             ],
             [
              0.4444444444444444,
              "#bd3786"
             ],
             [
              0.5555555555555556,
              "#d8576b"
             ],
             [
              0.6666666666666666,
              "#ed7953"
             ],
             [
              0.7777777777777778,
              "#fb9f3a"
             ],
             [
              0.8888888888888888,
              "#fdca26"
             ],
             [
              1,
              "#f0f921"
             ]
            ],
            "type": "histogram2dcontour"
           }
          ],
          "mesh3d": [
           {
            "colorbar": {
             "outlinewidth": 0,
             "ticks": ""
            },
            "type": "mesh3d"
           }
          ],
          "parcoords": [
           {
            "line": {
             "colorbar": {
              "outlinewidth": 0,
              "ticks": ""
             }
            },
            "type": "parcoords"
           }
          ],
          "pie": [
           {
            "automargin": true,
            "type": "pie"
           }
          ],
          "scatter": [
           {
            "fillpattern": {
             "fillmode": "overlay",
             "size": 10,
             "solidity": 0.2
            },
            "type": "scatter"
           }
          ],
          "scatter3d": [
           {
            "line": {
             "colorbar": {
              "outlinewidth": 0,
              "ticks": ""
             }
            },
            "marker": {
             "colorbar": {
              "outlinewidth": 0,
              "ticks": ""
             }
            },
            "type": "scatter3d"
           }
          ],
          "scattercarpet": [
           {
            "marker": {
             "colorbar": {
              "outlinewidth": 0,
              "ticks": ""
             }
            },
            "type": "scattercarpet"
           }
          ],
          "scattergeo": [
           {
            "marker": {
             "colorbar": {
              "outlinewidth": 0,
              "ticks": ""
             }
            },
            "type": "scattergeo"
           }
          ],
          "scattergl": [
           {
            "marker": {
             "colorbar": {
              "outlinewidth": 0,
              "ticks": ""
             }
            },
            "type": "scattergl"
           }
          ],
          "scattermap": [
           {
            "marker": {
             "colorbar": {
              "outlinewidth": 0,
              "ticks": ""
             }
            },
            "type": "scattermap"
           }
          ],
          "scattermapbox": [
           {
            "marker": {
             "colorbar": {
              "outlinewidth": 0,
              "ticks": ""
             }
            },
            "type": "scattermapbox"
           }
          ],
          "scatterpolar": [
           {
            "marker": {
             "colorbar": {
              "outlinewidth": 0,
              "ticks": ""
             }
            },
            "type": "scatterpolar"
           }
          ],
          "scatterpolargl": [
           {
            "marker": {
             "colorbar": {
              "outlinewidth": 0,
              "ticks": ""
             }
            },
            "type": "scatterpolargl"
           }
          ],
          "scatterternary": [
           {
            "marker": {
             "colorbar": {
              "outlinewidth": 0,
              "ticks": ""
             }
            },
            "type": "scatterternary"
           }
          ],
          "surface": [
           {
            "colorbar": {
             "outlinewidth": 0,
             "ticks": ""
            },
            "colorscale": [
             [
              0,
              "#0d0887"
             ],
             [
              0.1111111111111111,
              "#46039f"
             ],
             [
              0.2222222222222222,
              "#7201a8"
             ],
             [
              0.3333333333333333,
              "#9c179e"
             ],
             [
              0.4444444444444444,
              "#bd3786"
             ],
             [
              0.5555555555555556,
              "#d8576b"
             ],
             [
              0.6666666666666666,
              "#ed7953"
             ],
             [
              0.7777777777777778,
              "#fb9f3a"
             ],
             [
              0.8888888888888888,
              "#fdca26"
             ],
             [
              1,
              "#f0f921"
             ]
            ],
            "type": "surface"
           }
          ],
          "table": [
           {
            "cells": {
             "fill": {
              "color": "#EBF0F8"
             },
             "line": {
              "color": "white"
             }
            },
            "header": {
             "fill": {
              "color": "#C8D4E3"
             },
             "line": {
              "color": "white"
             }
            },
            "type": "table"
           }
          ]
         },
         "layout": {
          "annotationdefaults": {
           "arrowcolor": "#2a3f5f",
           "arrowhead": 0,
           "arrowwidth": 1
          },
          "autotypenumbers": "strict",
          "coloraxis": {
           "colorbar": {
            "outlinewidth": 0,
            "ticks": ""
           }
          },
          "colorscale": {
           "diverging": [
            [
             0,
             "#8e0152"
            ],
            [
             0.1,
             "#c51b7d"
            ],
            [
             0.2,
             "#de77ae"
            ],
            [
             0.3,
             "#f1b6da"
            ],
            [
             0.4,
             "#fde0ef"
            ],
            [
             0.5,
             "#f7f7f7"
            ],
            [
             0.6,
             "#e6f5d0"
            ],
            [
             0.7,
             "#b8e186"
            ],
            [
             0.8,
             "#7fbc41"
            ],
            [
             0.9,
             "#4d9221"
            ],
            [
             1,
             "#276419"
            ]
           ],
           "sequential": [
            [
             0,
             "#0d0887"
            ],
            [
             0.1111111111111111,
             "#46039f"
            ],
            [
             0.2222222222222222,
             "#7201a8"
            ],
            [
             0.3333333333333333,
             "#9c179e"
            ],
            [
             0.4444444444444444,
             "#bd3786"
            ],
            [
             0.5555555555555556,
             "#d8576b"
            ],
            [
             0.6666666666666666,
             "#ed7953"
            ],
            [
             0.7777777777777778,
             "#fb9f3a"
            ],
            [
             0.8888888888888888,
             "#fdca26"
            ],
            [
             1,
             "#f0f921"
            ]
           ],
           "sequentialminus": [
            [
             0,
             "#0d0887"
            ],
            [
             0.1111111111111111,
             "#46039f"
            ],
            [
             0.2222222222222222,
             "#7201a8"
            ],
            [
             0.3333333333333333,
             "#9c179e"
            ],
            [
             0.4444444444444444,
             "#bd3786"
            ],
            [
             0.5555555555555556,
             "#d8576b"
            ],
            [
             0.6666666666666666,
             "#ed7953"
            ],
            [
             0.7777777777777778,
             "#fb9f3a"
            ],
            [
             0.8888888888888888,
             "#fdca26"
            ],
            [
             1,
             "#f0f921"
            ]
           ]
          },
          "colorway": [
           "#636efa",
           "#EF553B",
           "#00cc96",
           "#ab63fa",
           "#FFA15A",
           "#19d3f3",
           "#FF6692",
           "#B6E880",
           "#FF97FF",
           "#FECB52"
          ],
          "font": {
           "color": "#2a3f5f"
          },
          "geo": {
           "bgcolor": "white",
           "lakecolor": "white",
           "landcolor": "#E5ECF6",
           "showlakes": true,
           "showland": true,
           "subunitcolor": "white"
          },
          "hoverlabel": {
           "align": "left"
          },
          "hovermode": "closest",
          "mapbox": {
           "style": "light"
          },
          "paper_bgcolor": "white",
          "plot_bgcolor": "#E5ECF6",
          "polar": {
           "angularaxis": {
            "gridcolor": "white",
            "linecolor": "white",
            "ticks": ""
           },
           "bgcolor": "#E5ECF6",
           "radialaxis": {
            "gridcolor": "white",
            "linecolor": "white",
            "ticks": ""
           }
          },
          "scene": {
           "xaxis": {
            "backgroundcolor": "#E5ECF6",
            "gridcolor": "white",
            "gridwidth": 2,
            "linecolor": "white",
            "showbackground": true,
            "ticks": "",
            "zerolinecolor": "white"
           },
           "yaxis": {
            "backgroundcolor": "#E5ECF6",
            "gridcolor": "white",
            "gridwidth": 2,
            "linecolor": "white",
            "showbackground": true,
            "ticks": "",
            "zerolinecolor": "white"
           },
           "zaxis": {
            "backgroundcolor": "#E5ECF6",
            "gridcolor": "white",
            "gridwidth": 2,
            "linecolor": "white",
            "showbackground": true,
            "ticks": "",
            "zerolinecolor": "white"
           }
          },
          "shapedefaults": {
           "line": {
            "color": "#2a3f5f"
           }
          },
          "ternary": {
           "aaxis": {
            "gridcolor": "white",
            "linecolor": "white",
            "ticks": ""
           },
           "baxis": {
            "gridcolor": "white",
            "linecolor": "white",
            "ticks": ""
           },
           "bgcolor": "#E5ECF6",
           "caxis": {
            "gridcolor": "white",
            "linecolor": "white",
            "ticks": ""
           }
          },
          "title": {
           "x": 0.05
          },
          "xaxis": {
           "automargin": true,
           "gridcolor": "white",
           "linecolor": "white",
           "ticks": "",
           "title": {
            "standoff": 15
           },
           "zerolinecolor": "white",
           "zerolinewidth": 2
          },
          "yaxis": {
           "automargin": true,
           "gridcolor": "white",
           "linecolor": "white",
           "ticks": "",
           "title": {
            "standoff": 15
           },
           "zerolinecolor": "white",
           "zerolinewidth": 2
          }
         }
        },
        "title": {
         "text": "Neighborhoods with average house prices below the total house-price average in Kings County"
        },
        "width": 900
       }
      }
     },
     "metadata": {},
     "output_type": "display_data"
    }
   ],
   "source": [
    "# Start plotting this on a map:\n",
    "fig_belowAvgPrice_map = px.choropleth_mapbox(poorer_zip,\n",
    "                           locations='zipcode',\n",
    "                           geojson='https://raw.githubusercontent.com/OpenDataDE/State-zip-code-GeoJSON/master/wa_washington_zip_codes_geo.min.json',\n",
    "                           color='price',\n",
    "                           featureidkey='properties.ZCTA5CE10',\n",
    "                           title='Neighborhoods with average house prices below the total house-price average in Kings County',\n",
    "                           mapbox_style='open-street-map', zoom=8,\n",
    "                           color_continuous_scale=px.colors.cyclical.IceFire, \n",
    "                           width=900,  # Set the width of the plot\n",
    "                           height=900,   # Set the height of the plot\n",
    "                           center={\"lat\": poorer_zip['lat'].mean(), \"lon\": poorer_zip['long'].mean()}\n",
    "                     )\n",
    "\n",
    "# adding map-plot with the all zip codes to see the difference:\n",
    "figCondition = px.choropleth_mapbox(db_request,\n",
    "                           locations='zipcode',\n",
    "                           geojson='https://raw.githubusercontent.com/OpenDataDE/State-zip-code-GeoJSON/master/wa_washington_zip_codes_geo.min.json',\n",
    "                           color='condition',\n",
    "                           featureidkey='properties.ZCTA5CE10',\n",
    "                           title='Houses by condition',\n",
    "                           mapbox_style='open-street-map',\n",
    "                           center={\"lat\": db_request['lat'].mean(), \"lon\": db_request['long'].mean()}\n",
    "                     )\n",
    "\n",
    "figPrice = px.choropleth_mapbox(db_request,\n",
    "                           locations='zipcode',\n",
    "                           geojson='https://raw.githubusercontent.com/OpenDataDE/State-zip-code-GeoJSON/master/wa_washington_zip_codes_geo.min.json',\n",
    "                           color='price',\n",
    "                           featureidkey='properties.ZCTA5CE10',\n",
    "                           title='Houses by price',\n",
    "                           mapbox_style='open-street-map',\n",
    "                           center={\"lat\": db_request['lat'].mean(), \"lon\": db_request['long'].mean()}\n",
    "                     )\n",
    "\n",
    "fig_belowAvgPrice_map.show()#, figCondition.show(), figPrice.show()"
   ]
  },
  {
   "cell_type": "code",
   "execution_count": 47,
   "metadata": {},
   "outputs": [],
   "source": [
    "prices_q1 = db_request.price.quantile(0.25)\n",
    "grp_zip_q1 = grp_zip_mean[grp_zip_mean['price'] < prices_q1]"
   ]
  },
  {
   "cell_type": "code",
   "execution_count": 48,
   "metadata": {},
   "outputs": [
    {
     "data": {
      "application/vnd.plotly.v1+json": {
       "config": {
        "plotlyServerURL": "https://plot.ly"
       },
       "data": [
        {
         "coloraxis": "coloraxis",
         "featureidkey": "properties.ZCTA5CE10",
         "geojson": "https://raw.githubusercontent.com/OpenDataDE/State-zip-code-GeoJSON/master/wa_washington_zip_codes_geo.min.json",
         "hovertemplate": "zipcode=%{location}<br>price=%{z}<extra></extra>",
         "locations": {
          "bdata": "0X4BANJ+AQDTfgEA5n4BAOd+AQDufgEA734BAPB+AQD6fgEAB38BADp/AQBkfwEAeH8BAIJ/AQCMfwEAln8BAA==",
          "dtype": "i4"
         },
         "name": "",
         "subplot": "mapbox",
         "type": "choroplethmapbox",
         "z": {
          "bdata": "4nKueqspEUGdSgpIYJkMQR3UQR198xFBrGvujxlVE0ERKho/W4ARQQAAAOzvExJBncmZnNFUEkG4HoXrAa0OQdkQdFhxBBNBD1TObhiSEkGqj3yTdYETQbSYzmKyYxFBLJpW+UJWDUEO09wFU/USQeLh4WHZpBFBdVAH9cJ8EkE=",
          "dtype": "f8"
         }
        }
       ],
       "layout": {
        "coloraxis": {
         "colorbar": {
          "title": {
           "text": "price"
          }
         },
         "colorscale": [
          [
           0,
           "#000000"
          ],
          [
           0.0625,
           "#001f4d"
          ],
          [
           0.125,
           "#003786"
          ],
          [
           0.1875,
           "#0e58a8"
          ],
          [
           0.25,
           "#217eb8"
          ],
          [
           0.3125,
           "#30a4ca"
          ],
          [
           0.375,
           "#54c8df"
          ],
          [
           0.4375,
           "#9be4ef"
          ],
          [
           0.5,
           "#e1e9d1"
          ],
          [
           0.5625,
           "#f3d573"
          ],
          [
           0.625,
           "#e7b000"
          ],
          [
           0.6875,
           "#da8200"
          ],
          [
           0.75,
           "#c65400"
          ],
          [
           0.8125,
           "#ac2301"
          ],
          [
           0.875,
           "#820000"
          ],
          [
           0.9375,
           "#4c0000"
          ],
          [
           1,
           "#000000"
          ]
         ]
        },
        "height": 900,
        "legend": {
         "tracegroupgap": 0
        },
        "mapbox": {
         "center": {
          "lat": 47.389045955364864,
          "lon": -122.24802346903391
         },
         "domain": {
          "x": [
           0,
           1
          ],
          "y": [
           0,
           1
          ]
         },
         "style": "open-street-map",
         "zoom": 8
        },
        "template": {
         "data": {
          "bar": [
           {
            "error_x": {
             "color": "#2a3f5f"
            },
            "error_y": {
             "color": "#2a3f5f"
            },
            "marker": {
             "line": {
              "color": "#E5ECF6",
              "width": 0.5
             },
             "pattern": {
              "fillmode": "overlay",
              "size": 10,
              "solidity": 0.2
             }
            },
            "type": "bar"
           }
          ],
          "barpolar": [
           {
            "marker": {
             "line": {
              "color": "#E5ECF6",
              "width": 0.5
             },
             "pattern": {
              "fillmode": "overlay",
              "size": 10,
              "solidity": 0.2
             }
            },
            "type": "barpolar"
           }
          ],
          "carpet": [
           {
            "aaxis": {
             "endlinecolor": "#2a3f5f",
             "gridcolor": "white",
             "linecolor": "white",
             "minorgridcolor": "white",
             "startlinecolor": "#2a3f5f"
            },
            "baxis": {
             "endlinecolor": "#2a3f5f",
             "gridcolor": "white",
             "linecolor": "white",
             "minorgridcolor": "white",
             "startlinecolor": "#2a3f5f"
            },
            "type": "carpet"
           }
          ],
          "choropleth": [
           {
            "colorbar": {
             "outlinewidth": 0,
             "ticks": ""
            },
            "type": "choropleth"
           }
          ],
          "contour": [
           {
            "colorbar": {
             "outlinewidth": 0,
             "ticks": ""
            },
            "colorscale": [
             [
              0,
              "#0d0887"
             ],
             [
              0.1111111111111111,
              "#46039f"
             ],
             [
              0.2222222222222222,
              "#7201a8"
             ],
             [
              0.3333333333333333,
              "#9c179e"
             ],
             [
              0.4444444444444444,
              "#bd3786"
             ],
             [
              0.5555555555555556,
              "#d8576b"
             ],
             [
              0.6666666666666666,
              "#ed7953"
             ],
             [
              0.7777777777777778,
              "#fb9f3a"
             ],
             [
              0.8888888888888888,
              "#fdca26"
             ],
             [
              1,
              "#f0f921"
             ]
            ],
            "type": "contour"
           }
          ],
          "contourcarpet": [
           {
            "colorbar": {
             "outlinewidth": 0,
             "ticks": ""
            },
            "type": "contourcarpet"
           }
          ],
          "heatmap": [
           {
            "colorbar": {
             "outlinewidth": 0,
             "ticks": ""
            },
            "colorscale": [
             [
              0,
              "#0d0887"
             ],
             [
              0.1111111111111111,
              "#46039f"
             ],
             [
              0.2222222222222222,
              "#7201a8"
             ],
             [
              0.3333333333333333,
              "#9c179e"
             ],
             [
              0.4444444444444444,
              "#bd3786"
             ],
             [
              0.5555555555555556,
              "#d8576b"
             ],
             [
              0.6666666666666666,
              "#ed7953"
             ],
             [
              0.7777777777777778,
              "#fb9f3a"
             ],
             [
              0.8888888888888888,
              "#fdca26"
             ],
             [
              1,
              "#f0f921"
             ]
            ],
            "type": "heatmap"
           }
          ],
          "histogram": [
           {
            "marker": {
             "pattern": {
              "fillmode": "overlay",
              "size": 10,
              "solidity": 0.2
             }
            },
            "type": "histogram"
           }
          ],
          "histogram2d": [
           {
            "colorbar": {
             "outlinewidth": 0,
             "ticks": ""
            },
            "colorscale": [
             [
              0,
              "#0d0887"
             ],
             [
              0.1111111111111111,
              "#46039f"
             ],
             [
              0.2222222222222222,
              "#7201a8"
             ],
             [
              0.3333333333333333,
              "#9c179e"
             ],
             [
              0.4444444444444444,
              "#bd3786"
             ],
             [
              0.5555555555555556,
              "#d8576b"
             ],
             [
              0.6666666666666666,
              "#ed7953"
             ],
             [
              0.7777777777777778,
              "#fb9f3a"
             ],
             [
              0.8888888888888888,
              "#fdca26"
             ],
             [
              1,
              "#f0f921"
             ]
            ],
            "type": "histogram2d"
           }
          ],
          "histogram2dcontour": [
           {
            "colorbar": {
             "outlinewidth": 0,
             "ticks": ""
            },
            "colorscale": [
             [
              0,
              "#0d0887"
             ],
             [
              0.1111111111111111,
              "#46039f"
             ],
             [
              0.2222222222222222,
              "#7201a8"
             ],
             [
              0.3333333333333333,
              "#9c179e"
             ],
             [
              0.4444444444444444,
              "#bd3786"
             ],
             [
              0.5555555555555556,
              "#d8576b"
             ],
             [
              0.6666666666666666,
              "#ed7953"
             ],
             [
              0.7777777777777778,
              "#fb9f3a"
             ],
             [
              0.8888888888888888,
              "#fdca26"
             ],
             [
              1,
              "#f0f921"
             ]
            ],
            "type": "histogram2dcontour"
           }
          ],
          "mesh3d": [
           {
            "colorbar": {
             "outlinewidth": 0,
             "ticks": ""
            },
            "type": "mesh3d"
           }
          ],
          "parcoords": [
           {
            "line": {
             "colorbar": {
              "outlinewidth": 0,
              "ticks": ""
             }
            },
            "type": "parcoords"
           }
          ],
          "pie": [
           {
            "automargin": true,
            "type": "pie"
           }
          ],
          "scatter": [
           {
            "fillpattern": {
             "fillmode": "overlay",
             "size": 10,
             "solidity": 0.2
            },
            "type": "scatter"
           }
          ],
          "scatter3d": [
           {
            "line": {
             "colorbar": {
              "outlinewidth": 0,
              "ticks": ""
             }
            },
            "marker": {
             "colorbar": {
              "outlinewidth": 0,
              "ticks": ""
             }
            },
            "type": "scatter3d"
           }
          ],
          "scattercarpet": [
           {
            "marker": {
             "colorbar": {
              "outlinewidth": 0,
              "ticks": ""
             }
            },
            "type": "scattercarpet"
           }
          ],
          "scattergeo": [
           {
            "marker": {
             "colorbar": {
              "outlinewidth": 0,
              "ticks": ""
             }
            },
            "type": "scattergeo"
           }
          ],
          "scattergl": [
           {
            "marker": {
             "colorbar": {
              "outlinewidth": 0,
              "ticks": ""
             }
            },
            "type": "scattergl"
           }
          ],
          "scattermap": [
           {
            "marker": {
             "colorbar": {
              "outlinewidth": 0,
              "ticks": ""
             }
            },
            "type": "scattermap"
           }
          ],
          "scattermapbox": [
           {
            "marker": {
             "colorbar": {
              "outlinewidth": 0,
              "ticks": ""
             }
            },
            "type": "scattermapbox"
           }
          ],
          "scatterpolar": [
           {
            "marker": {
             "colorbar": {
              "outlinewidth": 0,
              "ticks": ""
             }
            },
            "type": "scatterpolar"
           }
          ],
          "scatterpolargl": [
           {
            "marker": {
             "colorbar": {
              "outlinewidth": 0,
              "ticks": ""
             }
            },
            "type": "scatterpolargl"
           }
          ],
          "scatterternary": [
           {
            "marker": {
             "colorbar": {
              "outlinewidth": 0,
              "ticks": ""
             }
            },
            "type": "scatterternary"
           }
          ],
          "surface": [
           {
            "colorbar": {
             "outlinewidth": 0,
             "ticks": ""
            },
            "colorscale": [
             [
              0,
              "#0d0887"
             ],
             [
              0.1111111111111111,
              "#46039f"
             ],
             [
              0.2222222222222222,
              "#7201a8"
             ],
             [
              0.3333333333333333,
              "#9c179e"
             ],
             [
              0.4444444444444444,
              "#bd3786"
             ],
             [
              0.5555555555555556,
              "#d8576b"
             ],
             [
              0.6666666666666666,
              "#ed7953"
             ],
             [
              0.7777777777777778,
              "#fb9f3a"
             ],
             [
              0.8888888888888888,
              "#fdca26"
             ],
             [
              1,
              "#f0f921"
             ]
            ],
            "type": "surface"
           }
          ],
          "table": [
           {
            "cells": {
             "fill": {
              "color": "#EBF0F8"
             },
             "line": {
              "color": "white"
             }
            },
            "header": {
             "fill": {
              "color": "#C8D4E3"
             },
             "line": {
              "color": "white"
             }
            },
            "type": "table"
           }
          ]
         },
         "layout": {
          "annotationdefaults": {
           "arrowcolor": "#2a3f5f",
           "arrowhead": 0,
           "arrowwidth": 1
          },
          "autotypenumbers": "strict",
          "coloraxis": {
           "colorbar": {
            "outlinewidth": 0,
            "ticks": ""
           }
          },
          "colorscale": {
           "diverging": [
            [
             0,
             "#8e0152"
            ],
            [
             0.1,
             "#c51b7d"
            ],
            [
             0.2,
             "#de77ae"
            ],
            [
             0.3,
             "#f1b6da"
            ],
            [
             0.4,
             "#fde0ef"
            ],
            [
             0.5,
             "#f7f7f7"
            ],
            [
             0.6,
             "#e6f5d0"
            ],
            [
             0.7,
             "#b8e186"
            ],
            [
             0.8,
             "#7fbc41"
            ],
            [
             0.9,
             "#4d9221"
            ],
            [
             1,
             "#276419"
            ]
           ],
           "sequential": [
            [
             0,
             "#0d0887"
            ],
            [
             0.1111111111111111,
             "#46039f"
            ],
            [
             0.2222222222222222,
             "#7201a8"
            ],
            [
             0.3333333333333333,
             "#9c179e"
            ],
            [
             0.4444444444444444,
             "#bd3786"
            ],
            [
             0.5555555555555556,
             "#d8576b"
            ],
            [
             0.6666666666666666,
             "#ed7953"
            ],
            [
             0.7777777777777778,
             "#fb9f3a"
            ],
            [
             0.8888888888888888,
             "#fdca26"
            ],
            [
             1,
             "#f0f921"
            ]
           ],
           "sequentialminus": [
            [
             0,
             "#0d0887"
            ],
            [
             0.1111111111111111,
             "#46039f"
            ],
            [
             0.2222222222222222,
             "#7201a8"
            ],
            [
             0.3333333333333333,
             "#9c179e"
            ],
            [
             0.4444444444444444,
             "#bd3786"
            ],
            [
             0.5555555555555556,
             "#d8576b"
            ],
            [
             0.6666666666666666,
             "#ed7953"
            ],
            [
             0.7777777777777778,
             "#fb9f3a"
            ],
            [
             0.8888888888888888,
             "#fdca26"
            ],
            [
             1,
             "#f0f921"
            ]
           ]
          },
          "colorway": [
           "#636efa",
           "#EF553B",
           "#00cc96",
           "#ab63fa",
           "#FFA15A",
           "#19d3f3",
           "#FF6692",
           "#B6E880",
           "#FF97FF",
           "#FECB52"
          ],
          "font": {
           "color": "#2a3f5f"
          },
          "geo": {
           "bgcolor": "white",
           "lakecolor": "white",
           "landcolor": "#E5ECF6",
           "showlakes": true,
           "showland": true,
           "subunitcolor": "white"
          },
          "hoverlabel": {
           "align": "left"
          },
          "hovermode": "closest",
          "mapbox": {
           "style": "light"
          },
          "paper_bgcolor": "white",
          "plot_bgcolor": "#E5ECF6",
          "polar": {
           "angularaxis": {
            "gridcolor": "white",
            "linecolor": "white",
            "ticks": ""
           },
           "bgcolor": "#E5ECF6",
           "radialaxis": {
            "gridcolor": "white",
            "linecolor": "white",
            "ticks": ""
           }
          },
          "scene": {
           "xaxis": {
            "backgroundcolor": "#E5ECF6",
            "gridcolor": "white",
            "gridwidth": 2,
            "linecolor": "white",
            "showbackground": true,
            "ticks": "",
            "zerolinecolor": "white"
           },
           "yaxis": {
            "backgroundcolor": "#E5ECF6",
            "gridcolor": "white",
            "gridwidth": 2,
            "linecolor": "white",
            "showbackground": true,
            "ticks": "",
            "zerolinecolor": "white"
           },
           "zaxis": {
            "backgroundcolor": "#E5ECF6",
            "gridcolor": "white",
            "gridwidth": 2,
            "linecolor": "white",
            "showbackground": true,
            "ticks": "",
            "zerolinecolor": "white"
           }
          },
          "shapedefaults": {
           "line": {
            "color": "#2a3f5f"
           }
          },
          "ternary": {
           "aaxis": {
            "gridcolor": "white",
            "linecolor": "white",
            "ticks": ""
           },
           "baxis": {
            "gridcolor": "white",
            "linecolor": "white",
            "ticks": ""
           },
           "bgcolor": "#E5ECF6",
           "caxis": {
            "gridcolor": "white",
            "linecolor": "white",
            "ticks": ""
           }
          },
          "title": {
           "x": 0.05
          },
          "xaxis": {
           "automargin": true,
           "gridcolor": "white",
           "linecolor": "white",
           "ticks": "",
           "title": {
            "standoff": 15
           },
           "zerolinecolor": "white",
           "zerolinewidth": 2
          },
          "yaxis": {
           "automargin": true,
           "gridcolor": "white",
           "linecolor": "white",
           "ticks": "",
           "title": {
            "standoff": 15
           },
           "zerolinecolor": "white",
           "zerolinewidth": 2
          }
         }
        },
        "title": {
         "text": "Zipcodes with an average house price in the first quantile"
        },
        "width": 900
       }
      }
     },
     "metadata": {},
     "output_type": "display_data"
    }
   ],
   "source": [
    "\n",
    "fig_q1 = px.choropleth_mapbox(grp_zip_q1,\n",
    "                           locations='zipcode',\n",
    "                           geojson='https://raw.githubusercontent.com/OpenDataDE/State-zip-code-GeoJSON/master/wa_washington_zip_codes_geo.min.json',\n",
    "                           color='price',\n",
    "                           featureidkey='properties.ZCTA5CE10',\n",
    "                           title='Zipcodes with an average house price in the first quantile',\n",
    "                           mapbox_style='open-street-map',zoom=8,\n",
    "                           color_continuous_scale=px.colors.cyclical.IceFire, \n",
    "                           width=900,  # Set the width of the plot\n",
    "                           height=900,   # Set the height of the plot\n",
    "                           center={\"lat\": grp_zip_q1['lat'].mean(), \"lon\": grp_zip_q1['long'].mean()}\n",
    "                     )\n",
    "\n",
    "figCondition = px.choropleth_mapbox(db_request,\n",
    "                           locations='zipcode',\n",
    "                           geojson='https://raw.githubusercontent.com/OpenDataDE/State-zip-code-GeoJSON/master/wa_washington_zip_codes_geo.min.json',\n",
    "                           color='condition',\n",
    "                           featureidkey='properties.ZCTA5CE10',\n",
    "                           title='Houses by condition',\n",
    "                           mapbox_style='open-street-map',\n",
    "                           center={\"lat\": db_request['lat'].mean(), \"lon\": db_request['long'].mean()}\n",
    "                     )\n",
    "\n",
    "figPrice = px.choropleth_mapbox(db_request,\n",
    "                           locations='zipcode',\n",
    "                           geojson='https://raw.githubusercontent.com/OpenDataDE/State-zip-code-GeoJSON/master/wa_washington_zip_codes_geo.min.json',\n",
    "                           color='price',\n",
    "                           featureidkey='properties.ZCTA5CE10',\n",
    "                           title='Houses by price',\n",
    "                           mapbox_style='open-street-map',\n",
    "                           center={\"lat\": db_request['lat'].mean(), \"lon\": db_request['long'].mean()}\n",
    "                     )\n",
    "\n",
    "fig_q1.show()#, figCondition.show(), figPrice.show()"
   ]
  },
  {
   "cell_type": "code",
   "execution_count": 49,
   "metadata": {},
   "outputs": [
    {
     "data": {
      "text/html": [
       "<div>\n",
       "<style scoped>\n",
       "    .dataframe tbody tr th:only-of-type {\n",
       "        vertical-align: middle;\n",
       "    }\n",
       "\n",
       "    .dataframe tbody tr th {\n",
       "        vertical-align: top;\n",
       "    }\n",
       "\n",
       "    .dataframe thead th {\n",
       "        text-align: right;\n",
       "    }\n",
       "</style>\n",
       "<table border=\"1\" class=\"dataframe\">\n",
       "  <thead>\n",
       "    <tr style=\"text-align: right;\">\n",
       "      <th></th>\n",
       "      <th>bedrooms</th>\n",
       "      <th>bathrooms</th>\n",
       "      <th>sqft_living</th>\n",
       "      <th>sqft_lot</th>\n",
       "      <th>floors</th>\n",
       "      <th>waterfront</th>\n",
       "      <th>view</th>\n",
       "      <th>condition</th>\n",
       "      <th>grade</th>\n",
       "      <th>sqft_above</th>\n",
       "      <th>...</th>\n",
       "      <th>zipcode</th>\n",
       "      <th>lat</th>\n",
       "      <th>long</th>\n",
       "      <th>sqft_living15</th>\n",
       "      <th>sqft_lot15</th>\n",
       "      <th>date</th>\n",
       "      <th>price</th>\n",
       "      <th>house_id</th>\n",
       "      <th>sqft_living_price</th>\n",
       "      <th>sqft_lot_price</th>\n",
       "    </tr>\n",
       "  </thead>\n",
       "  <tbody>\n",
       "    <tr>\n",
       "      <th>0</th>\n",
       "      <td>3</td>\n",
       "      <td>1.000</td>\n",
       "      <td>1180.000</td>\n",
       "      <td>5650.000</td>\n",
       "      <td>1.000</td>\n",
       "      <td>False</td>\n",
       "      <td>0</td>\n",
       "      <td>3</td>\n",
       "      <td>7</td>\n",
       "      <td>1180.000</td>\n",
       "      <td>...</td>\n",
       "      <td>98178</td>\n",
       "      <td>47.511</td>\n",
       "      <td>-122.257</td>\n",
       "      <td>1340.000</td>\n",
       "      <td>5650.000</td>\n",
       "      <td>2014-10-13</td>\n",
       "      <td>221900</td>\n",
       "      <td>7129300520</td>\n",
       "      <td>188.051</td>\n",
       "      <td>39.274</td>\n",
       "    </tr>\n",
       "    <tr>\n",
       "      <th>1</th>\n",
       "      <td>3</td>\n",
       "      <td>2.250</td>\n",
       "      <td>2570.000</td>\n",
       "      <td>7242.000</td>\n",
       "      <td>2.000</td>\n",
       "      <td>False</td>\n",
       "      <td>0</td>\n",
       "      <td>3</td>\n",
       "      <td>7</td>\n",
       "      <td>2170.000</td>\n",
       "      <td>...</td>\n",
       "      <td>98125</td>\n",
       "      <td>47.721</td>\n",
       "      <td>-122.319</td>\n",
       "      <td>1690.000</td>\n",
       "      <td>7639.000</td>\n",
       "      <td>2014-12-09</td>\n",
       "      <td>538000</td>\n",
       "      <td>6414100192</td>\n",
       "      <td>209.339</td>\n",
       "      <td>74.289</td>\n",
       "    </tr>\n",
       "    <tr>\n",
       "      <th>2</th>\n",
       "      <td>2</td>\n",
       "      <td>1.000</td>\n",
       "      <td>770.000</td>\n",
       "      <td>10000.000</td>\n",
       "      <td>1.000</td>\n",
       "      <td>False</td>\n",
       "      <td>0</td>\n",
       "      <td>3</td>\n",
       "      <td>6</td>\n",
       "      <td>770.000</td>\n",
       "      <td>...</td>\n",
       "      <td>98028</td>\n",
       "      <td>47.738</td>\n",
       "      <td>-122.233</td>\n",
       "      <td>2720.000</td>\n",
       "      <td>8062.000</td>\n",
       "      <td>2015-02-25</td>\n",
       "      <td>180000</td>\n",
       "      <td>5631500400</td>\n",
       "      <td>233.766</td>\n",
       "      <td>18.000</td>\n",
       "    </tr>\n",
       "    <tr>\n",
       "      <th>3</th>\n",
       "      <td>4</td>\n",
       "      <td>3.000</td>\n",
       "      <td>1960.000</td>\n",
       "      <td>5000.000</td>\n",
       "      <td>1.000</td>\n",
       "      <td>False</td>\n",
       "      <td>0</td>\n",
       "      <td>5</td>\n",
       "      <td>7</td>\n",
       "      <td>1050.000</td>\n",
       "      <td>...</td>\n",
       "      <td>98136</td>\n",
       "      <td>47.521</td>\n",
       "      <td>-122.393</td>\n",
       "      <td>1360.000</td>\n",
       "      <td>5000.000</td>\n",
       "      <td>2014-12-09</td>\n",
       "      <td>604000</td>\n",
       "      <td>2487200875</td>\n",
       "      <td>308.163</td>\n",
       "      <td>120.800</td>\n",
       "    </tr>\n",
       "    <tr>\n",
       "      <th>4</th>\n",
       "      <td>3</td>\n",
       "      <td>2.000</td>\n",
       "      <td>1680.000</td>\n",
       "      <td>8080.000</td>\n",
       "      <td>1.000</td>\n",
       "      <td>False</td>\n",
       "      <td>0</td>\n",
       "      <td>3</td>\n",
       "      <td>8</td>\n",
       "      <td>1680.000</td>\n",
       "      <td>...</td>\n",
       "      <td>98074</td>\n",
       "      <td>47.617</td>\n",
       "      <td>-122.045</td>\n",
       "      <td>1800.000</td>\n",
       "      <td>7503.000</td>\n",
       "      <td>2015-02-18</td>\n",
       "      <td>510000</td>\n",
       "      <td>1954400510</td>\n",
       "      <td>303.571</td>\n",
       "      <td>63.119</td>\n",
       "    </tr>\n",
       "  </tbody>\n",
       "</table>\n",
       "<p>5 rows × 23 columns</p>\n",
       "</div>"
      ],
      "text/plain": [
       "   bedrooms  bathrooms  sqft_living  sqft_lot  floors  waterfront  view  \\\n",
       "0         3      1.000     1180.000  5650.000   1.000       False     0   \n",
       "1         3      2.250     2570.000  7242.000   2.000       False     0   \n",
       "2         2      1.000      770.000 10000.000   1.000       False     0   \n",
       "3         4      3.000     1960.000  5000.000   1.000       False     0   \n",
       "4         3      2.000     1680.000  8080.000   1.000       False     0   \n",
       "\n",
       "   condition  grade  sqft_above  ...  zipcode    lat     long  sqft_living15  \\\n",
       "0          3      7    1180.000  ...    98178 47.511 -122.257       1340.000   \n",
       "1          3      7    2170.000  ...    98125 47.721 -122.319       1690.000   \n",
       "2          3      6     770.000  ...    98028 47.738 -122.233       2720.000   \n",
       "3          5      7    1050.000  ...    98136 47.521 -122.393       1360.000   \n",
       "4          3      8    1680.000  ...    98074 47.617 -122.045       1800.000   \n",
       "\n",
       "   sqft_lot15       date   price    house_id sqft_living_price  sqft_lot_price  \n",
       "0    5650.000 2014-10-13  221900  7129300520           188.051          39.274  \n",
       "1    7639.000 2014-12-09  538000  6414100192           209.339          74.289  \n",
       "2    8062.000 2015-02-25  180000  5631500400           233.766          18.000  \n",
       "3    5000.000 2014-12-09  604000  2487200875           308.163         120.800  \n",
       "4    7503.000 2015-02-18  510000  1954400510           303.571          63.119  \n",
       "\n",
       "[5 rows x 23 columns]"
      ]
     },
     "execution_count": 49,
     "metadata": {},
     "output_type": "execute_result"
    }
   ],
   "source": [
    "# zipcodes are ok but if the sqfeet are simply less the prices qill stay lower as well, so lets calculate the average sqft price per zip code\n",
    "# I will start by creating two new columns, that calculates the average sqft price per house\n",
    "\n",
    "db_request.eval('sqft_living_price = price/sqft_living', inplace = True)\n",
    "db_request.eval('sqft_lot_price = price/sqft_lot', inplace = True)\n",
    "db_request.head()"
   ]
  },
  {
   "cell_type": "code",
   "execution_count": 50,
   "metadata": {},
   "outputs": [
    {
     "data": {
      "text/plain": [
       "(    zipcode  bedrooms  bathrooms  sqft_living  sqft_lot  floors  waterfront  \\\n",
       " 0     98001     3.393      2.012     1903.784 14967.003   1.431       0.000   \n",
       " 1     98002     3.327      1.839     1627.744  7517.633   1.334       0.000   \n",
       " 2     98003     3.357      2.047     1928.882 10603.096   1.311       0.000   \n",
       " 3     98004     3.855      2.528     2909.022 13104.221   1.432       0.003   \n",
       " 4     98005     3.851      2.424     2656.804 19928.786   1.280       0.000   \n",
       " ..      ...       ...        ...          ...       ...     ...         ...   \n",
       " 65    98177     3.396      2.100     2323.333 11904.404   1.276       0.004   \n",
       " 66    98178     3.305      1.732     1729.351  8309.122   1.185       0.034   \n",
       " 67    98188     3.434      1.864     1802.772 10126.081   1.228       0.000   \n",
       " 68    98198     3.182      1.788     1745.361 10525.979   1.225       0.032   \n",
       " 69    98199     3.211      2.168     2161.798  5436.284   1.468       0.003   \n",
       " \n",
       "     view  condition  grade  ...  yr_built  yr_renovated    lat     long  \\\n",
       " 0  0.094      3.335  7.296  ...  1980.867      1990.750 47.309 -122.271   \n",
       " 1  0.010      3.744  6.693  ...  1967.774      1987.000 47.309 -122.213   \n",
       " 2  0.214      3.371  7.543  ...  1976.886      1997.000 47.316 -122.310   \n",
       " 3  0.306      3.495  8.688  ...  1971.470      2000.179 47.616 -122.205   \n",
       " 4  0.095      3.696  8.488  ...  1969.744      2000.500 47.612 -122.167   \n",
       " ..   ...        ...    ...  ...       ...           ...    ...      ...   \n",
       " 65 0.812      3.494  7.976  ...  1960.843      1997.375 47.742 -122.369   \n",
       " 66 0.534      3.321  6.817  ...  1955.233      2000.333 47.499 -122.247   \n",
       " 67 0.147      3.331  7.037  ...  1965.507      1985.333 47.447 -122.281   \n",
       " 68 0.593      3.443  7.104  ...  1966.736      1992.667 47.391 -122.316   \n",
       " 69 0.552      3.508  8.013  ...  1956.527      1998.609 47.648 -122.398   \n",
       " \n",
       "     sqft_living15  sqft_lot15       price       house_id  sqft_living_price  \\\n",
       " 0        1830.100   11218.875  281194.870 4651273623.072            151.348   \n",
       " 1        1479.030    7585.482  234284.035 4850894131.724            151.174   \n",
       " 2        1876.196    9746.179  294111.279 4674181960.679            157.113   \n",
       " 3        2674.700   12805.022 1356523.991 4394237459.350            475.610   \n",
       " 4        2567.863   18367.774  810289.696 4961872170.542            314.967   \n",
       " ..            ...         ...         ...            ...                ...   \n",
       " 65       2186.196   11690.239  676419.392 3934998241.741            292.982   \n",
       " 66       1648.817    8149.641  310612.756 4291467000.687            189.173   \n",
       " 67       1636.279    9752.801  289078.346 4481850951.676            169.007   \n",
       " 68       1711.571    9478.596  302896.739 5152291468.886            178.434   \n",
       " 69       1991.167    5283.735  792187.874 3410034642.738            376.660   \n",
       " \n",
       "     sqft_lot_price  \n",
       " 0           30.872  \n",
       " 1           37.269  \n",
       " 2           33.017  \n",
       " 3          122.664  \n",
       " 4           60.925  \n",
       " ..             ...  \n",
       " 65          70.531  \n",
       " 66          42.608  \n",
       " 67          31.058  \n",
       " 68          35.934  \n",
       " 69         172.947  \n",
       " \n",
       " [70 rows x 22 columns],\n",
       "     zipcode  bedrooms  bathrooms  sqft_living  sqft_lot  floors  waterfront  \\\n",
       " 0     98001     3.393      2.012     1903.784 14967.003   1.431       0.000   \n",
       " 1     98002     3.327      1.839     1627.744  7517.633   1.334       0.000   \n",
       " 2     98003     3.357      2.047     1928.882 10603.096   1.311       0.000   \n",
       " 3     98004     3.855      2.528     2909.022 13104.221   1.432       0.003   \n",
       " 4     98005     3.851      2.424     2656.804 19928.786   1.280       0.000   \n",
       " ..      ...       ...        ...          ...       ...     ...         ...   \n",
       " 65    98177     3.396      2.100     2323.333 11904.404   1.276       0.004   \n",
       " 66    98178     3.305      1.732     1729.351  8309.122   1.185       0.034   \n",
       " 67    98188     3.434      1.864     1802.772 10126.081   1.228       0.000   \n",
       " 68    98198     3.182      1.788     1745.361 10525.979   1.225       0.032   \n",
       " 69    98199     3.211      2.168     2161.798  5436.284   1.468       0.003   \n",
       " \n",
       "     view  condition  grade  ...  yr_built  yr_renovated    lat     long  \\\n",
       " 0  0.094      3.335  7.296  ...  1980.867      1990.750 47.309 -122.271   \n",
       " 1  0.010      3.744  6.693  ...  1967.774      1987.000 47.309 -122.213   \n",
       " 2  0.214      3.371  7.543  ...  1976.886      1997.000 47.316 -122.310   \n",
       " 3  0.306      3.495  8.688  ...  1971.470      2000.179 47.616 -122.205   \n",
       " 4  0.095      3.696  8.488  ...  1969.744      2000.500 47.612 -122.167   \n",
       " ..   ...        ...    ...  ...       ...           ...    ...      ...   \n",
       " 65 0.812      3.494  7.976  ...  1960.843      1997.375 47.742 -122.369   \n",
       " 66 0.534      3.321  6.817  ...  1955.233      2000.333 47.499 -122.247   \n",
       " 67 0.147      3.331  7.037  ...  1965.507      1985.333 47.447 -122.281   \n",
       " 68 0.593      3.443  7.104  ...  1966.736      1992.667 47.391 -122.316   \n",
       " 69 0.552      3.508  8.013  ...  1956.527      1998.609 47.648 -122.398   \n",
       " \n",
       "     sqft_living15  sqft_lot15       price       house_id  sqft_living_price  \\\n",
       " 0        1830.100   11218.875  281194.870 4651273623.072            151.348   \n",
       " 1        1479.030    7585.482  234284.035 4850894131.724            151.174   \n",
       " 2        1876.196    9746.179  294111.279 4674181960.679            157.113   \n",
       " 3        2674.700   12805.022 1356523.991 4394237459.350            475.610   \n",
       " 4        2567.863   18367.774  810289.696 4961872170.542            314.967   \n",
       " ..            ...         ...         ...            ...                ...   \n",
       " 65       2186.196   11690.239  676419.392 3934998241.741            292.982   \n",
       " 66       1648.817    8149.641  310612.756 4291467000.687            189.173   \n",
       " 67       1636.279    9752.801  289078.346 4481850951.676            169.007   \n",
       " 68       1711.571    9478.596  302896.739 5152291468.886            178.434   \n",
       " 69       1991.167    5283.735  792187.874 3410034642.738            376.660   \n",
       " \n",
       "     sqft_lot_price  \n",
       " 0           30.872  \n",
       " 1           37.269  \n",
       " 2           33.017  \n",
       " 3          122.664  \n",
       " 4           60.925  \n",
       " ..             ...  \n",
       " 65          70.531  \n",
       " 66          42.608  \n",
       " 67          31.058  \n",
       " 68          35.934  \n",
       " 69         172.947  \n",
       " \n",
       " [70 rows x 22 columns])"
      ]
     },
     "execution_count": 50,
     "metadata": {},
     "output_type": "execute_result"
    }
   ],
   "source": [
    "grp_zip_mean_sq = db_request.groupby('zipcode').mean('sqft_living_price').reset_index()\n",
    "grp_zip_mean_sqlot = db_request.groupby('zipcode').mean('sqft_lot_price').reset_index()\n",
    "\n",
    "grp_zip_mean_sq, grp_zip_mean_sqlot"
   ]
  },
  {
   "cell_type": "code",
   "execution_count": 51,
   "metadata": {},
   "outputs": [],
   "source": [
    "sq_liv_price_q1 = db_request.sqft_living_price.quantile(0.25)\n",
    "grp_zip_sq_liv_price_q1 = grp_zip_mean_sq[grp_zip_mean_sq['sqft_living_price'] <= sq_liv_price_q1]"
   ]
  },
  {
   "cell_type": "code",
   "execution_count": 52,
   "metadata": {},
   "outputs": [
    {
     "data": {
      "application/vnd.plotly.v1+json": {
       "config": {
        "plotlyServerURL": "https://plot.ly"
       },
       "data": [
        {
         "coloraxis": "coloraxis",
         "featureidkey": "properties.ZCTA5CE10",
         "geojson": "https://raw.githubusercontent.com/OpenDataDE/State-zip-code-GeoJSON/master/wa_washington_zip_codes_geo.min.json",
         "hovertemplate": "zipcode=%{location}<br>sqft_living_price=%{z}<extra></extra>",
         "locations": {
          "bdata": "0X4BANJ+AQDTfgEA5n4BAOd+AQDufgEA734BAPB+AQD2fgEA+n4BAAd/AQAKfwEALH8BAHh/AQCMfwEAln8BAA==",
          "dtype": "i4"
         },
         "name": "",
         "subplot": "mapbox",
         "type": "choroplethmapbox",
         "z": {
          "bdata": "EoBjiiLrYkAYCTQnkuViQBZSYReho2NAXR7Iw2bDZkCJElpIfZ1iQIuae8L/ZGNAXykw90AjZED3/xJBBkdjQDwJH9JMt2VAqFSMnhSMZEAjFMk14YxmQKpDctCVRmZAo1YtQQ56Y0D0d8/H6+tlQKduU9o7IGVAh0HODuZNZkA=",
          "dtype": "f8"
         }
        }
       ],
       "layout": {
        "coloraxis": {
         "colorbar": {
          "title": {
           "text": "sqft_living_price"
          }
         },
         "colorscale": [
          [
           0,
           "#000000"
          ],
          [
           0.0625,
           "#001f4d"
          ],
          [
           0.125,
           "#003786"
          ],
          [
           0.1875,
           "#0e58a8"
          ],
          [
           0.25,
           "#217eb8"
          ],
          [
           0.3125,
           "#30a4ca"
          ],
          [
           0.375,
           "#54c8df"
          ],
          [
           0.4375,
           "#9be4ef"
          ],
          [
           0.5,
           "#e1e9d1"
          ],
          [
           0.5625,
           "#f3d573"
          ],
          [
           0.625,
           "#e7b000"
          ],
          [
           0.6875,
           "#da8200"
          ],
          [
           0.75,
           "#c65400"
          ],
          [
           0.8125,
           "#ac2301"
          ],
          [
           0.875,
           "#820000"
          ],
          [
           0.9375,
           "#4c0000"
          ],
          [
           1,
           "#000000"
          ]
         ]
        },
        "height": 900,
        "legend": {
         "tracegroupgap": 0
        },
        "mapbox": {
         "center": {
          "lat": 47.36690912554141,
          "lon": -122.21132344514812
         },
         "domain": {
          "x": [
           0,
           1
          ],
          "y": [
           0,
           1
          ]
         },
         "style": "open-street-map",
         "zoom": 8
        },
        "template": {
         "data": {
          "bar": [
           {
            "error_x": {
             "color": "#2a3f5f"
            },
            "error_y": {
             "color": "#2a3f5f"
            },
            "marker": {
             "line": {
              "color": "#E5ECF6",
              "width": 0.5
             },
             "pattern": {
              "fillmode": "overlay",
              "size": 10,
              "solidity": 0.2
             }
            },
            "type": "bar"
           }
          ],
          "barpolar": [
           {
            "marker": {
             "line": {
              "color": "#E5ECF6",
              "width": 0.5
             },
             "pattern": {
              "fillmode": "overlay",
              "size": 10,
              "solidity": 0.2
             }
            },
            "type": "barpolar"
           }
          ],
          "carpet": [
           {
            "aaxis": {
             "endlinecolor": "#2a3f5f",
             "gridcolor": "white",
             "linecolor": "white",
             "minorgridcolor": "white",
             "startlinecolor": "#2a3f5f"
            },
            "baxis": {
             "endlinecolor": "#2a3f5f",
             "gridcolor": "white",
             "linecolor": "white",
             "minorgridcolor": "white",
             "startlinecolor": "#2a3f5f"
            },
            "type": "carpet"
           }
          ],
          "choropleth": [
           {
            "colorbar": {
             "outlinewidth": 0,
             "ticks": ""
            },
            "type": "choropleth"
           }
          ],
          "contour": [
           {
            "colorbar": {
             "outlinewidth": 0,
             "ticks": ""
            },
            "colorscale": [
             [
              0,
              "#0d0887"
             ],
             [
              0.1111111111111111,
              "#46039f"
             ],
             [
              0.2222222222222222,
              "#7201a8"
             ],
             [
              0.3333333333333333,
              "#9c179e"
             ],
             [
              0.4444444444444444,
              "#bd3786"
             ],
             [
              0.5555555555555556,
              "#d8576b"
             ],
             [
              0.6666666666666666,
              "#ed7953"
             ],
             [
              0.7777777777777778,
              "#fb9f3a"
             ],
             [
              0.8888888888888888,
              "#fdca26"
             ],
             [
              1,
              "#f0f921"
             ]
            ],
            "type": "contour"
           }
          ],
          "contourcarpet": [
           {
            "colorbar": {
             "outlinewidth": 0,
             "ticks": ""
            },
            "type": "contourcarpet"
           }
          ],
          "heatmap": [
           {
            "colorbar": {
             "outlinewidth": 0,
             "ticks": ""
            },
            "colorscale": [
             [
              0,
              "#0d0887"
             ],
             [
              0.1111111111111111,
              "#46039f"
             ],
             [
              0.2222222222222222,
              "#7201a8"
             ],
             [
              0.3333333333333333,
              "#9c179e"
             ],
             [
              0.4444444444444444,
              "#bd3786"
             ],
             [
              0.5555555555555556,
              "#d8576b"
             ],
             [
              0.6666666666666666,
              "#ed7953"
             ],
             [
              0.7777777777777778,
              "#fb9f3a"
             ],
             [
              0.8888888888888888,
              "#fdca26"
             ],
             [
              1,
              "#f0f921"
             ]
            ],
            "type": "heatmap"
           }
          ],
          "histogram": [
           {
            "marker": {
             "pattern": {
              "fillmode": "overlay",
              "size": 10,
              "solidity": 0.2
             }
            },
            "type": "histogram"
           }
          ],
          "histogram2d": [
           {
            "colorbar": {
             "outlinewidth": 0,
             "ticks": ""
            },
            "colorscale": [
             [
              0,
              "#0d0887"
             ],
             [
              0.1111111111111111,
              "#46039f"
             ],
             [
              0.2222222222222222,
              "#7201a8"
             ],
             [
              0.3333333333333333,
              "#9c179e"
             ],
             [
              0.4444444444444444,
              "#bd3786"
             ],
             [
              0.5555555555555556,
              "#d8576b"
             ],
             [
              0.6666666666666666,
              "#ed7953"
             ],
             [
              0.7777777777777778,
              "#fb9f3a"
             ],
             [
              0.8888888888888888,
              "#fdca26"
             ],
             [
              1,
              "#f0f921"
             ]
            ],
            "type": "histogram2d"
           }
          ],
          "histogram2dcontour": [
           {
            "colorbar": {
             "outlinewidth": 0,
             "ticks": ""
            },
            "colorscale": [
             [
              0,
              "#0d0887"
             ],
             [
              0.1111111111111111,
              "#46039f"
             ],
             [
              0.2222222222222222,
              "#7201a8"
             ],
             [
              0.3333333333333333,
              "#9c179e"
             ],
             [
              0.4444444444444444,
              "#bd3786"
             ],
             [
              0.5555555555555556,
              "#d8576b"
             ],
             [
              0.6666666666666666,
              "#ed7953"
             ],
             [
              0.7777777777777778,
              "#fb9f3a"
             ],
             [
              0.8888888888888888,
              "#fdca26"
             ],
             [
              1,
              "#f0f921"
             ]
            ],
            "type": "histogram2dcontour"
           }
          ],
          "mesh3d": [
           {
            "colorbar": {
             "outlinewidth": 0,
             "ticks": ""
            },
            "type": "mesh3d"
           }
          ],
          "parcoords": [
           {
            "line": {
             "colorbar": {
              "outlinewidth": 0,
              "ticks": ""
             }
            },
            "type": "parcoords"
           }
          ],
          "pie": [
           {
            "automargin": true,
            "type": "pie"
           }
          ],
          "scatter": [
           {
            "fillpattern": {
             "fillmode": "overlay",
             "size": 10,
             "solidity": 0.2
            },
            "type": "scatter"
           }
          ],
          "scatter3d": [
           {
            "line": {
             "colorbar": {
              "outlinewidth": 0,
              "ticks": ""
             }
            },
            "marker": {
             "colorbar": {
              "outlinewidth": 0,
              "ticks": ""
             }
            },
            "type": "scatter3d"
           }
          ],
          "scattercarpet": [
           {
            "marker": {
             "colorbar": {
              "outlinewidth": 0,
              "ticks": ""
             }
            },
            "type": "scattercarpet"
           }
          ],
          "scattergeo": [
           {
            "marker": {
             "colorbar": {
              "outlinewidth": 0,
              "ticks": ""
             }
            },
            "type": "scattergeo"
           }
          ],
          "scattergl": [
           {
            "marker": {
             "colorbar": {
              "outlinewidth": 0,
              "ticks": ""
             }
            },
            "type": "scattergl"
           }
          ],
          "scattermap": [
           {
            "marker": {
             "colorbar": {
              "outlinewidth": 0,
              "ticks": ""
             }
            },
            "type": "scattermap"
           }
          ],
          "scattermapbox": [
           {
            "marker": {
             "colorbar": {
              "outlinewidth": 0,
              "ticks": ""
             }
            },
            "type": "scattermapbox"
           }
          ],
          "scatterpolar": [
           {
            "marker": {
             "colorbar": {
              "outlinewidth": 0,
              "ticks": ""
             }
            },
            "type": "scatterpolar"
           }
          ],
          "scatterpolargl": [
           {
            "marker": {
             "colorbar": {
              "outlinewidth": 0,
              "ticks": ""
             }
            },
            "type": "scatterpolargl"
           }
          ],
          "scatterternary": [
           {
            "marker": {
             "colorbar": {
              "outlinewidth": 0,
              "ticks": ""
             }
            },
            "type": "scatterternary"
           }
          ],
          "surface": [
           {
            "colorbar": {
             "outlinewidth": 0,
             "ticks": ""
            },
            "colorscale": [
             [
              0,
              "#0d0887"
             ],
             [
              0.1111111111111111,
              "#46039f"
             ],
             [
              0.2222222222222222,
              "#7201a8"
             ],
             [
              0.3333333333333333,
              "#9c179e"
             ],
             [
              0.4444444444444444,
              "#bd3786"
             ],
             [
              0.5555555555555556,
              "#d8576b"
             ],
             [
              0.6666666666666666,
              "#ed7953"
             ],
             [
              0.7777777777777778,
              "#fb9f3a"
             ],
             [
              0.8888888888888888,
              "#fdca26"
             ],
             [
              1,
              "#f0f921"
             ]
            ],
            "type": "surface"
           }
          ],
          "table": [
           {
            "cells": {
             "fill": {
              "color": "#EBF0F8"
             },
             "line": {
              "color": "white"
             }
            },
            "header": {
             "fill": {
              "color": "#C8D4E3"
             },
             "line": {
              "color": "white"
             }
            },
            "type": "table"
           }
          ]
         },
         "layout": {
          "annotationdefaults": {
           "arrowcolor": "#2a3f5f",
           "arrowhead": 0,
           "arrowwidth": 1
          },
          "autotypenumbers": "strict",
          "coloraxis": {
           "colorbar": {
            "outlinewidth": 0,
            "ticks": ""
           }
          },
          "colorscale": {
           "diverging": [
            [
             0,
             "#8e0152"
            ],
            [
             0.1,
             "#c51b7d"
            ],
            [
             0.2,
             "#de77ae"
            ],
            [
             0.3,
             "#f1b6da"
            ],
            [
             0.4,
             "#fde0ef"
            ],
            [
             0.5,
             "#f7f7f7"
            ],
            [
             0.6,
             "#e6f5d0"
            ],
            [
             0.7,
             "#b8e186"
            ],
            [
             0.8,
             "#7fbc41"
            ],
            [
             0.9,
             "#4d9221"
            ],
            [
             1,
             "#276419"
            ]
           ],
           "sequential": [
            [
             0,
             "#0d0887"
            ],
            [
             0.1111111111111111,
             "#46039f"
            ],
            [
             0.2222222222222222,
             "#7201a8"
            ],
            [
             0.3333333333333333,
             "#9c179e"
            ],
            [
             0.4444444444444444,
             "#bd3786"
            ],
            [
             0.5555555555555556,
             "#d8576b"
            ],
            [
             0.6666666666666666,
             "#ed7953"
            ],
            [
             0.7777777777777778,
             "#fb9f3a"
            ],
            [
             0.8888888888888888,
             "#fdca26"
            ],
            [
             1,
             "#f0f921"
            ]
           ],
           "sequentialminus": [
            [
             0,
             "#0d0887"
            ],
            [
             0.1111111111111111,
             "#46039f"
            ],
            [
             0.2222222222222222,
             "#7201a8"
            ],
            [
             0.3333333333333333,
             "#9c179e"
            ],
            [
             0.4444444444444444,
             "#bd3786"
            ],
            [
             0.5555555555555556,
             "#d8576b"
            ],
            [
             0.6666666666666666,
             "#ed7953"
            ],
            [
             0.7777777777777778,
             "#fb9f3a"
            ],
            [
             0.8888888888888888,
             "#fdca26"
            ],
            [
             1,
             "#f0f921"
            ]
           ]
          },
          "colorway": [
           "#636efa",
           "#EF553B",
           "#00cc96",
           "#ab63fa",
           "#FFA15A",
           "#19d3f3",
           "#FF6692",
           "#B6E880",
           "#FF97FF",
           "#FECB52"
          ],
          "font": {
           "color": "#2a3f5f"
          },
          "geo": {
           "bgcolor": "white",
           "lakecolor": "white",
           "landcolor": "#E5ECF6",
           "showlakes": true,
           "showland": true,
           "subunitcolor": "white"
          },
          "hoverlabel": {
           "align": "left"
          },
          "hovermode": "closest",
          "mapbox": {
           "style": "light"
          },
          "paper_bgcolor": "white",
          "plot_bgcolor": "#E5ECF6",
          "polar": {
           "angularaxis": {
            "gridcolor": "white",
            "linecolor": "white",
            "ticks": ""
           },
           "bgcolor": "#E5ECF6",
           "radialaxis": {
            "gridcolor": "white",
            "linecolor": "white",
            "ticks": ""
           }
          },
          "scene": {
           "xaxis": {
            "backgroundcolor": "#E5ECF6",
            "gridcolor": "white",
            "gridwidth": 2,
            "linecolor": "white",
            "showbackground": true,
            "ticks": "",
            "zerolinecolor": "white"
           },
           "yaxis": {
            "backgroundcolor": "#E5ECF6",
            "gridcolor": "white",
            "gridwidth": 2,
            "linecolor": "white",
            "showbackground": true,
            "ticks": "",
            "zerolinecolor": "white"
           },
           "zaxis": {
            "backgroundcolor": "#E5ECF6",
            "gridcolor": "white",
            "gridwidth": 2,
            "linecolor": "white",
            "showbackground": true,
            "ticks": "",
            "zerolinecolor": "white"
           }
          },
          "shapedefaults": {
           "line": {
            "color": "#2a3f5f"
           }
          },
          "ternary": {
           "aaxis": {
            "gridcolor": "white",
            "linecolor": "white",
            "ticks": ""
           },
           "baxis": {
            "gridcolor": "white",
            "linecolor": "white",
            "ticks": ""
           },
           "bgcolor": "#E5ECF6",
           "caxis": {
            "gridcolor": "white",
            "linecolor": "white",
            "ticks": ""
           }
          },
          "title": {
           "x": 0.05
          },
          "xaxis": {
           "automargin": true,
           "gridcolor": "white",
           "linecolor": "white",
           "ticks": "",
           "title": {
            "standoff": 15
           },
           "zerolinecolor": "white",
           "zerolinewidth": 2
          },
          "yaxis": {
           "automargin": true,
           "gridcolor": "white",
           "linecolor": "white",
           "ticks": "",
           "title": {
            "standoff": 15
           },
           "zerolinecolor": "white",
           "zerolinewidth": 2
          }
         }
        },
        "title": {
         "text": "Zipcodes with an average price per squarefeet of the living space in the first quantile"
        },
        "width": 900
       }
      }
     },
     "metadata": {},
     "output_type": "display_data"
    }
   ],
   "source": [
    "\n",
    "fig_sqft_liv_q1 = px.choropleth_mapbox(grp_zip_sq_liv_price_q1,\n",
    "                           locations='zipcode',\n",
    "                           geojson='https://raw.githubusercontent.com/OpenDataDE/State-zip-code-GeoJSON/master/wa_washington_zip_codes_geo.min.json',\n",
    "                           color='sqft_living_price',\n",
    "                           featureidkey='properties.ZCTA5CE10',\n",
    "                           title='Zipcodes with an average price per squarefeet of the living space in the first quantile',\n",
    "                           mapbox_style='open-street-map',zoom=8,\n",
    "                           color_continuous_scale=px.colors.cyclical.IceFire, \n",
    "                           width=900,  # Set the width of the plot\n",
    "                           height=900,   # Set the height of the plot\n",
    "                           center={\"lat\": grp_zip_sq_liv_price_q1['lat'].mean(), \"lon\": grp_zip_sq_liv_price_q1['long'].mean()}\n",
    "                     )\n",
    "\n",
    "#fig_q1.show(), \n",
    "fig_sqft_liv_q1.show()"
   ]
  },
  {
   "cell_type": "code",
   "execution_count": 53,
   "metadata": {},
   "outputs": [],
   "source": [
    "sq_lot_price_q1 = db_request.sqft_lot_price.quantile(0.25)\n",
    "grp_zip_sq_lot_price_q1 = grp_zip_mean_sqlot[grp_zip_mean_sqlot['sqft_lot_price'] <= sq_lot_price_q1]"
   ]
  },
  {
   "cell_type": "code",
   "execution_count": 54,
   "metadata": {},
   "outputs": [
    {
     "data": {
      "application/vnd.plotly.v1+json": {
       "config": {
        "plotlyServerURL": "https://plot.ly"
       },
       "data": [
        {
         "coloraxis": "coloraxis",
         "featureidkey": "properties.ZCTA5CE10",
         "geojson": "https://raw.githubusercontent.com/OpenDataDE/State-zip-code-GeoJSON/master/wa_washington_zip_codes_geo.min.json",
         "hovertemplate": "zipcode=%{location}<br>sqft_lot_price=%{z}<extra></extra>",
         "locations": {
          "bdata": "0X4BANN+AQDafgEA3n4BAOZ+AQDnfgEA6H4BAPB+AQD9fgEAFn8BAB1/AQB4fwEAjH8BAA==",
          "dtype": "i4"
         },
         "name": "",
         "subplot": "mapbox",
         "type": "choroplethmapbox",
         "z": {
          "bdata": "mkto5CLfPkDUT50QKYJAQIb+enUcFjVAVlL42V/GMUArBENByfw1QN25Ceg6/T9AUrJugycRMUCCDDj6/EU8QDRloDvV3TxAnn23Za5kLkAb5MnAA9s2QMWQ81OJJTpAqUvQ/NcOP0A=",
          "dtype": "f8"
         }
        }
       ],
       "layout": {
        "coloraxis": {
         "colorbar": {
          "title": {
           "text": "sqft_lot_price"
          }
         },
         "colorscale": [
          [
           0,
           "#000000"
          ],
          [
           0.0625,
           "#001f4d"
          ],
          [
           0.125,
           "#003786"
          ],
          [
           0.1875,
           "#0e58a8"
          ],
          [
           0.25,
           "#217eb8"
          ],
          [
           0.3125,
           "#30a4ca"
          ],
          [
           0.375,
           "#54c8df"
          ],
          [
           0.4375,
           "#9be4ef"
          ],
          [
           0.5,
           "#e1e9d1"
          ],
          [
           0.5625,
           "#f3d573"
          ],
          [
           0.625,
           "#e7b000"
          ],
          [
           0.6875,
           "#da8200"
          ],
          [
           0.75,
           "#c65400"
          ],
          [
           0.8125,
           "#ac2301"
          ],
          [
           0.875,
           "#820000"
          ],
          [
           0.9375,
           "#4c0000"
          ],
          [
           1,
           "#000000"
          ]
         ]
        },
        "height": 950,
        "legend": {
         "tracegroupgap": 0
        },
        "mapbox": {
         "center": {
          "lat": 47.43501221500413,
          "lon": -122.1419736849544
         },
         "domain": {
          "x": [
           0,
           1
          ],
          "y": [
           0,
           1
          ]
         },
         "style": "open-street-map",
         "zoom": 8
        },
        "template": {
         "data": {
          "bar": [
           {
            "error_x": {
             "color": "#2a3f5f"
            },
            "error_y": {
             "color": "#2a3f5f"
            },
            "marker": {
             "line": {
              "color": "#E5ECF6",
              "width": 0.5
             },
             "pattern": {
              "fillmode": "overlay",
              "size": 10,
              "solidity": 0.2
             }
            },
            "type": "bar"
           }
          ],
          "barpolar": [
           {
            "marker": {
             "line": {
              "color": "#E5ECF6",
              "width": 0.5
             },
             "pattern": {
              "fillmode": "overlay",
              "size": 10,
              "solidity": 0.2
             }
            },
            "type": "barpolar"
           }
          ],
          "carpet": [
           {
            "aaxis": {
             "endlinecolor": "#2a3f5f",
             "gridcolor": "white",
             "linecolor": "white",
             "minorgridcolor": "white",
             "startlinecolor": "#2a3f5f"
            },
            "baxis": {
             "endlinecolor": "#2a3f5f",
             "gridcolor": "white",
             "linecolor": "white",
             "minorgridcolor": "white",
             "startlinecolor": "#2a3f5f"
            },
            "type": "carpet"
           }
          ],
          "choropleth": [
           {
            "colorbar": {
             "outlinewidth": 0,
             "ticks": ""
            },
            "type": "choropleth"
           }
          ],
          "contour": [
           {
            "colorbar": {
             "outlinewidth": 0,
             "ticks": ""
            },
            "colorscale": [
             [
              0,
              "#0d0887"
             ],
             [
              0.1111111111111111,
              "#46039f"
             ],
             [
              0.2222222222222222,
              "#7201a8"
             ],
             [
              0.3333333333333333,
              "#9c179e"
             ],
             [
              0.4444444444444444,
              "#bd3786"
             ],
             [
              0.5555555555555556,
              "#d8576b"
             ],
             [
              0.6666666666666666,
              "#ed7953"
             ],
             [
              0.7777777777777778,
              "#fb9f3a"
             ],
             [
              0.8888888888888888,
              "#fdca26"
             ],
             [
              1,
              "#f0f921"
             ]
            ],
            "type": "contour"
           }
          ],
          "contourcarpet": [
           {
            "colorbar": {
             "outlinewidth": 0,
             "ticks": ""
            },
            "type": "contourcarpet"
           }
          ],
          "heatmap": [
           {
            "colorbar": {
             "outlinewidth": 0,
             "ticks": ""
            },
            "colorscale": [
             [
              0,
              "#0d0887"
             ],
             [
              0.1111111111111111,
              "#46039f"
             ],
             [
              0.2222222222222222,
              "#7201a8"
             ],
             [
              0.3333333333333333,
              "#9c179e"
             ],
             [
              0.4444444444444444,
              "#bd3786"
             ],
             [
              0.5555555555555556,
              "#d8576b"
             ],
             [
              0.6666666666666666,
              "#ed7953"
             ],
             [
              0.7777777777777778,
              "#fb9f3a"
             ],
             [
              0.8888888888888888,
              "#fdca26"
             ],
             [
              1,
              "#f0f921"
             ]
            ],
            "type": "heatmap"
           }
          ],
          "histogram": [
           {
            "marker": {
             "pattern": {
              "fillmode": "overlay",
              "size": 10,
              "solidity": 0.2
             }
            },
            "type": "histogram"
           }
          ],
          "histogram2d": [
           {
            "colorbar": {
             "outlinewidth": 0,
             "ticks": ""
            },
            "colorscale": [
             [
              0,
              "#0d0887"
             ],
             [
              0.1111111111111111,
              "#46039f"
             ],
             [
              0.2222222222222222,
              "#7201a8"
             ],
             [
              0.3333333333333333,
              "#9c179e"
             ],
             [
              0.4444444444444444,
              "#bd3786"
             ],
             [
              0.5555555555555556,
              "#d8576b"
             ],
             [
              0.6666666666666666,
              "#ed7953"
             ],
             [
              0.7777777777777778,
              "#fb9f3a"
             ],
             [
              0.8888888888888888,
              "#fdca26"
             ],
             [
              1,
              "#f0f921"
             ]
            ],
            "type": "histogram2d"
           }
          ],
          "histogram2dcontour": [
           {
            "colorbar": {
             "outlinewidth": 0,
             "ticks": ""
            },
            "colorscale": [
             [
              0,
              "#0d0887"
             ],
             [
              0.1111111111111111,
              "#46039f"
             ],
             [
              0.2222222222222222,
              "#7201a8"
             ],
             [
              0.3333333333333333,
              "#9c179e"
             ],
             [
              0.4444444444444444,
              "#bd3786"
             ],
             [
              0.5555555555555556,
              "#d8576b"
             ],
             [
              0.6666666666666666,
              "#ed7953"
             ],
             [
              0.7777777777777778,
              "#fb9f3a"
             ],
             [
              0.8888888888888888,
              "#fdca26"
             ],
             [
              1,
              "#f0f921"
             ]
            ],
            "type": "histogram2dcontour"
           }
          ],
          "mesh3d": [
           {
            "colorbar": {
             "outlinewidth": 0,
             "ticks": ""
            },
            "type": "mesh3d"
           }
          ],
          "parcoords": [
           {
            "line": {
             "colorbar": {
              "outlinewidth": 0,
              "ticks": ""
             }
            },
            "type": "parcoords"
           }
          ],
          "pie": [
           {
            "automargin": true,
            "type": "pie"
           }
          ],
          "scatter": [
           {
            "fillpattern": {
             "fillmode": "overlay",
             "size": 10,
             "solidity": 0.2
            },
            "type": "scatter"
           }
          ],
          "scatter3d": [
           {
            "line": {
             "colorbar": {
              "outlinewidth": 0,
              "ticks": ""
             }
            },
            "marker": {
             "colorbar": {
              "outlinewidth": 0,
              "ticks": ""
             }
            },
            "type": "scatter3d"
           }
          ],
          "scattercarpet": [
           {
            "marker": {
             "colorbar": {
              "outlinewidth": 0,
              "ticks": ""
             }
            },
            "type": "scattercarpet"
           }
          ],
          "scattergeo": [
           {
            "marker": {
             "colorbar": {
              "outlinewidth": 0,
              "ticks": ""
             }
            },
            "type": "scattergeo"
           }
          ],
          "scattergl": [
           {
            "marker": {
             "colorbar": {
              "outlinewidth": 0,
              "ticks": ""
             }
            },
            "type": "scattergl"
           }
          ],
          "scattermap": [
           {
            "marker": {
             "colorbar": {
              "outlinewidth": 0,
              "ticks": ""
             }
            },
            "type": "scattermap"
           }
          ],
          "scattermapbox": [
           {
            "marker": {
             "colorbar": {
              "outlinewidth": 0,
              "ticks": ""
             }
            },
            "type": "scattermapbox"
           }
          ],
          "scatterpolar": [
           {
            "marker": {
             "colorbar": {
              "outlinewidth": 0,
              "ticks": ""
             }
            },
            "type": "scatterpolar"
           }
          ],
          "scatterpolargl": [
           {
            "marker": {
             "colorbar": {
              "outlinewidth": 0,
              "ticks": ""
             }
            },
            "type": "scatterpolargl"
           }
          ],
          "scatterternary": [
           {
            "marker": {
             "colorbar": {
              "outlinewidth": 0,
              "ticks": ""
             }
            },
            "type": "scatterternary"
           }
          ],
          "surface": [
           {
            "colorbar": {
             "outlinewidth": 0,
             "ticks": ""
            },
            "colorscale": [
             [
              0,
              "#0d0887"
             ],
             [
              0.1111111111111111,
              "#46039f"
             ],
             [
              0.2222222222222222,
              "#7201a8"
             ],
             [
              0.3333333333333333,
              "#9c179e"
             ],
             [
              0.4444444444444444,
              "#bd3786"
             ],
             [
              0.5555555555555556,
              "#d8576b"
             ],
             [
              0.6666666666666666,
              "#ed7953"
             ],
             [
              0.7777777777777778,
              "#fb9f3a"
             ],
             [
              0.8888888888888888,
              "#fdca26"
             ],
             [
              1,
              "#f0f921"
             ]
            ],
            "type": "surface"
           }
          ],
          "table": [
           {
            "cells": {
             "fill": {
              "color": "#EBF0F8"
             },
             "line": {
              "color": "white"
             }
            },
            "header": {
             "fill": {
              "color": "#C8D4E3"
             },
             "line": {
              "color": "white"
             }
            },
            "type": "table"
           }
          ]
         },
         "layout": {
          "annotationdefaults": {
           "arrowcolor": "#2a3f5f",
           "arrowhead": 0,
           "arrowwidth": 1
          },
          "autotypenumbers": "strict",
          "coloraxis": {
           "colorbar": {
            "outlinewidth": 0,
            "ticks": ""
           }
          },
          "colorscale": {
           "diverging": [
            [
             0,
             "#8e0152"
            ],
            [
             0.1,
             "#c51b7d"
            ],
            [
             0.2,
             "#de77ae"
            ],
            [
             0.3,
             "#f1b6da"
            ],
            [
             0.4,
             "#fde0ef"
            ],
            [
             0.5,
             "#f7f7f7"
            ],
            [
             0.6,
             "#e6f5d0"
            ],
            [
             0.7,
             "#b8e186"
            ],
            [
             0.8,
             "#7fbc41"
            ],
            [
             0.9,
             "#4d9221"
            ],
            [
             1,
             "#276419"
            ]
           ],
           "sequential": [
            [
             0,
             "#0d0887"
            ],
            [
             0.1111111111111111,
             "#46039f"
            ],
            [
             0.2222222222222222,
             "#7201a8"
            ],
            [
             0.3333333333333333,
             "#9c179e"
            ],
            [
             0.4444444444444444,
             "#bd3786"
            ],
            [
             0.5555555555555556,
             "#d8576b"
            ],
            [
             0.6666666666666666,
             "#ed7953"
            ],
            [
             0.7777777777777778,
             "#fb9f3a"
            ],
            [
             0.8888888888888888,
             "#fdca26"
            ],
            [
             1,
             "#f0f921"
            ]
           ],
           "sequentialminus": [
            [
             0,
             "#0d0887"
            ],
            [
             0.1111111111111111,
             "#46039f"
            ],
            [
             0.2222222222222222,
             "#7201a8"
            ],
            [
             0.3333333333333333,
             "#9c179e"
            ],
            [
             0.4444444444444444,
             "#bd3786"
            ],
            [
             0.5555555555555556,
             "#d8576b"
            ],
            [
             0.6666666666666666,
             "#ed7953"
            ],
            [
             0.7777777777777778,
             "#fb9f3a"
            ],
            [
             0.8888888888888888,
             "#fdca26"
            ],
            [
             1,
             "#f0f921"
            ]
           ]
          },
          "colorway": [
           "#636efa",
           "#EF553B",
           "#00cc96",
           "#ab63fa",
           "#FFA15A",
           "#19d3f3",
           "#FF6692",
           "#B6E880",
           "#FF97FF",
           "#FECB52"
          ],
          "font": {
           "color": "#2a3f5f"
          },
          "geo": {
           "bgcolor": "white",
           "lakecolor": "white",
           "landcolor": "#E5ECF6",
           "showlakes": true,
           "showland": true,
           "subunitcolor": "white"
          },
          "hoverlabel": {
           "align": "left"
          },
          "hovermode": "closest",
          "mapbox": {
           "style": "light"
          },
          "paper_bgcolor": "white",
          "plot_bgcolor": "#E5ECF6",
          "polar": {
           "angularaxis": {
            "gridcolor": "white",
            "linecolor": "white",
            "ticks": ""
           },
           "bgcolor": "#E5ECF6",
           "radialaxis": {
            "gridcolor": "white",
            "linecolor": "white",
            "ticks": ""
           }
          },
          "scene": {
           "xaxis": {
            "backgroundcolor": "#E5ECF6",
            "gridcolor": "white",
            "gridwidth": 2,
            "linecolor": "white",
            "showbackground": true,
            "ticks": "",
            "zerolinecolor": "white"
           },
           "yaxis": {
            "backgroundcolor": "#E5ECF6",
            "gridcolor": "white",
            "gridwidth": 2,
            "linecolor": "white",
            "showbackground": true,
            "ticks": "",
            "zerolinecolor": "white"
           },
           "zaxis": {
            "backgroundcolor": "#E5ECF6",
            "gridcolor": "white",
            "gridwidth": 2,
            "linecolor": "white",
            "showbackground": true,
            "ticks": "",
            "zerolinecolor": "white"
           }
          },
          "shapedefaults": {
           "line": {
            "color": "#2a3f5f"
           }
          },
          "ternary": {
           "aaxis": {
            "gridcolor": "white",
            "linecolor": "white",
            "ticks": ""
           },
           "baxis": {
            "gridcolor": "white",
            "linecolor": "white",
            "ticks": ""
           },
           "bgcolor": "#E5ECF6",
           "caxis": {
            "gridcolor": "white",
            "linecolor": "white",
            "ticks": ""
           }
          },
          "title": {
           "x": 0.05
          },
          "xaxis": {
           "automargin": true,
           "gridcolor": "white",
           "linecolor": "white",
           "ticks": "",
           "title": {
            "standoff": 15
           },
           "zerolinecolor": "white",
           "zerolinewidth": 2
          },
          "yaxis": {
           "automargin": true,
           "gridcolor": "white",
           "linecolor": "white",
           "ticks": "",
           "title": {
            "standoff": 15
           },
           "zerolinecolor": "white",
           "zerolinewidth": 2
          }
         }
        },
        "title": {
         "text": "Zipcodes with an average price per squarefeet of the lot in the first quantile"
        },
        "width": 950
       }
      }
     },
     "metadata": {},
     "output_type": "display_data"
    }
   ],
   "source": [
    "fig_sqft_lot_q1 = px.choropleth_mapbox(grp_zip_sq_lot_price_q1,\n",
    "                           locations='zipcode',\n",
    "                           geojson='https://raw.githubusercontent.com/OpenDataDE/State-zip-code-GeoJSON/master/wa_washington_zip_codes_geo.min.json',\n",
    "                           color='sqft_lot_price',\n",
    "                           featureidkey='properties.ZCTA5CE10',\n",
    "                           title='Zipcodes with an average price per squarefeet of the lot in the first quantile',\n",
    "                           mapbox_style='open-street-map',zoom=8,\n",
    "                           color_continuous_scale=px.colors.cyclical.IceFire, \n",
    "                           width=950,  # Set the width of the plot\n",
    "                           height=950,   # Set the height of the plot\n",
    "                           center={\"lat\": grp_zip_sq_lot_price_q1['lat'].mean(), \"lon\": grp_zip_sq_lot_price_q1['long'].mean()}\n",
    "                     )\n",
    "\n",
    "\n",
    "fig_sqft_lot_q1.show()#, fig_sqft_liv_q1.show()"
   ]
  },
  {
   "cell_type": "code",
   "execution_count": 55,
   "metadata": {},
   "outputs": [
    {
     "data": {
      "text/plain": [
       "np.float64(3518.0)"
      ]
     },
     "execution_count": 55,
     "metadata": {},
     "output_type": "execute_result"
    }
   ],
   "source": [
    "#nice, but the results are very different, so lets create the average out of both!\n",
    "db_request.eval('total_sqft_price = (sqft_living + sqft_lot)/2', inplace = True)\n",
    "\n",
    "grp_zip_mean_totalsqprice = db_request.groupby('zipcode').mean('total_sqft_price').reset_index()\n",
    "\n",
    "total_sqft_price_q1 = db_request.total_sqft_price.quantile(0.25)\n",
    "grp_zip_total_sqft_price_q1 = grp_zip_mean_totalsqprice[grp_zip_mean_totalsqprice['total_sqft_price'] <= total_sqft_price_q1]\n",
    "total_sqft_price_q1 "
   ]
  },
  {
   "cell_type": "code",
   "execution_count": 56,
   "metadata": {},
   "outputs": [
    {
     "data": {
      "application/vnd.plotly.v1+json": {
       "config": {
        "plotlyServerURL": "https://plot.ly"
       },
       "data": [
        {
         "coloraxis": "coloraxis",
         "featureidkey": "properties.ZCTA5CE10",
         "geojson": "https://raw.githubusercontent.com/OpenDataDE/State-zip-code-GeoJSON/master/wa_washington_zip_codes_geo.min.json",
         "hovertemplate": "zipcode=%{location}<br>total_sqft_price=%{z}<extra></extra>",
         "locations": {
          "bdata": "Nn8BADd/AQA7fwEAPH8BAD1/AQBEfwEARX8BAEd/AQBKfwEATn8BAGB/AQA=",
          "dtype": "i4"
         },
         "name": "",
         "subplot": "mapbox",
         "type": "choroplethmapbox",
         "z": {
          "bdata": "sRM7sTN8pkAggmOXRg2kQO+0utPqpaJA33vvvXf9qkCuzkjF3CumQJCnBHnKsKpAt23btm24qEB605ve1PSlQMJyTyOsraRAWmJ8yjQCqkCn4OUUvHWnQA==",
          "dtype": "f8"
         }
        }
       ],
       "layout": {
        "coloraxis": {
         "colorbar": {
          "title": {
           "text": "total_sqft_price"
          }
         },
         "colorscale": [
          [
           0,
           "#000000"
          ],
          [
           0.0625,
           "#001f4d"
          ],
          [
           0.125,
           "#003786"
          ],
          [
           0.1875,
           "#0e58a8"
          ],
          [
           0.25,
           "#217eb8"
          ],
          [
           0.3125,
           "#30a4ca"
          ],
          [
           0.375,
           "#54c8df"
          ],
          [
           0.4375,
           "#9be4ef"
          ],
          [
           0.5,
           "#e1e9d1"
          ],
          [
           0.5625,
           "#f3d573"
          ],
          [
           0.625,
           "#e7b000"
          ],
          [
           0.6875,
           "#da8200"
          ],
          [
           0.75,
           "#c65400"
          ],
          [
           0.8125,
           "#ac2301"
          ],
          [
           0.875,
           "#820000"
          ],
          [
           0.9375,
           "#4c0000"
          ],
          [
           1,
           "#000000"
          ]
         ]
        },
        "height": 950,
        "legend": {
         "tracegroupgap": 0
        },
        "mapbox": {
         "center": {
          "lat": 47.61887663359912,
          "lon": -122.34650003758954
         },
         "domain": {
          "x": [
           0,
           1
          ],
          "y": [
           0,
           1
          ]
         },
         "style": "open-street-map",
         "zoom": 9
        },
        "template": {
         "data": {
          "bar": [
           {
            "error_x": {
             "color": "#2a3f5f"
            },
            "error_y": {
             "color": "#2a3f5f"
            },
            "marker": {
             "line": {
              "color": "#E5ECF6",
              "width": 0.5
             },
             "pattern": {
              "fillmode": "overlay",
              "size": 10,
              "solidity": 0.2
             }
            },
            "type": "bar"
           }
          ],
          "barpolar": [
           {
            "marker": {
             "line": {
              "color": "#E5ECF6",
              "width": 0.5
             },
             "pattern": {
              "fillmode": "overlay",
              "size": 10,
              "solidity": 0.2
             }
            },
            "type": "barpolar"
           }
          ],
          "carpet": [
           {
            "aaxis": {
             "endlinecolor": "#2a3f5f",
             "gridcolor": "white",
             "linecolor": "white",
             "minorgridcolor": "white",
             "startlinecolor": "#2a3f5f"
            },
            "baxis": {
             "endlinecolor": "#2a3f5f",
             "gridcolor": "white",
             "linecolor": "white",
             "minorgridcolor": "white",
             "startlinecolor": "#2a3f5f"
            },
            "type": "carpet"
           }
          ],
          "choropleth": [
           {
            "colorbar": {
             "outlinewidth": 0,
             "ticks": ""
            },
            "type": "choropleth"
           }
          ],
          "contour": [
           {
            "colorbar": {
             "outlinewidth": 0,
             "ticks": ""
            },
            "colorscale": [
             [
              0,
              "#0d0887"
             ],
             [
              0.1111111111111111,
              "#46039f"
             ],
             [
              0.2222222222222222,
              "#7201a8"
             ],
             [
              0.3333333333333333,
              "#9c179e"
             ],
             [
              0.4444444444444444,
              "#bd3786"
             ],
             [
              0.5555555555555556,
              "#d8576b"
             ],
             [
              0.6666666666666666,
              "#ed7953"
             ],
             [
              0.7777777777777778,
              "#fb9f3a"
             ],
             [
              0.8888888888888888,
              "#fdca26"
             ],
             [
              1,
              "#f0f921"
             ]
            ],
            "type": "contour"
           }
          ],
          "contourcarpet": [
           {
            "colorbar": {
             "outlinewidth": 0,
             "ticks": ""
            },
            "type": "contourcarpet"
           }
          ],
          "heatmap": [
           {
            "colorbar": {
             "outlinewidth": 0,
             "ticks": ""
            },
            "colorscale": [
             [
              0,
              "#0d0887"
             ],
             [
              0.1111111111111111,
              "#46039f"
             ],
             [
              0.2222222222222222,
              "#7201a8"
             ],
             [
              0.3333333333333333,
              "#9c179e"
             ],
             [
              0.4444444444444444,
              "#bd3786"
             ],
             [
              0.5555555555555556,
              "#d8576b"
             ],
             [
              0.6666666666666666,
              "#ed7953"
             ],
             [
              0.7777777777777778,
              "#fb9f3a"
             ],
             [
              0.8888888888888888,
              "#fdca26"
             ],
             [
              1,
              "#f0f921"
             ]
            ],
            "type": "heatmap"
           }
          ],
          "histogram": [
           {
            "marker": {
             "pattern": {
              "fillmode": "overlay",
              "size": 10,
              "solidity": 0.2
             }
            },
            "type": "histogram"
           }
          ],
          "histogram2d": [
           {
            "colorbar": {
             "outlinewidth": 0,
             "ticks": ""
            },
            "colorscale": [
             [
              0,
              "#0d0887"
             ],
             [
              0.1111111111111111,
              "#46039f"
             ],
             [
              0.2222222222222222,
              "#7201a8"
             ],
             [
              0.3333333333333333,
              "#9c179e"
             ],
             [
              0.4444444444444444,
              "#bd3786"
             ],
             [
              0.5555555555555556,
              "#d8576b"
             ],
             [
              0.6666666666666666,
              "#ed7953"
             ],
             [
              0.7777777777777778,
              "#fb9f3a"
             ],
             [
              0.8888888888888888,
              "#fdca26"
             ],
             [
              1,
              "#f0f921"
             ]
            ],
            "type": "histogram2d"
           }
          ],
          "histogram2dcontour": [
           {
            "colorbar": {
             "outlinewidth": 0,
             "ticks": ""
            },
            "colorscale": [
             [
              0,
              "#0d0887"
             ],
             [
              0.1111111111111111,
              "#46039f"
             ],
             [
              0.2222222222222222,
              "#7201a8"
             ],
             [
              0.3333333333333333,
              "#9c179e"
             ],
             [
              0.4444444444444444,
              "#bd3786"
             ],
             [
              0.5555555555555556,
              "#d8576b"
             ],
             [
              0.6666666666666666,
              "#ed7953"
             ],
             [
              0.7777777777777778,
              "#fb9f3a"
             ],
             [
              0.8888888888888888,
              "#fdca26"
             ],
             [
              1,
              "#f0f921"
             ]
            ],
            "type": "histogram2dcontour"
           }
          ],
          "mesh3d": [
           {
            "colorbar": {
             "outlinewidth": 0,
             "ticks": ""
            },
            "type": "mesh3d"
           }
          ],
          "parcoords": [
           {
            "line": {
             "colorbar": {
              "outlinewidth": 0,
              "ticks": ""
             }
            },
            "type": "parcoords"
           }
          ],
          "pie": [
           {
            "automargin": true,
            "type": "pie"
           }
          ],
          "scatter": [
           {
            "fillpattern": {
             "fillmode": "overlay",
             "size": 10,
             "solidity": 0.2
            },
            "type": "scatter"
           }
          ],
          "scatter3d": [
           {
            "line": {
             "colorbar": {
              "outlinewidth": 0,
              "ticks": ""
             }
            },
            "marker": {
             "colorbar": {
              "outlinewidth": 0,
              "ticks": ""
             }
            },
            "type": "scatter3d"
           }
          ],
          "scattercarpet": [
           {
            "marker": {
             "colorbar": {
              "outlinewidth": 0,
              "ticks": ""
             }
            },
            "type": "scattercarpet"
           }
          ],
          "scattergeo": [
           {
            "marker": {
             "colorbar": {
              "outlinewidth": 0,
              "ticks": ""
             }
            },
            "type": "scattergeo"
           }
          ],
          "scattergl": [
           {
            "marker": {
             "colorbar": {
              "outlinewidth": 0,
              "ticks": ""
             }
            },
            "type": "scattergl"
           }
          ],
          "scattermap": [
           {
            "marker": {
             "colorbar": {
              "outlinewidth": 0,
              "ticks": ""
             }
            },
            "type": "scattermap"
           }
          ],
          "scattermapbox": [
           {
            "marker": {
             "colorbar": {
              "outlinewidth": 0,
              "ticks": ""
             }
            },
            "type": "scattermapbox"
           }
          ],
          "scatterpolar": [
           {
            "marker": {
             "colorbar": {
              "outlinewidth": 0,
              "ticks": ""
             }
            },
            "type": "scatterpolar"
           }
          ],
          "scatterpolargl": [
           {
            "marker": {
             "colorbar": {
              "outlinewidth": 0,
              "ticks": ""
             }
            },
            "type": "scatterpolargl"
           }
          ],
          "scatterternary": [
           {
            "marker": {
             "colorbar": {
              "outlinewidth": 0,
              "ticks": ""
             }
            },
            "type": "scatterternary"
           }
          ],
          "surface": [
           {
            "colorbar": {
             "outlinewidth": 0,
             "ticks": ""
            },
            "colorscale": [
             [
              0,
              "#0d0887"
             ],
             [
              0.1111111111111111,
              "#46039f"
             ],
             [
              0.2222222222222222,
              "#7201a8"
             ],
             [
              0.3333333333333333,
              "#9c179e"
             ],
             [
              0.4444444444444444,
              "#bd3786"
             ],
             [
              0.5555555555555556,
              "#d8576b"
             ],
             [
              0.6666666666666666,
              "#ed7953"
             ],
             [
              0.7777777777777778,
              "#fb9f3a"
             ],
             [
              0.8888888888888888,
              "#fdca26"
             ],
             [
              1,
              "#f0f921"
             ]
            ],
            "type": "surface"
           }
          ],
          "table": [
           {
            "cells": {
             "fill": {
              "color": "#EBF0F8"
             },
             "line": {
              "color": "white"
             }
            },
            "header": {
             "fill": {
              "color": "#C8D4E3"
             },
             "line": {
              "color": "white"
             }
            },
            "type": "table"
           }
          ]
         },
         "layout": {
          "annotationdefaults": {
           "arrowcolor": "#2a3f5f",
           "arrowhead": 0,
           "arrowwidth": 1
          },
          "autotypenumbers": "strict",
          "coloraxis": {
           "colorbar": {
            "outlinewidth": 0,
            "ticks": ""
           }
          },
          "colorscale": {
           "diverging": [
            [
             0,
             "#8e0152"
            ],
            [
             0.1,
             "#c51b7d"
            ],
            [
             0.2,
             "#de77ae"
            ],
            [
             0.3,
             "#f1b6da"
            ],
            [
             0.4,
             "#fde0ef"
            ],
            [
             0.5,
             "#f7f7f7"
            ],
            [
             0.6,
             "#e6f5d0"
            ],
            [
             0.7,
             "#b8e186"
            ],
            [
             0.8,
             "#7fbc41"
            ],
            [
             0.9,
             "#4d9221"
            ],
            [
             1,
             "#276419"
            ]
           ],
           "sequential": [
            [
             0,
             "#0d0887"
            ],
            [
             0.1111111111111111,
             "#46039f"
            ],
            [
             0.2222222222222222,
             "#7201a8"
            ],
            [
             0.3333333333333333,
             "#9c179e"
            ],
            [
             0.4444444444444444,
             "#bd3786"
            ],
            [
             0.5555555555555556,
             "#d8576b"
            ],
            [
             0.6666666666666666,
             "#ed7953"
            ],
            [
             0.7777777777777778,
             "#fb9f3a"
            ],
            [
             0.8888888888888888,
             "#fdca26"
            ],
            [
             1,
             "#f0f921"
            ]
           ],
           "sequentialminus": [
            [
             0,
             "#0d0887"
            ],
            [
             0.1111111111111111,
             "#46039f"
            ],
            [
             0.2222222222222222,
             "#7201a8"
            ],
            [
             0.3333333333333333,
             "#9c179e"
            ],
            [
             0.4444444444444444,
             "#bd3786"
            ],
            [
             0.5555555555555556,
             "#d8576b"
            ],
            [
             0.6666666666666666,
             "#ed7953"
            ],
            [
             0.7777777777777778,
             "#fb9f3a"
            ],
            [
             0.8888888888888888,
             "#fdca26"
            ],
            [
             1,
             "#f0f921"
            ]
           ]
          },
          "colorway": [
           "#636efa",
           "#EF553B",
           "#00cc96",
           "#ab63fa",
           "#FFA15A",
           "#19d3f3",
           "#FF6692",
           "#B6E880",
           "#FF97FF",
           "#FECB52"
          ],
          "font": {
           "color": "#2a3f5f"
          },
          "geo": {
           "bgcolor": "white",
           "lakecolor": "white",
           "landcolor": "#E5ECF6",
           "showlakes": true,
           "showland": true,
           "subunitcolor": "white"
          },
          "hoverlabel": {
           "align": "left"
          },
          "hovermode": "closest",
          "mapbox": {
           "style": "light"
          },
          "paper_bgcolor": "white",
          "plot_bgcolor": "#E5ECF6",
          "polar": {
           "angularaxis": {
            "gridcolor": "white",
            "linecolor": "white",
            "ticks": ""
           },
           "bgcolor": "#E5ECF6",
           "radialaxis": {
            "gridcolor": "white",
            "linecolor": "white",
            "ticks": ""
           }
          },
          "scene": {
           "xaxis": {
            "backgroundcolor": "#E5ECF6",
            "gridcolor": "white",
            "gridwidth": 2,
            "linecolor": "white",
            "showbackground": true,
            "ticks": "",
            "zerolinecolor": "white"
           },
           "yaxis": {
            "backgroundcolor": "#E5ECF6",
            "gridcolor": "white",
            "gridwidth": 2,
            "linecolor": "white",
            "showbackground": true,
            "ticks": "",
            "zerolinecolor": "white"
           },
           "zaxis": {
            "backgroundcolor": "#E5ECF6",
            "gridcolor": "white",
            "gridwidth": 2,
            "linecolor": "white",
            "showbackground": true,
            "ticks": "",
            "zerolinecolor": "white"
           }
          },
          "shapedefaults": {
           "line": {
            "color": "#2a3f5f"
           }
          },
          "ternary": {
           "aaxis": {
            "gridcolor": "white",
            "linecolor": "white",
            "ticks": ""
           },
           "baxis": {
            "gridcolor": "white",
            "linecolor": "white",
            "ticks": ""
           },
           "bgcolor": "#E5ECF6",
           "caxis": {
            "gridcolor": "white",
            "linecolor": "white",
            "ticks": ""
           }
          },
          "title": {
           "x": 0.05
          },
          "xaxis": {
           "automargin": true,
           "gridcolor": "white",
           "linecolor": "white",
           "ticks": "",
           "title": {
            "standoff": 15
           },
           "zerolinecolor": "white",
           "zerolinewidth": 2
          },
          "yaxis": {
           "automargin": true,
           "gridcolor": "white",
           "linecolor": "white",
           "ticks": "",
           "title": {
            "standoff": 15
           },
           "zerolinecolor": "white",
           "zerolinewidth": 2
          }
         }
        },
        "title": {
         "text": "Zipcodes with an average price per total squarefeet in the first quantile"
        },
        "width": 950
       }
      }
     },
     "metadata": {},
     "output_type": "display_data"
    }
   ],
   "source": [
    "fig_total_sqftprices_q1 = px.choropleth_mapbox(grp_zip_total_sqft_price_q1,\n",
    "                           locations='zipcode',\n",
    "                           geojson='https://raw.githubusercontent.com/OpenDataDE/State-zip-code-GeoJSON/master/wa_washington_zip_codes_geo.min.json',\n",
    "                           color='total_sqft_price',\n",
    "                           featureidkey='properties.ZCTA5CE10',\n",
    "                           title='Zipcodes with an average price per total squarefeet in the first quantile',\n",
    "                           mapbox_style='open-street-map',zoom=9,\n",
    "                           color_continuous_scale=px.colors.cyclical.IceFire, \n",
    "                           width=950,  # Set the width of the plot\n",
    "                           height=950,   # Set the height of the plot\n",
    "                           center={\"lat\": grp_zip_total_sqft_price_q1['lat'].mean(), \"lon\": grp_zip_total_sqft_price_q1['long'].mean()}\n",
    "                     )\n",
    "\n",
    "fig_total_sqftprices_q1.show()"
   ]
  },
  {
   "cell_type": "code",
   "execution_count": 57,
   "metadata": {},
   "outputs": [],
   "source": [
    "# with this insight I can now define the 11 zipcodes with the lowest total-sqft price and (my hypothesis) the poorest neighborhood!\n",
    "# I define them as \"poor_neighborhood\""
   ]
  },
  {
   "cell_type": "code",
   "execution_count": 58,
   "metadata": {},
   "outputs": [
    {
     "data": {
      "text/html": [
       "<div>\n",
       "<style scoped>\n",
       "    .dataframe tbody tr th:only-of-type {\n",
       "        vertical-align: middle;\n",
       "    }\n",
       "\n",
       "    .dataframe tbody tr th {\n",
       "        vertical-align: top;\n",
       "    }\n",
       "\n",
       "    .dataframe thead th {\n",
       "        text-align: right;\n",
       "    }\n",
       "</style>\n",
       "<table border=\"1\" class=\"dataframe\">\n",
       "  <thead>\n",
       "    <tr style=\"text-align: right;\">\n",
       "      <th></th>\n",
       "      <th>zipcode</th>\n",
       "      <th>total_sqft_price</th>\n",
       "    </tr>\n",
       "  </thead>\n",
       "  <tbody>\n",
       "    <tr>\n",
       "      <th>45</th>\n",
       "      <td>98107</td>\n",
       "      <td>2386.959</td>\n",
       "    </tr>\n",
       "    <tr>\n",
       "      <th>42</th>\n",
       "      <td>98103</td>\n",
       "      <td>2566.638</td>\n",
       "    </tr>\n",
       "    <tr>\n",
       "      <th>54</th>\n",
       "      <td>98122</td>\n",
       "      <td>2646.836</td>\n",
       "    </tr>\n",
       "    <tr>\n",
       "      <th>53</th>\n",
       "      <td>98119</td>\n",
       "      <td>2810.416</td>\n",
       "    </tr>\n",
       "    <tr>\n",
       "      <th>47</th>\n",
       "      <td>98109</td>\n",
       "      <td>2837.931</td>\n",
       "    </tr>\n",
       "    <tr>\n",
       "      <th>41</th>\n",
       "      <td>98102</td>\n",
       "      <td>2878.101</td>\n",
       "    </tr>\n",
       "    <tr>\n",
       "      <th>59</th>\n",
       "      <td>98144</td>\n",
       "      <td>3002.867</td>\n",
       "    </tr>\n",
       "    <tr>\n",
       "      <th>51</th>\n",
       "      <td>98117</td>\n",
       "      <td>3164.214</td>\n",
       "    </tr>\n",
       "    <tr>\n",
       "      <th>56</th>\n",
       "      <td>98126</td>\n",
       "      <td>3329.103</td>\n",
       "    </tr>\n",
       "    <tr>\n",
       "      <th>50</th>\n",
       "      <td>98116</td>\n",
       "      <td>3416.395</td>\n",
       "    </tr>\n",
       "    <tr>\n",
       "      <th>46</th>\n",
       "      <td>98108</td>\n",
       "      <td>3454.734</td>\n",
       "    </tr>\n",
       "  </tbody>\n",
       "</table>\n",
       "</div>"
      ],
      "text/plain": [
       "    zipcode  total_sqft_price\n",
       "45    98107          2386.959\n",
       "42    98103          2566.638\n",
       "54    98122          2646.836\n",
       "53    98119          2810.416\n",
       "47    98109          2837.931\n",
       "41    98102          2878.101\n",
       "59    98144          3002.867\n",
       "51    98117          3164.214\n",
       "56    98126          3329.103\n",
       "50    98116          3416.395\n",
       "46    98108          3454.734"
      ]
     },
     "execution_count": 58,
     "metadata": {},
     "output_type": "execute_result"
    }
   ],
   "source": [
    "poor_neighborhood = grp_zip_total_sqft_price_q1\n",
    "table_poor_zip = poor_neighborhood[['zipcode','total_sqft_price']].sort_values(by='total_sqft_price')\n",
    "table_poor_zip\n"
   ]
  },
  {
   "cell_type": "markdown",
   "metadata": {},
   "source": [
    "2. The cheaper the houses are in relation to the average prices in that zipcode-region, the longer they have not been renovated. <b>\n"
   ]
  },
  {
   "cell_type": "code",
   "execution_count": 59,
   "metadata": {},
   "outputs": [],
   "source": [
    "# First, I need the average house price in each region, which I already defined before:\n",
    "\n",
    "grp_zip_mean[['zipcode','price']]\n",
    "poor_zip = [poor_neighborhood['zipcode']]\n",
    "zip_98107 = db_request[db_request['zipcode'] == 98107]\n",
    "zip_98103 = db_request[db_request['zipcode'] == 98103]\n",
    "zip_98122 = db_request[db_request['zipcode'] == 98122]\n",
    "zip_98119 = db_request[db_request['zipcode'] == 98119]\n",
    "zip_98109 = db_request[db_request['zipcode'] == 98109]\n",
    "zip_98102 = db_request[db_request['zipcode'] == 98102]\n",
    "zip_98144 = db_request[db_request['zipcode'] == 98144]\n",
    "zip_98117 = db_request[db_request['zipcode'] == 98117]\n",
    "\n",
    "zip_98126 = db_request[db_request['zipcode'] == 98126]\n",
    "\n",
    "zip_98116 = db_request[db_request['zipcode'] == 98116]\n",
    "zip_98108 = db_request[db_request['zipcode'] == 98108]\n"
   ]
  },
  {
   "cell_type": "code",
   "execution_count": 60,
   "metadata": {},
   "outputs": [
    {
     "data": {
      "text/plain": [
       "{98102, 98103, 98107, 98108, 98109, 98116, 98117, 98119, 98122, 98126, 98144}"
      ]
     },
     "execution_count": 60,
     "metadata": {},
     "output_type": "execute_result"
    }
   ],
   "source": [
    "#are there renovated houses in the poor neighborhoods? To test that, I make the lists a set and look for intersections:\n",
    "\n",
    "db_request.query('yr_renovated > 1920')[['zipcode','yr_renovated']]\n",
    "\n",
    "set_poor_zip = set(poor_neighborhood['zipcode'])\n",
    "set_renovated_zip = set(db_request.query('yr_renovated > 1920')['zipcode'].unique())\n",
    "\n",
    "set_poor_zip.intersection(set_renovated_zip)\n"
   ]
  },
  {
   "cell_type": "code",
   "execution_count": 61,
   "metadata": {},
   "outputs": [
    {
     "data": {
      "text/plain": [
       "(BooleanDtype,\n",
       " <BooleanArray>\n",
       " [False, True]\n",
       " Length: 2, dtype: boolean)"
      ]
     },
     "execution_count": 61,
     "metadata": {},
     "output_type": "execute_result"
    }
   ],
   "source": [
    "# adding column with boolean for renovation. Have they ever been renovated? True False?\n",
    "db_request.eval('renovated = yr_renovated', inplace = True) #creating a new column with values from \"yr_renovated\"\n",
    "db_request['renovated'].fillna(0, inplace=True) # filling <NA> with 0 \n",
    "db_request['renovated'] = db_request['yr_renovated'].ne(0) # fancy pandas function adding a True in the new 'renovated' column if the value in 'yr_renovated' is NOT '0'!\n",
    "db_request['renovated'].fillna(False, inplace=True) # thanks to the ne-function I can now fill the remaining '0' with False\n",
    "\n",
    "# calling the column-type and unique entries of 'renovated' to proof if everything worked as needed:\n",
    "db_request['renovated'].dtype,db_request.renovated.unique()"
   ]
  },
  {
   "cell_type": "code",
   "execution_count": 62,
   "metadata": {},
   "outputs": [
    {
     "name": "stdout",
     "output_type": "stream",
     "text": [
      "the correlation between the price and the year of renovation is -0.0968747086701774\n"
     ]
    }
   ],
   "source": [
    "df_poor = pd.concat([zip_98107,zip_98102, zip_98103, zip_98108, zip_98109, zip_98116, zip_98117, zip_98119, zip_98122, zip_98126, zip_98144], axis=0, ignore_index=True)\n",
    "corr_price_renov_poor = df_poor['yr_renovated'].corr(df_poor['total_sqft_price'])\n",
    "print('the correlation between the price and the year of renovation is', corr_price_renov_poor)"
   ]
  },
  {
   "cell_type": "code",
   "execution_count": 63,
   "metadata": {},
   "outputs": [
    {
     "data": {
      "text/html": [
       "<div>\n",
       "<style scoped>\n",
       "    .dataframe tbody tr th:only-of-type {\n",
       "        vertical-align: middle;\n",
       "    }\n",
       "\n",
       "    .dataframe tbody tr th {\n",
       "        vertical-align: top;\n",
       "    }\n",
       "\n",
       "    .dataframe thead th {\n",
       "        text-align: right;\n",
       "    }\n",
       "</style>\n",
       "<table border=\"1\" class=\"dataframe\">\n",
       "  <thead>\n",
       "    <tr style=\"text-align: right;\">\n",
       "      <th></th>\n",
       "      <th>bedrooms</th>\n",
       "      <th>bathrooms</th>\n",
       "      <th>sqft_living</th>\n",
       "      <th>sqft_lot</th>\n",
       "      <th>floors</th>\n",
       "      <th>waterfront</th>\n",
       "      <th>view</th>\n",
       "      <th>condition</th>\n",
       "      <th>grade</th>\n",
       "      <th>sqft_above</th>\n",
       "      <th>...</th>\n",
       "      <th>lat</th>\n",
       "      <th>long</th>\n",
       "      <th>sqft_living15</th>\n",
       "      <th>sqft_lot15</th>\n",
       "      <th>date</th>\n",
       "      <th>price</th>\n",
       "      <th>house_id</th>\n",
       "      <th>sqft_living_price</th>\n",
       "      <th>sqft_lot_price</th>\n",
       "      <th>total_sqft_price</th>\n",
       "    </tr>\n",
       "  </thead>\n",
       "  <tbody>\n",
       "    <tr>\n",
       "      <th>0</th>\n",
       "      <td>5</td>\n",
       "      <td>2.000</td>\n",
       "      <td>1810.000</td>\n",
       "      <td>4850.000</td>\n",
       "      <td>1.500</td>\n",
       "      <td>False</td>\n",
       "      <td>0</td>\n",
       "      <td>3</td>\n",
       "      <td>7</td>\n",
       "      <td>1810.000</td>\n",
       "      <td>...</td>\n",
       "      <td>47.670</td>\n",
       "      <td>-122.394</td>\n",
       "      <td>1360.000</td>\n",
       "      <td>4850.000</td>\n",
       "      <td>2015-03-12</td>\n",
       "      <td>530000</td>\n",
       "      <td>1175000570</td>\n",
       "      <td>292.818</td>\n",
       "      <td>109.278</td>\n",
       "      <td>3330.000</td>\n",
       "    </tr>\n",
       "    <tr>\n",
       "      <th>1</th>\n",
       "      <td>4</td>\n",
       "      <td>2.000</td>\n",
       "      <td>2360.000</td>\n",
       "      <td>6000.000</td>\n",
       "      <td>2.000</td>\n",
       "      <td>False</td>\n",
       "      <td>0</td>\n",
       "      <td>4</td>\n",
       "      <td>8</td>\n",
       "      <td>2360.000</td>\n",
       "      <td>...</td>\n",
       "      <td>47.670</td>\n",
       "      <td>-122.362</td>\n",
       "      <td>1730.000</td>\n",
       "      <td>4700.000</td>\n",
       "      <td>2014-12-30</td>\n",
       "      <td>640000</td>\n",
       "      <td>2768000400</td>\n",
       "      <td>271.186</td>\n",
       "      <td>106.667</td>\n",
       "      <td>4180.000</td>\n",
       "    </tr>\n",
       "    <tr>\n",
       "      <th>2</th>\n",
       "      <td>4</td>\n",
       "      <td>3.500</td>\n",
       "      <td>2140.000</td>\n",
       "      <td>2278.000</td>\n",
       "      <td>3.000</td>\n",
       "      <td>False</td>\n",
       "      <td>0</td>\n",
       "      <td>3</td>\n",
       "      <td>9</td>\n",
       "      <td>2140.000</td>\n",
       "      <td>...</td>\n",
       "      <td>47.673</td>\n",
       "      <td>-122.380</td>\n",
       "      <td>1540.000</td>\n",
       "      <td>2285.000</td>\n",
       "      <td>2015-01-26</td>\n",
       "      <td>675000</td>\n",
       "      <td>2767602356</td>\n",
       "      <td>315.421</td>\n",
       "      <td>296.313</td>\n",
       "      <td>2209.000</td>\n",
       "    </tr>\n",
       "    <tr>\n",
       "      <th>3</th>\n",
       "      <td>3</td>\n",
       "      <td>2.250</td>\n",
       "      <td>1170.000</td>\n",
       "      <td>1249.000</td>\n",
       "      <td>3.000</td>\n",
       "      <td>False</td>\n",
       "      <td>0</td>\n",
       "      <td>3</td>\n",
       "      <td>8</td>\n",
       "      <td>1170.000</td>\n",
       "      <td>...</td>\n",
       "      <td>47.672</td>\n",
       "      <td>-122.381</td>\n",
       "      <td>1350.000</td>\n",
       "      <td>1310.000</td>\n",
       "      <td>2014-05-07</td>\n",
       "      <td>519950</td>\n",
       "      <td>2767603505</td>\n",
       "      <td>444.402</td>\n",
       "      <td>416.293</td>\n",
       "      <td>1209.500</td>\n",
       "    </tr>\n",
       "    <tr>\n",
       "      <th>4</th>\n",
       "      <td>3</td>\n",
       "      <td>1.000</td>\n",
       "      <td>1110.000</td>\n",
       "      <td>5000.000</td>\n",
       "      <td>1.500</td>\n",
       "      <td>False</td>\n",
       "      <td>0</td>\n",
       "      <td>3</td>\n",
       "      <td>7</td>\n",
       "      <td>1110.000</td>\n",
       "      <td>...</td>\n",
       "      <td>47.655</td>\n",
       "      <td>-122.359</td>\n",
       "      <td>1420.000</td>\n",
       "      <td>5000.000</td>\n",
       "      <td>2015-04-09</td>\n",
       "      <td>560000</td>\n",
       "      <td>1324300398</td>\n",
       "      <td>504.505</td>\n",
       "      <td>112.000</td>\n",
       "      <td>3055.000</td>\n",
       "    </tr>\n",
       "    <tr>\n",
       "      <th>...</th>\n",
       "      <td>...</td>\n",
       "      <td>...</td>\n",
       "      <td>...</td>\n",
       "      <td>...</td>\n",
       "      <td>...</td>\n",
       "      <td>...</td>\n",
       "      <td>...</td>\n",
       "      <td>...</td>\n",
       "      <td>...</td>\n",
       "      <td>...</td>\n",
       "      <td>...</td>\n",
       "      <td>...</td>\n",
       "      <td>...</td>\n",
       "      <td>...</td>\n",
       "      <td>...</td>\n",
       "      <td>...</td>\n",
       "      <td>...</td>\n",
       "      <td>...</td>\n",
       "      <td>...</td>\n",
       "      <td>...</td>\n",
       "      <td>...</td>\n",
       "    </tr>\n",
       "    <tr>\n",
       "      <th>3316</th>\n",
       "      <td>4</td>\n",
       "      <td>3.250</td>\n",
       "      <td>1900.000</td>\n",
       "      <td>2631.000</td>\n",
       "      <td>2.000</td>\n",
       "      <td>False</td>\n",
       "      <td>0</td>\n",
       "      <td>3</td>\n",
       "      <td>9</td>\n",
       "      <td>1250.000</td>\n",
       "      <td>...</td>\n",
       "      <td>47.587</td>\n",
       "      <td>-122.311</td>\n",
       "      <td>1710.000</td>\n",
       "      <td>4502.000</td>\n",
       "      <td>2015-01-23</td>\n",
       "      <td>579000</td>\n",
       "      <td>3881900317</td>\n",
       "      <td>304.737</td>\n",
       "      <td>220.068</td>\n",
       "      <td>2265.500</td>\n",
       "    </tr>\n",
       "    <tr>\n",
       "      <th>3317</th>\n",
       "      <td>2</td>\n",
       "      <td>1.500</td>\n",
       "      <td>940.000</td>\n",
       "      <td>1768.000</td>\n",
       "      <td>2.000</td>\n",
       "      <td>False</td>\n",
       "      <td>0</td>\n",
       "      <td>3</td>\n",
       "      <td>7</td>\n",
       "      <td>940.000</td>\n",
       "      <td>...</td>\n",
       "      <td>47.593</td>\n",
       "      <td>-122.295</td>\n",
       "      <td>1130.000</td>\n",
       "      <td>1159.000</td>\n",
       "      <td>2014-06-23</td>\n",
       "      <td>362500</td>\n",
       "      <td>567000385</td>\n",
       "      <td>385.638</td>\n",
       "      <td>205.034</td>\n",
       "      <td>1354.000</td>\n",
       "    </tr>\n",
       "    <tr>\n",
       "      <th>3318</th>\n",
       "      <td>3</td>\n",
       "      <td>2.000</td>\n",
       "      <td>1490.000</td>\n",
       "      <td>1126.000</td>\n",
       "      <td>3.000</td>\n",
       "      <td>False</td>\n",
       "      <td>0</td>\n",
       "      <td>3</td>\n",
       "      <td>8</td>\n",
       "      <td>1490.000</td>\n",
       "      <td>...</td>\n",
       "      <td>47.570</td>\n",
       "      <td>-122.288</td>\n",
       "      <td>1400.000</td>\n",
       "      <td>1230.000</td>\n",
       "      <td>2015-01-26</td>\n",
       "      <td>429000</td>\n",
       "      <td>9834201367</td>\n",
       "      <td>287.919</td>\n",
       "      <td>380.995</td>\n",
       "      <td>1308.000</td>\n",
       "    </tr>\n",
       "    <tr>\n",
       "      <th>3319</th>\n",
       "      <td>2</td>\n",
       "      <td>0.750</td>\n",
       "      <td>1020.000</td>\n",
       "      <td>1350.000</td>\n",
       "      <td>2.000</td>\n",
       "      <td>False</td>\n",
       "      <td>0</td>\n",
       "      <td>3</td>\n",
       "      <td>7</td>\n",
       "      <td>1020.000</td>\n",
       "      <td>...</td>\n",
       "      <td>47.594</td>\n",
       "      <td>-122.299</td>\n",
       "      <td>1020.000</td>\n",
       "      <td>2007.000</td>\n",
       "      <td>2014-06-23</td>\n",
       "      <td>402101</td>\n",
       "      <td>1523300141</td>\n",
       "      <td>394.217</td>\n",
       "      <td>297.853</td>\n",
       "      <td>1185.000</td>\n",
       "    </tr>\n",
       "    <tr>\n",
       "      <th>3320</th>\n",
       "      <td>2</td>\n",
       "      <td>0.750</td>\n",
       "      <td>1020.000</td>\n",
       "      <td>1076.000</td>\n",
       "      <td>2.000</td>\n",
       "      <td>False</td>\n",
       "      <td>0</td>\n",
       "      <td>3</td>\n",
       "      <td>7</td>\n",
       "      <td>1020.000</td>\n",
       "      <td>...</td>\n",
       "      <td>47.594</td>\n",
       "      <td>-122.299</td>\n",
       "      <td>1020.000</td>\n",
       "      <td>1357.000</td>\n",
       "      <td>2014-10-15</td>\n",
       "      <td>325000</td>\n",
       "      <td>1523300157</td>\n",
       "      <td>318.627</td>\n",
       "      <td>302.045</td>\n",
       "      <td>1048.000</td>\n",
       "    </tr>\n",
       "  </tbody>\n",
       "</table>\n",
       "<p>3321 rows × 24 columns</p>\n",
       "</div>"
      ],
      "text/plain": [
       "      bedrooms  bathrooms  sqft_living  sqft_lot  floors  waterfront  view  \\\n",
       "0            5      2.000     1810.000  4850.000   1.500       False     0   \n",
       "1            4      2.000     2360.000  6000.000   2.000       False     0   \n",
       "2            4      3.500     2140.000  2278.000   3.000       False     0   \n",
       "3            3      2.250     1170.000  1249.000   3.000       False     0   \n",
       "4            3      1.000     1110.000  5000.000   1.500       False     0   \n",
       "...        ...        ...          ...       ...     ...         ...   ...   \n",
       "3316         4      3.250     1900.000  2631.000   2.000       False     0   \n",
       "3317         2      1.500      940.000  1768.000   2.000       False     0   \n",
       "3318         3      2.000     1490.000  1126.000   3.000       False     0   \n",
       "3319         2      0.750     1020.000  1350.000   2.000       False     0   \n",
       "3320         2      0.750     1020.000  1076.000   2.000       False     0   \n",
       "\n",
       "      condition  grade  sqft_above  ...    lat     long  sqft_living15  \\\n",
       "0             3      7    1810.000  ... 47.670 -122.394       1360.000   \n",
       "1             4      8    2360.000  ... 47.670 -122.362       1730.000   \n",
       "2             3      9    2140.000  ... 47.673 -122.380       1540.000   \n",
       "3             3      8    1170.000  ... 47.672 -122.381       1350.000   \n",
       "4             3      7    1110.000  ... 47.655 -122.359       1420.000   \n",
       "...         ...    ...         ...  ...    ...      ...            ...   \n",
       "3316          3      9    1250.000  ... 47.587 -122.311       1710.000   \n",
       "3317          3      7     940.000  ... 47.593 -122.295       1130.000   \n",
       "3318          3      8    1490.000  ... 47.570 -122.288       1400.000   \n",
       "3319          3      7    1020.000  ... 47.594 -122.299       1020.000   \n",
       "3320          3      7    1020.000  ... 47.594 -122.299       1020.000   \n",
       "\n",
       "      sqft_lot15       date   price    house_id  sqft_living_price  \\\n",
       "0       4850.000 2015-03-12  530000  1175000570            292.818   \n",
       "1       4700.000 2014-12-30  640000  2768000400            271.186   \n",
       "2       2285.000 2015-01-26  675000  2767602356            315.421   \n",
       "3       1310.000 2014-05-07  519950  2767603505            444.402   \n",
       "4       5000.000 2015-04-09  560000  1324300398            504.505   \n",
       "...          ...        ...     ...         ...                ...   \n",
       "3316    4502.000 2015-01-23  579000  3881900317            304.737   \n",
       "3317    1159.000 2014-06-23  362500   567000385            385.638   \n",
       "3318    1230.000 2015-01-26  429000  9834201367            287.919   \n",
       "3319    2007.000 2014-06-23  402101  1523300141            394.217   \n",
       "3320    1357.000 2014-10-15  325000  1523300157            318.627   \n",
       "\n",
       "     sqft_lot_price  total_sqft_price  \n",
       "0           109.278          3330.000  \n",
       "1           106.667          4180.000  \n",
       "2           296.313          2209.000  \n",
       "3           416.293          1209.500  \n",
       "4           112.000          3055.000  \n",
       "...             ...               ...  \n",
       "3316        220.068          2265.500  \n",
       "3317        205.034          1354.000  \n",
       "3318        380.995          1308.000  \n",
       "3319        297.853          1185.000  \n",
       "3320        302.045          1048.000  \n",
       "\n",
       "[3321 rows x 24 columns]"
      ]
     },
     "execution_count": 63,
     "metadata": {},
     "output_type": "execute_result"
    }
   ],
   "source": [
    "df_poor"
   ]
  },
  {
   "cell_type": "code",
   "execution_count": 64,
   "metadata": {},
   "outputs": [
    {
     "ename": "KeyError",
     "evalue": "'renovated'",
     "output_type": "error",
     "traceback": [
      "\u001b[31m---------------------------------------------------------------------------\u001b[39m",
      "\u001b[31mKeyError\u001b[39m                                  Traceback (most recent call last)",
      "\u001b[36mFile \u001b[39m\u001b[32m~/Schreibtisch/Bildung/Coding/neueFische/Exercises/Projects/.venv_EDA_Project/lib/python3.11/site-packages/pandas/core/indexes/base.py:3805\u001b[39m, in \u001b[36mIndex.get_loc\u001b[39m\u001b[34m(self, key)\u001b[39m\n\u001b[32m   3804\u001b[39m \u001b[38;5;28;01mtry\u001b[39;00m:\n\u001b[32m-> \u001b[39m\u001b[32m3805\u001b[39m     \u001b[38;5;28;01mreturn\u001b[39;00m \u001b[38;5;28;43mself\u001b[39;49m\u001b[43m.\u001b[49m\u001b[43m_engine\u001b[49m\u001b[43m.\u001b[49m\u001b[43mget_loc\u001b[49m\u001b[43m(\u001b[49m\u001b[43mcasted_key\u001b[49m\u001b[43m)\u001b[49m\n\u001b[32m   3806\u001b[39m \u001b[38;5;28;01mexcept\u001b[39;00m \u001b[38;5;167;01mKeyError\u001b[39;00m \u001b[38;5;28;01mas\u001b[39;00m err:\n",
      "\u001b[36mFile \u001b[39m\u001b[32mindex.pyx:167\u001b[39m, in \u001b[36mpandas._libs.index.IndexEngine.get_loc\u001b[39m\u001b[34m()\u001b[39m\n",
      "\u001b[36mFile \u001b[39m\u001b[32mindex.pyx:196\u001b[39m, in \u001b[36mpandas._libs.index.IndexEngine.get_loc\u001b[39m\u001b[34m()\u001b[39m\n",
      "\u001b[36mFile \u001b[39m\u001b[32mpandas/_libs/hashtable_class_helper.pxi:7081\u001b[39m, in \u001b[36mpandas._libs.hashtable.PyObjectHashTable.get_item\u001b[39m\u001b[34m()\u001b[39m\n",
      "\u001b[36mFile \u001b[39m\u001b[32mpandas/_libs/hashtable_class_helper.pxi:7089\u001b[39m, in \u001b[36mpandas._libs.hashtable.PyObjectHashTable.get_item\u001b[39m\u001b[34m()\u001b[39m\n",
      "\u001b[31mKeyError\u001b[39m: 'renovated'",
      "\nThe above exception was the direct cause of the following exception:\n",
      "\u001b[31mKeyError\u001b[39m                                  Traceback (most recent call last)",
      "\u001b[36mCell\u001b[39m\u001b[36m \u001b[39m\u001b[32mIn[64]\u001b[39m\u001b[32m, line 8\u001b[39m\n\u001b[32m      1\u001b[39m \u001b[38;5;66;03m#now lets plot, are later renovations elevating the house prices?\u001b[39;00m\n\u001b[32m      2\u001b[39m fig_sqprice_yr_renovated_scatter = (sns.regplot(data=df_poor, x=\u001b[33m'\u001b[39m\u001b[33myr_renovated\u001b[39m\u001b[33m'\u001b[39m, y=\u001b[33m'\u001b[39m\u001b[33mtotal_sqft_price\u001b[39m\u001b[33m'\u001b[39m,\n\u001b[32m      3\u001b[39m             scatter_kws = {\u001b[33m\"\u001b[39m\u001b[33mcolor\u001b[39m\u001b[33m\"\u001b[39m: \u001b[33m\"\u001b[39m\u001b[33mblue\u001b[39m\u001b[33m\"\u001b[39m, \u001b[33m\"\u001b[39m\u001b[33malpha\u001b[39m\u001b[33m\"\u001b[39m: \u001b[32m0.8\u001b[39m},\n\u001b[32m      4\u001b[39m             line_kws = {\u001b[33m\"\u001b[39m\u001b[33mcolor\u001b[39m\u001b[33m\"\u001b[39m: \u001b[33m\"\u001b[39m\u001b[33mred\u001b[39m\u001b[33m\"\u001b[39m}, ci=\u001b[32m98\u001b[39m),\n\u001b[32m      5\u001b[39m plt.title(\u001b[33m\"\u001b[39m\u001b[33mPrice per total-squarefeet vs. year renovated in poor neighborhoods\u001b[39m\u001b[33m\"\u001b[39m),\n\u001b[32m      6\u001b[39m plt.xlabel(\u001b[33m'\u001b[39m\u001b[33mYear of renovation\u001b[39m\u001b[33m'\u001b[39m),\n\u001b[32m      7\u001b[39m plt.ylabel(\u001b[33m'\u001b[39m\u001b[33mTotal price per squarefeet [USD]\u001b[39m\u001b[33m'\u001b[39m))\n\u001b[32m----> \u001b[39m\u001b[32m8\u001b[39m count_renov = df_poor[\u001b[43mdf_poor\u001b[49m\u001b[43m[\u001b[49m\u001b[33;43m'\u001b[39;49m\u001b[33;43mrenovated\u001b[39;49m\u001b[33;43m'\u001b[39;49m\u001b[43m]\u001b[49m == \u001b[38;5;28;01mTrue\u001b[39;00m][\u001b[33m'\u001b[39m\u001b[33mrenovated\u001b[39m\u001b[33m'\u001b[39m].count()\n\u001b[32m      9\u001b[39m plt.savefig(\u001b[33m\"\u001b[39m\u001b[33mfig_sqprice_yr_renovated_scatter\u001b[39m\u001b[33m\"\u001b[39m, dpi=\u001b[32m300\u001b[39m)\n\u001b[32m     10\u001b[39m \u001b[38;5;28mprint\u001b[39m(\u001b[33m'\u001b[39m\u001b[33mA total of\u001b[39m\u001b[33m'\u001b[39m,count_renov,\u001b[33m'\u001b[39m\u001b[33mhouses have been renovated in the poor neighborhoods \u001b[39m\u001b[38;5;130;01m\\n\u001b[39;00m\u001b[33m'\u001b[39m\n\u001b[32m     11\u001b[39m \u001b[33m'\u001b[39m\u001b[33mand the correlation between the price and the year of renovation is\u001b[39m\u001b[33m'\u001b[39m, corr_price_renov_poor,\u001b[33m'\u001b[39m\u001b[33m:\u001b[39m\u001b[33m'\u001b[39m)\n",
      "\u001b[36mFile \u001b[39m\u001b[32m~/Schreibtisch/Bildung/Coding/neueFische/Exercises/Projects/.venv_EDA_Project/lib/python3.11/site-packages/pandas/core/frame.py:4102\u001b[39m, in \u001b[36mDataFrame.__getitem__\u001b[39m\u001b[34m(self, key)\u001b[39m\n\u001b[32m   4100\u001b[39m \u001b[38;5;28;01mif\u001b[39;00m \u001b[38;5;28mself\u001b[39m.columns.nlevels > \u001b[32m1\u001b[39m:\n\u001b[32m   4101\u001b[39m     \u001b[38;5;28;01mreturn\u001b[39;00m \u001b[38;5;28mself\u001b[39m._getitem_multilevel(key)\n\u001b[32m-> \u001b[39m\u001b[32m4102\u001b[39m indexer = \u001b[38;5;28;43mself\u001b[39;49m\u001b[43m.\u001b[49m\u001b[43mcolumns\u001b[49m\u001b[43m.\u001b[49m\u001b[43mget_loc\u001b[49m\u001b[43m(\u001b[49m\u001b[43mkey\u001b[49m\u001b[43m)\u001b[49m\n\u001b[32m   4103\u001b[39m \u001b[38;5;28;01mif\u001b[39;00m is_integer(indexer):\n\u001b[32m   4104\u001b[39m     indexer = [indexer]\n",
      "\u001b[36mFile \u001b[39m\u001b[32m~/Schreibtisch/Bildung/Coding/neueFische/Exercises/Projects/.venv_EDA_Project/lib/python3.11/site-packages/pandas/core/indexes/base.py:3812\u001b[39m, in \u001b[36mIndex.get_loc\u001b[39m\u001b[34m(self, key)\u001b[39m\n\u001b[32m   3807\u001b[39m     \u001b[38;5;28;01mif\u001b[39;00m \u001b[38;5;28misinstance\u001b[39m(casted_key, \u001b[38;5;28mslice\u001b[39m) \u001b[38;5;129;01mor\u001b[39;00m (\n\u001b[32m   3808\u001b[39m         \u001b[38;5;28misinstance\u001b[39m(casted_key, abc.Iterable)\n\u001b[32m   3809\u001b[39m         \u001b[38;5;129;01mand\u001b[39;00m \u001b[38;5;28many\u001b[39m(\u001b[38;5;28misinstance\u001b[39m(x, \u001b[38;5;28mslice\u001b[39m) \u001b[38;5;28;01mfor\u001b[39;00m x \u001b[38;5;129;01min\u001b[39;00m casted_key)\n\u001b[32m   3810\u001b[39m     ):\n\u001b[32m   3811\u001b[39m         \u001b[38;5;28;01mraise\u001b[39;00m InvalidIndexError(key)\n\u001b[32m-> \u001b[39m\u001b[32m3812\u001b[39m     \u001b[38;5;28;01mraise\u001b[39;00m \u001b[38;5;167;01mKeyError\u001b[39;00m(key) \u001b[38;5;28;01mfrom\u001b[39;00m\u001b[38;5;250m \u001b[39m\u001b[34;01merr\u001b[39;00m\n\u001b[32m   3813\u001b[39m \u001b[38;5;28;01mexcept\u001b[39;00m \u001b[38;5;167;01mTypeError\u001b[39;00m:\n\u001b[32m   3814\u001b[39m     \u001b[38;5;66;03m# If we have a listlike key, _check_indexing_error will raise\u001b[39;00m\n\u001b[32m   3815\u001b[39m     \u001b[38;5;66;03m#  InvalidIndexError. Otherwise we fall through and re-raise\u001b[39;00m\n\u001b[32m   3816\u001b[39m     \u001b[38;5;66;03m#  the TypeError.\u001b[39;00m\n\u001b[32m   3817\u001b[39m     \u001b[38;5;28mself\u001b[39m._check_indexing_error(key)\n",
      "\u001b[31mKeyError\u001b[39m: 'renovated'"
     ]
    },
    {
     "data": {
      "image/png": "[encoded data removed]",
      "text/plain": [
       "<Figure size 800x500 with 1 Axes>"
      ]
     },
     "metadata": {},
     "output_type": "display_data"
    }
   ],
   "source": [
    "#now lets plot, are later renovations elevating the house prices?\n",
    "fig_sqprice_yr_renovated_scatter = (sns.regplot(data=df_poor, x='yr_renovated', y='total_sqft_price',\n",
    "            scatter_kws = {\"color\": \"blue\", \"alpha\": 0.8},\n",
    "            line_kws = {\"color\": \"red\"}, ci=98),\n",
    "plt.title(\"Price per total-squarefeet vs. year renovated in poor neighborhoods\"),\n",
    "plt.xlabel('Year of renovation'),\n",
    "plt.ylabel('Total price per squarefeet [USD]'))\n",
    "count_renov = df_poor[df_poor['renovated'] == True]['renovated'].count()\n",
    "plt.savefig(\"fig_sqprice_yr_renovated_scatter\", dpi=300)\n",
    "print('A total of',count_renov,'houses have been renovated in the poor neighborhoods \\n'\n",
    "'and the correlation between the price and the year of renovation is', corr_price_renov_poor,':')"
   ]
  },
  {
   "cell_type": "code",
   "execution_count": null,
   "metadata": {},
   "outputs": [],
   "source": [
    "sns.barplot(data=df_poor, x='renovated', y='total_sqft_price', hue='zipcode', palette='colorblind')"
   ]
  },
  {
   "cell_type": "code",
   "execution_count": null,
   "metadata": {},
   "outputs": [],
   "source": [
    "fig_sqprice_renovated_bar = (sns.catplot(\n",
    "    data=df_poor, kind=\"bar\",\n",
    "    x=\"zipcode\", y=\"total_sqft_price\", hue=\"renovated\",\n",
    "    errorbar=('ci', 95), palette=\"colorblind\", alpha=.6, height=8, capsize=.2), \n",
    "plt.title(\"Total Squarefeet prices in poor neighborhoods of renovated and unrenovated houses\"),\n",
    "plt.xlabel('Zipcode of neighborhood'),\n",
    "plt.ylabel('Total price per squarefeet [USD]'))\n",
    "#plt.legend(title=\"Have been renovated\")\n",
    "plt.savefig(\"fig_sqprice_renovated_bar\", dpi=300)\n"
   ]
  },
  {
   "cell_type": "code",
   "execution_count": null,
   "metadata": {},
   "outputs": [],
   "source": [
    "fig_price_renovated_bar = (sns.catplot(\n",
    "    data=df_poor, kind=\"bar\",\n",
    "    x=\"zipcode\", y=\"price\", hue=\"renovated\",\n",
    "    errorbar=('ci', 95), palette=\"rainbow\", alpha=1, height=8, capsize=.2), \n",
    "plt.title(\"Total house prices in poor neighborhoods of renovated and unrenovated houses\"),\n",
    "plt.xlabel('Zipcode of neighborhood'),\n",
    "plt.ylabel('Total house price [USD]'))"
   ]
  },
  {
   "cell_type": "code",
   "execution_count": null,
   "metadata": {},
   "outputs": [],
   "source": [
    "sns.boxplot(data=df_poor, x='yr_renovated', y='price')"
   ]
  },
  {
   "cell_type": "code",
   "execution_count": null,
   "metadata": {},
   "outputs": [],
   "source": [
    "# well, this somehow also means, the increase in value is about 2,6%-....internet says the return of investion (ROI) is:\n",
    "# ROI= (Value Increase−Cost of Renovation)/Cost of Renovation ×100%\n",
    "# and an renovating multiple rooms, in particular kitchens brings the most profit, followed from bathroom Remodels and roof repairs"
   ]
  },
  {
   "cell_type": "code",
   "execution_count": null,
   "metadata": {},
   "outputs": [],
   "source": []
  },
  {
   "cell_type": "markdown",
   "metadata": {},
   "source": [
    "\n",
    "\n",
    "3. Renovating a house increases its worth, independent of the region it is located in.<b>\n"
   ]
  },
  {
   "cell_type": "code",
   "execution_count": null,
   "metadata": {},
   "outputs": [],
   "source": [
    "#create a scatter plot demonstrating the prices vs. the year renovated:\n",
    "\n",
    "sns.set(style=\"whitegrid\")\n",
    "\n",
    "plt.figure(figsize=(10, 6)) \n",
    "\n",
    "sns.scatterplot(data=db_request, x='yr_renovated', y='total_sqft_price', hue=\"zipcode\")\n",
    "\n",
    "# Ästhetik des Plots anpassen\n",
    "plt.title(\"Price vs. year renovated\")\n",
    "plt.xlabel('year of renovation')\n",
    "plt.ylabel('total house price')\n",
    "plt.legend(title=\"Zipcode\")  # Legende für die Farben einfügen\n",
    "\n",
    "corr_price_renov = db_request['yr_renovated'].corr(db_request['total_sqft_price'])\n",
    "plt.show(), print('The correlation is', corr_price_renov)\n",
    "\n"
   ]
  },
  {
   "cell_type": "code",
   "execution_count": null,
   "metadata": {},
   "outputs": [],
   "source": [
    "sns.regplot(data=db_request, x='yr_renovated', y='total_sqft_price',\n",
    "            scatter_kws = {\"color\": \"green\", \"alpha\": 0.8},\n",
    "            line_kws = {\"color\": \"blue\"}, ci=98)\n",
    "plt.title(\"Price per total-squarefeet vs. year renovated in whole Kings County\")\n",
    "plt.xlabel('Year of renovation'),\n",
    "plt.ylabel('Total price per squarefeet [USD]')\n",
    "print('The correlation is', corr_price_renov)"
   ]
  },
  {
   "cell_type": "code",
   "execution_count": null,
   "metadata": {},
   "outputs": [],
   "source": [
    "fig_sqprice_renovated_bar = (sns.catplot(\n",
    "    data=db_request, kind=\"bar\",\n",
    "    x=\"renovated\", y=\"total_sqft_price\", hue=\"renovated\",\n",
    "    errorbar=('ci', 95), palette=\"dark\", alpha=.6, height=8, capsize=.2), \n",
    "plt.title(\"Total Squarefeet prices of renovated and unrenovated houses in Kings County\"),\n",
    "plt.xlabel('Renovated'),\n",
    "plt.ylabel('Total squarefeet price [USD]'))"
   ]
  },
  {
   "cell_type": "code",
   "execution_count": null,
   "metadata": {},
   "outputs": [],
   "source": [
    "fig_sqprice_renovated_bar = (sns.catplot(\n",
    "    data=db_request, kind=\"bar\",\n",
    "    x=\"renovated\", y=\"price\", hue=\"renovated\",\n",
    "    errorbar=('ci', 95), palette=\"rainbow\", alpha=.6, height=8, capsize=.2), \n",
    "plt.title(\"Total house prices in Kings County of renovated and unrenovated houses\"),\n",
    "plt.xlabel('Renovated'),\n",
    "plt.ylabel('Total house price [USD]'))"
   ]
  },
  {
   "cell_type": "markdown",
   "metadata": {},
   "source": [
    "## Coming to an end:\n",
    "\n",
    "Therefore, I will analyse my DB for:\n",
    "* <span style=\"color:black\"> zip codes, where houses are significantly cheaper compared to the average in the distance to the city center?\n",
    "* <span style=\"color:black\"> houses, which weren't renovated for a very long time and/or are in a bad (not worst) overall condition and/or have a low (not worst) overall grade? <br>\n",
    "* <span style=\"color:black\"> investigate the relative profit per region a renovation does to estimate the \"minimal profit\"?"
   ]
  },
  {
   "cell_type": "code",
   "execution_count": null,
   "metadata": {},
   "outputs": [],
   "source": [
    "#renovating multiple rooms, in particular kitchens brings the most profit, followed from bathroom Remodels and roof repairs\n",
    "total_sqft_price_q1 = db_request.total_sqft_price.quantile(0.25)\n",
    "prefinal_recom = df_poor[(df_poor['total_sqft_price']<=total_sqft_price_q1)&(df_poor['yr_renovated'].isna()) & (df_poor['condition']==2) & (df_poor['grade']<=7) & (df_poor['bedrooms']>=3)][['house_id','zipcode','bedrooms','bathrooms','yr_renovated', 'price']]\n",
    "final_plot = df_poor[(df_poor['total_sqft_price']<=total_sqft_price_q1)&(df_poor['yr_renovated'].isna()) & (df_poor['condition']==2) & (df_poor['grade']<=7) & (df_poor['bedrooms']>=3)&(df_poor['bathrooms']<3)]\n",
    "\n",
    "prefinal_recom"
   ]
  },
  {
   "cell_type": "code",
   "execution_count": null,
   "metadata": {},
   "outputs": [],
   "source": []
  },
  {
   "cell_type": "markdown",
   "metadata": {},
   "source": [
    "# Final recommendations:\n"
   ]
  },
  {
   "cell_type": "code",
   "execution_count": null,
   "metadata": {},
   "outputs": [],
   "source": [
    "final_recom = df_poor[(df_poor['total_sqft_price']<=total_sqft_price_q1)&(df_poor['yr_renovated'].isna()) & (df_poor['condition']==2) & (df_poor['grade']<=7) & (df_poor['bedrooms']>=3)&(df_poor['bathrooms']<3)][['house_id','zipcode','bedrooms','bathrooms','yr_renovated', 'price']]\n",
    "final_recom"
   ]
  },
  {
   "cell_type": "code",
   "execution_count": null,
   "metadata": {},
   "outputs": [],
   "source": [
    "import plotly.express as px\n",
    "\n",
    "\n",
    "fig_final = px.scatter_mapbox(final_plot,\n",
    "                           lat=final_plot.lat,\n",
    "                           lon=final_plot.long,\n",
    "                           title='Final recommendation of houses to buy, renovate and re-sell for community support',\n",
    "                           mapbox_style='open-street-map', zoom=11,color='price',\n",
    "                           color_continuous_scale=px.colors.cyclical.IceFire, \n",
    "                           size='grade', size_max=10,\n",
    "                           width=900,  # Set the width of the plot\n",
    "                           height=900,   # Set the height of the plot\n",
    "                           center={\"lat\": final_plot['lat'].mean(), \"lon\": final_plot['long'].mean()}\n",
    "                     )\n",
    "fig_final.show()"
   ]
  }
 ],
 "metadata": {
  "kernelspec": {
   "display_name": ".venv_EDA_Project",
   "language": "python",
   "name": "python3"
  },
  "language_info": {
   "codemirror_mode": {
    "name": "ipython",
    "version": 3
   },
   "file_extension": ".py",
   "mimetype": "text/x-python",
   "name": "python",
   "nbconvert_exporter": "python",
   "pygments_lexer": "ipython3",
   "version": "3.11.3"
  },
  "orig_nbformat": 4
 },
 "nbformat": 4,
 "nbformat_minor": 2
}
